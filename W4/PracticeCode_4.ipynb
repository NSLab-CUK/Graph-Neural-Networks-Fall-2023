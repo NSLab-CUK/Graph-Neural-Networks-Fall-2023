{
 "cells": [
  {
   "cell_type": "markdown",
   "source": [
    "# Graph Construction"
   ],
   "metadata": {
    "collapsed": false
   },
   "id": "ca317852c42a0515"
  },
  {
   "cell_type": "code",
   "execution_count": null,
   "outputs": [],
   "source": [
    "import networkx as nx\n",
    "from torch_geometric.datasets.planetoid import Planetoid\n",
    "from torch_geometric.datasets.aminer import AMiner\n",
    "from torch_geometric.utils import to_networkx, to_dense_adj"
   ],
   "metadata": {
    "collapsed": false
   },
   "id": "8e17bb24887c4df8"
  },
  {
   "cell_type": "code",
   "execution_count": null,
   "outputs": [],
   "source": [
    "# Cora Dataset for GraRep\n",
    "cora_data = Planetoid(root='/tmp/Cora', name='Cora')[0]"
   ],
   "metadata": {
    "collapsed": false
   },
   "id": "b1d9a3295cfa390"
  },
  {
   "cell_type": "code",
   "execution_count": null,
   "outputs": [],
   "source": [
    "cora_data"
   ],
   "metadata": {
    "collapsed": false
   },
   "id": "f4b85fe999f457e2"
  },
  {
   "cell_type": "code",
   "execution_count": null,
   "outputs": [],
   "source": [
    "cora_A = to_dense_adj(cora_data.edge_index)[0]"
   ],
   "metadata": {
    "collapsed": false
   },
   "id": "846cb64d62c27f2d"
  },
  {
   "cell_type": "code",
   "execution_count": null,
   "outputs": [],
   "source": [
    "cora_A.shape"
   ],
   "metadata": {
    "collapsed": false
   },
   "id": "e59e8e63251b00a5"
  },
  {
   "cell_type": "code",
   "execution_count": null,
   "outputs": [],
   "source": [
    "# AMiner Dataset for Metapath2vec\n",
    "aminer_data = AMiner(\"./\")[0]"
   ],
   "metadata": {
    "collapsed": false
   },
   "id": "e1d9a8ac39bf81cc"
  },
  {
   "cell_type": "code",
   "execution_count": null,
   "outputs": [],
   "source": [
    "aminer_data"
   ],
   "metadata": {
    "collapsed": false
   },
   "id": "f071f521cf8a2820"
  },
  {
   "cell_type": "markdown",
   "source": [
    "# Grarep"
   ],
   "metadata": {
    "collapsed": false
   },
   "id": "7a5cd951d51111a4"
  },
  {
   "cell_type": "code",
   "execution_count": null,
   "id": "initial_id",
   "metadata": {
    "collapsed": true
   },
   "outputs": [],
   "source": [
    "import math\n",
    "import numpy as np\n",
    "import pandas as pd\n",
    "from tqdm import tqdm\n",
    "from scipy import sparse\n",
    "from sklearn.decomposition import TruncatedSVD"
   ]
  },
  {
   "cell_type": "code",
   "execution_count": null,
   "outputs": [],
   "source": [
    "class GraRep(object):\n",
    "    def __init__(self, A, args):\n",
    "        \"\"\"\n",
    "        :param A: Adjacency matrix.\n",
    "        :param args: Arguments object.\n",
    "        \"\"\"\n",
    "        self.A = A\n",
    "        self.args = args\n",
    "        self._setup_base_target_matrix()\n",
    "\n",
    "    def _setup_base_target_matrix(self):\n",
    "        \"\"\"\n",
    "        Creating a base matrix to multiply.\n",
    "        \"\"\"\n",
    "        values = [1.0 for _ in range(self.A.shape[0])]\n",
    "        indices = [i for i in range(self.A.shape[0])]\n",
    "        self.A_hat = sparse.coo_matrix((values, (indices, indices)),\n",
    "                                       shape=self.A.shape,\n",
    "                                       dtype=np.float32)\n",
    "\n",
    "    def _create_target_matrix(self):\n",
    "        \"\"\"\n",
    "        Creating a log transformed target matrix.\n",
    "        :return target_matrix: Matrix to decompose with SVD.\n",
    "        \"\"\"\n",
    "        self.A_hat = sparse.coo_matrix(self.A_hat.dot(self.A))\n",
    "        scores = np.log(self.A_hat.data)-math.log(self.A.shape[0])\n",
    "        rows = self.A_hat.row[scores < 0]\n",
    "        cols = self.A_hat.col[scores < 0]\n",
    "        scores = scores[scores < 0]\n",
    "        target_matrix = sparse.coo_matrix((scores, (rows, cols)),\n",
    "                                          shape=self.A.shape,\n",
    "                                          dtype=np.float32)\n",
    "        return target_matrix\n",
    "\n",
    "    def optimize(self):\n",
    "        \"\"\"\n",
    "        Learning an embedding.\n",
    "        \"\"\"\n",
    "        print(\"\\nOptimization started.\\n\")\n",
    "        self.embeddings = []\n",
    "        for step in tqdm(range(self.args[\"order\"])):\n",
    "            target_matrix = self._create_target_matrix()\n",
    "\n",
    "            svd = TruncatedSVD(n_components=self.args[\"dim\"],\n",
    "                               n_iter=self.args[\"iter\"],\n",
    "                               random_state=self.args[\"seed\"])\n",
    "\n",
    "            svd.fit(target_matrix)\n",
    "            embedding = svd.transform(target_matrix)\n",
    "            self.embeddings.append(embedding)\n",
    "\n",
    "    def return_embedding(self):\n",
    "        \"\"\"\n",
    "        Return the embedding.\n",
    "        \"\"\"\n",
    "        print(\"\\nReturn embedding.\\n\")\n",
    "        self.embeddings = np.concatenate(self.embeddings, axis=1)\n",
    "        column_count = self.args[\"order\"] * self.args[\"dim\"]\n",
    "        columns = [\"ID\"] + [\"x_\" + str(col) for col in range(column_count)]\n",
    "        ids = np.array([i for i in range(self.A.shape[0])]).reshape(-1,1)\n",
    "        self.embeddings = np.concatenate([ids, self.embeddings], axis=1)\n",
    "        self.embeddings = pd.DataFrame(self.embeddings, columns=columns)\n",
    "        \n",
    "        return self.embeddings"
   ],
   "metadata": {
    "collapsed": false
   },
   "id": "2f608877158f33f5"
  },
  {
   "cell_type": "code",
   "execution_count": null,
   "outputs": [],
   "source": [
    "args = {\n",
    "    \"dim\": 16,\n",
    "    \"order\": 5,\n",
    "    \"seed\": 42,\n",
    "    \"iter\": 20\n",
    "}\n",
    "\n",
    "grarep = GraRep(cora_A, args)\n",
    "\n",
    "grarep.optimize()"
   ],
   "metadata": {
    "collapsed": false
   },
   "id": "97a59ea984b1429d"
  },
  {
   "cell_type": "code",
   "execution_count": null,
   "outputs": [],
   "source": [
    "grarep_emb_csv = grarep.return_embedding()"
   ],
   "metadata": {
    "collapsed": false
   },
   "id": "aaf97ea4761029a5"
  },
  {
   "cell_type": "code",
   "execution_count": null,
   "outputs": [],
   "source": [
    "grarep_emb_csv.head()"
   ],
   "metadata": {
    "collapsed": false
   },
   "id": "f03bfcd95f5a99ae"
  },
  {
   "cell_type": "markdown",
   "source": [
    "# Metapath2vec"
   ],
   "metadata": {
    "collapsed": false
   },
   "id": "d423619974950c2f"
  },
  {
   "cell_type": "code",
   "execution_count": null,
   "outputs": [],
   "source": [
    "import torch\n",
    "from torch_geometric.nn.models import MetaPath2Vec"
   ],
   "metadata": {
    "collapsed": false
   },
   "id": "109fb98138781029"
  },
  {
   "cell_type": "code",
   "execution_count": null,
   "outputs": [],
   "source": [
    "metapath = [\n",
    "    ('author', 'writes', 'paper'),\n",
    "    ('paper', 'published_in', 'venue'),\n",
    "    ('venue', 'publishes', 'paper'),\n",
    "    ('paper', 'written_by', 'author'),\n",
    "]\n",
    "\n",
    "device = 'cuda' if torch.cuda.is_available() else 'cpu'\n",
    "model = MetaPath2Vec(aminer_data.edge_index_dict, embedding_dim=128,\n",
    "                     metapath=metapath, walk_length=50, context_size=7,\n",
    "                     walks_per_node=5, num_negative_samples=5,\n",
    "                     sparse=True).to(device)\n",
    "\n",
    "loader = model.loader(batch_size=128, shuffle=True, num_workers=6)\n",
    "optimizer = torch.optim.SparseAdam(list(model.parameters()), lr=0.01)"
   ],
   "metadata": {
    "collapsed": false
   },
   "id": "9d3fa05717e41beb"
  },
  {
   "cell_type": "code",
   "execution_count": null,
   "outputs": [],
   "source": [
    "def train(epoch, log_steps=100, eval_steps=2000):\n",
    "    model.train()\n",
    "\n",
    "    total_loss = 0\n",
    "    for i, (pos_rw, neg_rw) in enumerate(loader):\n",
    "        optimizer.zero_grad()\n",
    "        loss = model.loss(pos_rw.to(device), neg_rw.to(device))\n",
    "        loss.backward()\n",
    "        optimizer.step()\n",
    "\n",
    "        total_loss += loss.item()\n",
    "        if (i + 1) % log_steps == 0:\n",
    "            print((f'Epoch: {epoch}, Step: {i + 1:05d}/{len(loader)}, '\n",
    "                   f'Loss: {total_loss / log_steps:.4f}'))\n",
    "            total_loss = 0\n",
    "\n",
    "        if (i + 1) % eval_steps == 0:\n",
    "            acc = test()\n",
    "            print((f'Epoch: {epoch}, Step: {i + 1:05d}/{len(loader)}, '\n",
    "                   f'Acc: {acc:.4f}'))\n",
    "\n",
    "\n",
    "@torch.no_grad()\n",
    "def test(train_ratio=0.1):\n",
    "    model.eval()\n",
    "\n",
    "    z = model('author', batch=aminer_data['author'].y_index.to(device))\n",
    "    y = aminer_data['author'].y\n",
    "\n",
    "    perm = torch.randperm(z.size(0))\n",
    "    train_perm = perm[:int(z.size(0) * train_ratio)]\n",
    "    test_perm = perm[int(z.size(0) * train_ratio):]\n",
    "\n",
    "    return model.test(z[train_perm], y[train_perm], z[test_perm], y[test_perm],\n",
    "                      max_iter=150)"
   ],
   "metadata": {
    "collapsed": false
   },
   "id": "a8c3cd370b66e38e"
  },
  {
   "cell_type": "code",
   "execution_count": null,
   "outputs": [],
   "source": [
    "for epoch in range(5):\n",
    "    train(epoch)\n",
    "    acc = test()\n",
    "    print(f'Epoch: {epoch}, Accuracy: {acc:.4f}')"
   ],
   "metadata": {
    "collapsed": false
   },
   "id": "cc6388b6e8eea402"
  },
  {
   "cell_type": "markdown",
   "source": [
    "# WL-relabeling"
   ],
   "metadata": {
    "collapsed": false
   },
   "id": "65fb0b725aece614"
  },
  {
   "cell_type": "code",
   "execution_count": null,
   "outputs": [],
   "source": [
    "def wlk_relabel(g,h):\n",
    "    '''\n",
    "    Perform node relabeling (coloring) according 1-d WL relabeling process (refer Shervashidze et al (2009) paper)\n",
    "    :param g: networkx graph\n",
    "    :param h: height of WL kernel\n",
    "    :return: relabeled graph\n",
    "    '''\n",
    "    for i in range(len(g.nodes)):\n",
    "        g.nodes[i]['relabel'] = {}\n",
    "        \n",
    "    for i in range(0,h+1): #xrange returns [min,max)\n",
    "        for n in range(len(g.nodes)):\n",
    "            # degree_prefix = 'D' + str(i)\n",
    "            degree_prefix = ''\n",
    "            if 0 == i:\n",
    "                g.nodes[n]['relabel'][0] = degree_prefix + str(g.nodes[n]['label']).strip() + degree_prefix\n",
    "            else:\n",
    "                nei_labels = [g.nodes[nei]['relabel'][i-1] for nei in nx.all_neighbors(g,n)]\n",
    "                nei_labels.sort()\n",
    "                sorted_nei_labels = (','*i).join(nei_labels)\n",
    "\n",
    "                current_in_relabel = g.nodes[n]['relabel'][i-1] +'#'*i+ sorted_nei_labels\n",
    "                g.nodes[n]['relabel'][i] = degree_prefix + current_in_relabel.strip() + degree_prefix\n",
    "    return g #relabled graph"
   ],
   "metadata": {
    "collapsed": false
   },
   "id": "87d18cc3298da7a9"
  },
  {
   "cell_type": "code",
   "execution_count": null,
   "outputs": [],
   "source": [
    "def fill_labels(G):\n",
    "    for i in range(len(G.nodes)):\n",
    "        G.nodes[i]['label'] = '1'"
   ],
   "metadata": {
    "collapsed": false
   },
   "id": "3194bea93078473c"
  },
  {
   "cell_type": "code",
   "execution_count": null,
   "outputs": [],
   "source": [
    "def draw_graph(G):\n",
    "    clubs = []  # list to populate with labels\n",
    "    for n in G.nodes:\n",
    "        c = G.nodes[n]['relabel']\n",
    "        print(f'Node ID {n}: colour: {c}')\n",
    "        col = 0\n",
    "        if c=='1':\n",
    "            clubs.append('green')\n",
    "        elif c =='2':\n",
    "            clubs.append('red')\n",
    "        else:\n",
    "            clubs.append('gray')\n",
    "    pos = nx.spring_layout(G, seed=42) # To be able to recreate the graph layout\n",
    "    nx.draw_networkx(G, pos=pos, node_color = clubs) # Plot the graph"
   ],
   "metadata": {
    "collapsed": false
   },
   "id": "3aefaf26ea60755b"
  },
  {
   "cell_type": "code",
   "execution_count": null,
   "outputs": [],
   "source": [
    "G = nx.Graph([\n",
    "    (0, 1),\n",
    "    (1 ,2), \n",
    "    (1 ,3),\n",
    "    (1 ,5),\n",
    "    (2 ,3),\n",
    "    (2 ,4),\n",
    "    (2 ,6),\n",
    "    (3 ,4),\n",
    "    (3 ,5),\n",
    "    (4 ,7),\n",
    "    (4 ,8),\n",
    "    (6 ,7)])\n",
    "fill_labels(G)\n",
    "nx.draw(G, with_labels = True)"
   ],
   "metadata": {
    "collapsed": false
   },
   "id": "d2825ef09443eda2"
  },
  {
   "cell_type": "code",
   "execution_count": null,
   "outputs": [],
   "source": [
    "relabeled_G = wlk_relabel(G, 1)"
   ],
   "metadata": {
    "collapsed": false
   },
   "id": "695b9ecb9bd7cd97"
  },
  {
   "cell_type": "code",
   "execution_count": null,
   "outputs": [],
   "source": [
    "draw_graph(relabeled_G)"
   ],
   "metadata": {
    "collapsed": false
   },
   "id": "4d6460c8eb2f74fb"
  },
  {
   "cell_type": "code",
   "execution_count": null,
   "outputs": [],
   "source": [],
   "metadata": {
    "collapsed": false
   },
   "id": "1b839178dcc0b835"
  }
 ],
 "metadata": {
  "kernelspec": {
   "display_name": "Python 3",
   "language": "python",
   "name": "python3"
  },
  "language_info": {
   "codemirror_mode": {
    "name": "ipython",
    "version": 2
   },
   "file_extension": ".py",
   "mimetype": "text/x-python",
   "name": "python",
   "nbconvert_exporter": "python",
   "pygments_lexer": "ipython2",
   "version": "2.7.6"
  }
 },
 "nbformat": 4,
 "nbformat_minor": 5
}
