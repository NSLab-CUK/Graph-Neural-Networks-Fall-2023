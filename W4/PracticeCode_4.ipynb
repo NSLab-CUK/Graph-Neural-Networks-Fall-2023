{
 "cells": [
  {
   "cell_type": "markdown",
   "id": "ca317852c42a0515",
   "metadata": {},
   "source": [
    "# 1. Graph Construction"
   ]
  },
  {
   "cell_type": "code",
   "execution_count": 4,
   "id": "a5d5c03c-f911-45cd-8eea-e2ebefc39533",
   "metadata": {},
   "outputs": [
    {
     "name": "stdout",
     "output_type": "stream",
     "text": [
      "Requirement already satisfied: gensim in c:\\users\\user\\anaconda3\\envs\\gnn5\\lib\\site-packages (4.3.2)\n",
      "Requirement already satisfied: numpy>=1.18.5 in c:\\users\\user\\anaconda3\\envs\\gnn5\\lib\\site-packages (from gensim) (1.24.4)\n",
      "Requirement already satisfied: scipy>=1.7.0 in c:\\users\\user\\anaconda3\\envs\\gnn5\\lib\\site-packages (from gensim) (1.10.1)\n",
      "Requirement already satisfied: smart-open>=1.8.1 in c:\\users\\user\\anaconda3\\envs\\gnn5\\lib\\site-packages (from gensim) (6.4.0)\n",
      "Requirement already satisfied: matplotlib in c:\\users\\user\\anaconda3\\envs\\gnn5\\lib\\site-packages (3.7.3)\n",
      "Requirement already satisfied: contourpy>=1.0.1 in c:\\users\\user\\anaconda3\\envs\\gnn5\\lib\\site-packages (from matplotlib) (1.1.1)\n",
      "Requirement already satisfied: cycler>=0.10 in c:\\users\\user\\anaconda3\\envs\\gnn5\\lib\\site-packages (from matplotlib) (0.11.0)\n",
      "Requirement already satisfied: fonttools>=4.22.0 in c:\\users\\user\\anaconda3\\envs\\gnn5\\lib\\site-packages (from matplotlib) (4.42.1)\n",
      "Requirement already satisfied: kiwisolver>=1.0.1 in c:\\users\\user\\anaconda3\\envs\\gnn5\\lib\\site-packages (from matplotlib) (1.4.5)\n",
      "Requirement already satisfied: numpy<2,>=1.20 in c:\\users\\user\\anaconda3\\envs\\gnn5\\lib\\site-packages (from matplotlib) (1.24.4)\n",
      "Requirement already satisfied: packaging>=20.0 in c:\\users\\user\\anaconda3\\envs\\gnn5\\lib\\site-packages (from matplotlib) (23.1)\n",
      "Requirement already satisfied: pillow>=6.2.0 in c:\\users\\user\\anaconda3\\envs\\gnn5\\lib\\site-packages (from matplotlib) (10.0.1)\n",
      "Requirement already satisfied: pyparsing>=2.3.1 in c:\\users\\user\\anaconda3\\envs\\gnn5\\lib\\site-packages (from matplotlib) (3.1.1)\n",
      "Requirement already satisfied: python-dateutil>=2.7 in c:\\users\\user\\anaconda3\\envs\\gnn5\\lib\\site-packages (from matplotlib) (2.8.2)\n",
      "Requirement already satisfied: importlib-resources>=3.2.0 in c:\\users\\user\\anaconda3\\envs\\gnn5\\lib\\site-packages (from matplotlib) (6.0.1)\n",
      "Requirement already satisfied: zipp>=3.1.0 in c:\\users\\user\\anaconda3\\envs\\gnn5\\lib\\site-packages (from importlib-resources>=3.2.0->matplotlib) (3.17.0)\n",
      "Requirement already satisfied: six>=1.5 in c:\\users\\user\\anaconda3\\envs\\gnn5\\lib\\site-packages (from python-dateutil>=2.7->matplotlib) (1.16.0)\n",
      "Requirement already satisfied: scikit-learn in c:\\users\\user\\anaconda3\\envs\\gnn5\\lib\\site-packages (1.3.0)\n",
      "Requirement already satisfied: numpy>=1.17.3 in c:\\users\\user\\anaconda3\\envs\\gnn5\\lib\\site-packages (from scikit-learn) (1.24.4)\n",
      "Requirement already satisfied: scipy>=1.5.0 in c:\\users\\user\\anaconda3\\envs\\gnn5\\lib\\site-packages (from scikit-learn) (1.10.1)\n",
      "Requirement already satisfied: joblib>=1.1.1 in c:\\users\\user\\anaconda3\\envs\\gnn5\\lib\\site-packages (from scikit-learn) (1.3.2)\n",
      "Requirement already satisfied: threadpoolctl>=2.0.0 in c:\\users\\user\\anaconda3\\envs\\gnn5\\lib\\site-packages (from scikit-learn) (3.2.0)\n",
      "Requirement already satisfied: torch_geometric in c:\\users\\user\\anaconda3\\envs\\gnn5\\lib\\site-packages (2.3.1)\n",
      "Requirement already satisfied: tqdm in c:\\users\\user\\anaconda3\\envs\\gnn5\\lib\\site-packages (from torch_geometric) (4.66.1)\n",
      "Requirement already satisfied: numpy in c:\\users\\user\\anaconda3\\envs\\gnn5\\lib\\site-packages (from torch_geometric) (1.24.4)\n",
      "Requirement already satisfied: scipy in c:\\users\\user\\anaconda3\\envs\\gnn5\\lib\\site-packages (from torch_geometric) (1.10.1)\n",
      "Requirement already satisfied: jinja2 in c:\\users\\user\\anaconda3\\envs\\gnn5\\lib\\site-packages (from torch_geometric) (3.1.2)\n",
      "Requirement already satisfied: requests in c:\\users\\user\\anaconda3\\envs\\gnn5\\lib\\site-packages (from torch_geometric) (2.31.0)\n",
      "Requirement already satisfied: pyparsing in c:\\users\\user\\anaconda3\\envs\\gnn5\\lib\\site-packages (from torch_geometric) (3.1.1)\n",
      "Requirement already satisfied: scikit-learn in c:\\users\\user\\anaconda3\\envs\\gnn5\\lib\\site-packages (from torch_geometric) (1.3.0)\n",
      "Requirement already satisfied: psutil>=5.8.0 in c:\\users\\user\\anaconda3\\envs\\gnn5\\lib\\site-packages (from torch_geometric) (5.9.5)\n",
      "Requirement already satisfied: MarkupSafe>=2.0 in c:\\users\\user\\anaconda3\\envs\\gnn5\\lib\\site-packages (from jinja2->torch_geometric) (2.1.3)\n",
      "Requirement already satisfied: charset-normalizer<4,>=2 in c:\\users\\user\\anaconda3\\envs\\gnn5\\lib\\site-packages (from requests->torch_geometric) (3.2.0)\n",
      "Requirement already satisfied: idna<4,>=2.5 in c:\\users\\user\\anaconda3\\envs\\gnn5\\lib\\site-packages (from requests->torch_geometric) (3.4)\n",
      "Requirement already satisfied: urllib3<3,>=1.21.1 in c:\\users\\user\\anaconda3\\envs\\gnn5\\lib\\site-packages (from requests->torch_geometric) (2.0.4)\n",
      "Requirement already satisfied: certifi>=2017.4.17 in c:\\users\\user\\anaconda3\\envs\\gnn5\\lib\\site-packages (from requests->torch_geometric) (2023.7.22)\n",
      "Requirement already satisfied: joblib>=1.1.1 in c:\\users\\user\\anaconda3\\envs\\gnn5\\lib\\site-packages (from scikit-learn->torch_geometric) (1.3.2)\n",
      "Requirement already satisfied: threadpoolctl>=2.0.0 in c:\\users\\user\\anaconda3\\envs\\gnn5\\lib\\site-packages (from scikit-learn->torch_geometric) (3.2.0)\n",
      "Requirement already satisfied: colorama in c:\\users\\user\\anaconda3\\envs\\gnn5\\lib\\site-packages (from tqdm->torch_geometric) (0.4.6)\n",
      "Requirement already satisfied: networkx in c:\\users\\user\\anaconda3\\envs\\gnn5\\lib\\site-packages (3.1)\n",
      "Requirement already satisfied: torch in c:\\users\\user\\anaconda3\\envs\\gnn5\\lib\\site-packages (2.0.1)\n",
      "Requirement already satisfied: torchvision in c:\\users\\user\\anaconda3\\envs\\gnn5\\lib\\site-packages (0.15.2)\n",
      "Requirement already satisfied: torchaudio in c:\\users\\user\\anaconda3\\envs\\gnn5\\lib\\site-packages (2.0.2)\n",
      "Requirement already satisfied: filelock in c:\\users\\user\\anaconda3\\envs\\gnn5\\lib\\site-packages (from torch) (3.12.4)\n",
      "Requirement already satisfied: typing-extensions in c:\\users\\user\\anaconda3\\envs\\gnn5\\lib\\site-packages (from torch) (4.8.0)\n",
      "Requirement already satisfied: sympy in c:\\users\\user\\anaconda3\\envs\\gnn5\\lib\\site-packages (from torch) (1.12)\n",
      "Requirement already satisfied: networkx in c:\\users\\user\\anaconda3\\envs\\gnn5\\lib\\site-packages (from torch) (3.1)\n",
      "Requirement already satisfied: jinja2 in c:\\users\\user\\anaconda3\\envs\\gnn5\\lib\\site-packages (from torch) (3.1.2)\n",
      "Requirement already satisfied: numpy in c:\\users\\user\\anaconda3\\envs\\gnn5\\lib\\site-packages (from torchvision) (1.24.4)\n",
      "Requirement already satisfied: requests in c:\\users\\user\\anaconda3\\envs\\gnn5\\lib\\site-packages (from torchvision) (2.31.0)\n",
      "Requirement already satisfied: pillow!=8.3.*,>=5.3.0 in c:\\users\\user\\anaconda3\\envs\\gnn5\\lib\\site-packages (from torchvision) (10.0.1)\n",
      "Requirement already satisfied: MarkupSafe>=2.0 in c:\\users\\user\\anaconda3\\envs\\gnn5\\lib\\site-packages (from jinja2->torch) (2.1.3)\n",
      "Requirement already satisfied: charset-normalizer<4,>=2 in c:\\users\\user\\anaconda3\\envs\\gnn5\\lib\\site-packages (from requests->torchvision) (3.2.0)\n",
      "Requirement already satisfied: idna<4,>=2.5 in c:\\users\\user\\anaconda3\\envs\\gnn5\\lib\\site-packages (from requests->torchvision) (3.4)\n",
      "Requirement already satisfied: urllib3<3,>=1.21.1 in c:\\users\\user\\anaconda3\\envs\\gnn5\\lib\\site-packages (from requests->torchvision) (2.0.4)\n",
      "Requirement already satisfied: certifi>=2017.4.17 in c:\\users\\user\\anaconda3\\envs\\gnn5\\lib\\site-packages (from requests->torchvision) (2023.7.22)\n",
      "Requirement already satisfied: mpmath>=0.19 in c:\\users\\user\\anaconda3\\envs\\gnn5\\lib\\site-packages (from sympy->torch) (1.3.0)\n",
      "Looking in links: https://pytorch-geometric.com/whl/torch-2.0.1+cpu.html\n",
      "Requirement already satisfied: torch-sparse in c:\\users\\user\\anaconda3\\envs\\gnn5\\lib\\site-packages (0.6.17+pt20cpu)\n",
      "Requirement already satisfied: scipy in c:\\users\\user\\anaconda3\\envs\\gnn5\\lib\\site-packages (from torch-sparse) (1.10.1)\n",
      "Requirement already satisfied: numpy<1.27.0,>=1.19.5 in c:\\users\\user\\anaconda3\\envs\\gnn5\\lib\\site-packages (from scipy->torch-sparse) (1.24.4)\n",
      "Looking in links: https://pytorch-geometric.com/whl/torch-2.0.1+cpu.html\n",
      "Requirement already satisfied: torch-scatter in c:\\users\\user\\anaconda3\\envs\\gnn5\\lib\\site-packages (2.1.1+pt20cpu)\n",
      "Looking in links: https://pytorch-geometric.com/whl/torch-2.0.1+cpu.html\n",
      "Requirement already satisfied: torch-cluster in c:\\users\\user\\anaconda3\\envs\\gnn5\\lib\\site-packages (1.6.1+pt20cpu)\n",
      "Requirement already satisfied: scipy in c:\\users\\user\\anaconda3\\envs\\gnn5\\lib\\site-packages (from torch-cluster) (1.10.1)\n",
      "Requirement already satisfied: numpy<1.27.0,>=1.19.5 in c:\\users\\user\\anaconda3\\envs\\gnn5\\lib\\site-packages (from scipy->torch-cluster) (1.24.4)\n",
      "Looking in links: https://pytorch-geometric.com/whl/torch-2.0.1+cpu.html\n",
      "Requirement already satisfied: torch-spline-conv in c:\\users\\user\\anaconda3\\envs\\gnn5\\lib\\site-packages (1.2.2+pt20cpu)\n"
     ]
    }
   ],
   "source": [
    "!pip install gensim\n",
    "!pip install matplotlib\n",
    "!pip install -U scikit-learn\n",
    "!pip install torch_geometric\n",
    "!pip install networkx\n",
    "!pip3 install torch torchvision torchaudio\n",
    "!pip install --no-index torch-sparse -f https://pytorch-geometric.com/whl/torch-2.0.1+cpu.html\n",
    "!pip install --no-index torch-scatter -f https://pytorch-geometric.com/whl/torch-2.0.1+cpu.html\n",
    "!pip install --no-index torch-cluster -f https://pytorch-geometric.com/whl/torch-2.0.1+cpu.html\n",
    "!pip install --no-index torch-spline-conv -f https://pytorch-geometric.com/whl/torch-2.0.1+cpu.html"
   ]
  },
  {
   "cell_type": "code",
   "execution_count": 5,
   "id": "8e17bb24887c4df8",
   "metadata": {},
   "outputs": [],
   "source": [
    "import networkx as nx\n",
    "from torch_geometric.datasets.planetoid import Planetoid\n",
    "from torch_geometric.datasets.aminer import AMiner\n",
    "from torch_geometric.utils import to_networkx, to_dense_adj"
   ]
  },
  {
   "cell_type": "code",
   "execution_count": 6,
   "id": "b1d9a3295cfa390",
   "metadata": {},
   "outputs": [],
   "source": [
    "# Cora Dataset for GraRep\n",
    "cora_data = Planetoid(root='/tmp/Cora', name='Cora')[0]"
   ]
  },
  {
   "cell_type": "code",
   "execution_count": 7,
   "id": "f4b85fe999f457e2",
   "metadata": {},
   "outputs": [
    {
     "data": {
      "text/plain": [
       "Data(x=[2708, 1433], edge_index=[2, 10556], y=[2708], train_mask=[2708], val_mask=[2708], test_mask=[2708])"
      ]
     },
     "execution_count": 7,
     "metadata": {},
     "output_type": "execute_result"
    }
   ],
   "source": [
    "cora_data"
   ]
  },
  {
   "cell_type": "code",
   "execution_count": 8,
   "id": "846cb64d62c27f2d",
   "metadata": {},
   "outputs": [],
   "source": [
    "cora_A = to_dense_adj(cora_data.edge_index)[0]"
   ]
  },
  {
   "cell_type": "code",
   "execution_count": 9,
   "id": "e59e8e63251b00a5",
   "metadata": {},
   "outputs": [
    {
     "data": {
      "text/plain": [
       "torch.Size([2708, 2708])"
      ]
     },
     "execution_count": 9,
     "metadata": {},
     "output_type": "execute_result"
    }
   ],
   "source": [
    "cora_A.shape"
   ]
  },
  {
   "cell_type": "code",
   "execution_count": 11,
   "id": "e1d9a8ac39bf81cc",
   "metadata": {},
   "outputs": [
    {
     "name": "stdout",
     "output_type": "stream",
     "text": [
      "Collecting pandas\n",
      "  Obtaining dependency information for pandas from https://files.pythonhosted.org/packages/c3/6c/ea362eef61f05553aaf1a24b3e96b2d0603f5dc71a3bd35688a24ed88843/pandas-2.0.3-cp38-cp38-win_amd64.whl.metadata\n",
      "  Using cached pandas-2.0.3-cp38-cp38-win_amd64.whl.metadata (18 kB)\n",
      "Requirement already satisfied: python-dateutil>=2.8.2 in c:\\users\\user\\anaconda3\\envs\\gnn5\\lib\\site-packages (from pandas) (2.8.2)\n",
      "Requirement already satisfied: pytz>=2020.1 in c:\\users\\user\\anaconda3\\envs\\gnn5\\lib\\site-packages (from pandas) (2023.3.post1)\n",
      "Collecting tzdata>=2022.1 (from pandas)\n",
      "  Using cached tzdata-2023.3-py2.py3-none-any.whl (341 kB)\n",
      "Requirement already satisfied: numpy>=1.20.3 in c:\\users\\user\\anaconda3\\envs\\gnn5\\lib\\site-packages (from pandas) (1.24.4)\n",
      "Requirement already satisfied: six>=1.5 in c:\\users\\user\\anaconda3\\envs\\gnn5\\lib\\site-packages (from python-dateutil>=2.8.2->pandas) (1.16.0)\n",
      "Using cached pandas-2.0.3-cp38-cp38-win_amd64.whl (10.8 MB)\n",
      "Installing collected packages: tzdata, pandas\n",
      "Successfully installed pandas-2.0.3 tzdata-2023.3\n"
     ]
    },
    {
     "name": "stderr",
     "output_type": "stream",
     "text": [
      "Processing...\n",
      "Done!\n"
     ]
    }
   ],
   "source": [
    "# AMiner Dataset for Metapath2vec\n",
    "!pip install pandas\n",
    "aminer_data = AMiner(\"./\")[0]"
   ]
  },
  {
   "cell_type": "code",
   "execution_count": 12,
   "id": "f071f521cf8a2820",
   "metadata": {},
   "outputs": [
    {
     "data": {
      "text/plain": [
       "HeteroData(\n",
       "  \u001b[1mauthor\u001b[0m={\n",
       "    y=[246678],\n",
       "    y_index=[246678],\n",
       "    num_nodes=1693531\n",
       "  },\n",
       "  \u001b[1mvenue\u001b[0m={\n",
       "    y=[134],\n",
       "    y_index=[134],\n",
       "    num_nodes=3883\n",
       "  },\n",
       "  \u001b[1mpaper\u001b[0m={ num_nodes=3194405 },\n",
       "  \u001b[1m(paper, written_by, author)\u001b[0m={ edge_index=[2, 9323605] },\n",
       "  \u001b[1m(author, writes, paper)\u001b[0m={ edge_index=[2, 9323605] },\n",
       "  \u001b[1m(paper, published_in, venue)\u001b[0m={ edge_index=[2, 3194405] },\n",
       "  \u001b[1m(venue, publishes, paper)\u001b[0m={ edge_index=[2, 3194405] }\n",
       ")"
      ]
     },
     "execution_count": 12,
     "metadata": {},
     "output_type": "execute_result"
    }
   ],
   "source": [
    "aminer_data"
   ]
  },
  {
   "cell_type": "markdown",
   "id": "d9eb6b81",
   "metadata": {},
   "source": [
    "# 2. An example of Computing Transition Matrix"
   ]
  },
  {
   "cell_type": "code",
   "execution_count": 13,
   "id": "6bdd482a",
   "metadata": {},
   "outputs": [
    {
     "data": {
      "image/png": "[encoded data removed]",
      "text/plain": [
       "<Figure size 640x480 with 1 Axes>"
      ]
     },
     "metadata": {},
     "output_type": "display_data"
    }
   ],
   "source": [
    "import networkx as nx\n",
    "import numpy as np\n",
    "\n",
    "from sklearn.preprocessing import normalize\n",
    "\n",
    "nx_g = nx.Graph()\n",
    "\n",
    "nx_g.add_edges_from([(0, 1), (0, 2),  (2, 3), (2, 4), (3,5 ), (0,3), (0,5), (1,5), (3,6), (2,5), (1,7),(8,7), (3,9)])\n",
    "nx.draw(nx_g,with_labels = True)\n",
    "num_nodes = 10"
   ]
  },
  {
   "cell_type": "code",
   "execution_count": 14,
   "id": "d988a878",
   "metadata": {},
   "outputs": [
    {
     "data": {
      "text/plain": [
       "array([[0.  , 0.25, 0.25, 0.25, 0.  , 0.25, 0.  , 0.  , 0.  , 0.  ],\n",
       "       [0.33, 0.  , 0.  , 0.  , 0.  , 0.33, 0.  , 0.33, 0.  , 0.  ],\n",
       "       [0.25, 0.  , 0.  , 0.25, 0.25, 0.25, 0.  , 0.  , 0.  , 0.  ],\n",
       "       [0.2 , 0.  , 0.2 , 0.  , 0.  , 0.2 , 0.2 , 0.  , 0.  , 0.2 ],\n",
       "       [0.  , 0.  , 1.  , 0.  , 0.  , 0.  , 0.  , 0.  , 0.  , 0.  ],\n",
       "       [0.25, 0.25, 0.25, 0.25, 0.  , 0.  , 0.  , 0.  , 0.  , 0.  ],\n",
       "       [0.  , 0.  , 0.  , 1.  , 0.  , 0.  , 0.  , 0.  , 0.  , 0.  ],\n",
       "       [0.  , 0.5 , 0.  , 0.  , 0.  , 0.  , 0.  , 0.  , 0.5 , 0.  ],\n",
       "       [0.  , 0.  , 0.  , 0.  , 0.  , 0.  , 0.  , 1.  , 0.  , 0.  ],\n",
       "       [0.  , 0.  , 0.  , 1.  , 0.  , 0.  , 0.  , 0.  , 0.  , 0.  ]])"
      ]
     },
     "execution_count": 14,
     "metadata": {},
     "output_type": "execute_result"
    }
   ],
   "source": [
    "Ak = np.matrix(np.identity(num_nodes))\n",
    "adj = nx.adjacency_matrix(nx_g)\n",
    "adj= adj.todense()\n",
    "adj = normalize(adj, axis=1, norm='l1')\n",
    "adj = np.round(adj,2)\n",
    "adj"
   ]
  },
  {
   "cell_type": "code",
   "execution_count": 15,
   "id": "26873f7a",
   "metadata": {},
   "outputs": [],
   "source": [
    "Ak = np.matrix(np.identity(num_nodes))\n"
   ]
  },
  {
   "cell_type": "code",
   "execution_count": 16,
   "id": "f4525746",
   "metadata": {},
   "outputs": [
    {
     "name": "stdout",
     "output_type": "stream",
     "text": [
      "Step: 1\n",
      "[[0.   0.25 0.25 0.25 0.   0.25 0.   0.   0.   0.  ]\n",
      " [0.33 0.   0.   0.   0.   0.33 0.   0.33 0.   0.  ]\n",
      " [0.25 0.   0.   0.25 0.25 0.25 0.   0.   0.   0.  ]\n",
      " [0.2  0.   0.2  0.   0.   0.2  0.2  0.   0.   0.2 ]\n",
      " [0.   0.   1.   0.   0.   0.   0.   0.   0.   0.  ]\n",
      " [0.25 0.25 0.25 0.25 0.   0.   0.   0.   0.   0.  ]\n",
      " [0.   0.   0.   1.   0.   0.   0.   0.   0.   0.  ]\n",
      " [0.   0.5  0.   0.   0.   0.   0.   0.   0.5  0.  ]\n",
      " [0.   0.   0.   0.   0.   0.   0.   1.   0.   0.  ]\n",
      " [0.   0.   0.   1.   0.   0.   0.   0.   0.   0.  ]]\n",
      "Step: 2\n",
      "[[0.26 0.06 0.11 0.12 0.06 0.2  0.05 0.08 0.   0.05]\n",
      " [0.08 0.33 0.16 0.16 0.   0.08 0.   0.   0.16 0.  ]\n",
      " [0.11 0.12 0.42 0.12 0.   0.11 0.05 0.   0.   0.05]\n",
      " [0.1  0.1  0.1  0.55 0.05 0.1  0.   0.   0.   0.  ]\n",
      " [0.25 0.   0.   0.25 0.25 0.25 0.   0.   0.   0.  ]\n",
      " [0.2  0.06 0.11 0.12 0.06 0.26 0.05 0.08 0.   0.05]\n",
      " [0.2  0.   0.2  0.   0.   0.2  0.2  0.   0.   0.2 ]\n",
      " [0.16 0.   0.   0.   0.   0.16 0.   0.66 0.   0.  ]\n",
      " [0.   0.5  0.   0.   0.   0.   0.   0.   0.5  0.  ]\n",
      " [0.2  0.   0.2  0.   0.   0.2  0.2  0.   0.   0.2 ]]\n",
      "Step: 3\n",
      "[[0.12 0.15 0.2  0.24 0.03 0.14 0.02 0.02 0.04 0.02]\n",
      " [0.2  0.04 0.07 0.08 0.04 0.2  0.03 0.27 0.   0.03]\n",
      " [0.2  0.06 0.08 0.26 0.11 0.2  0.02 0.04 0.   0.02]\n",
      " [0.19 0.05 0.21 0.08 0.02 0.19 0.11 0.03 0.   0.11]\n",
      " [0.11 0.12 0.42 0.12 0.   0.11 0.05 0.   0.   0.05]\n",
      " [0.14 0.15 0.2  0.24 0.03 0.12 0.02 0.02 0.04 0.02]\n",
      " [0.1  0.1  0.1  0.55 0.05 0.1  0.   0.   0.   0.  ]\n",
      " [0.04 0.42 0.08 0.08 0.   0.04 0.   0.   0.33 0.  ]\n",
      " [0.16 0.   0.   0.   0.   0.16 0.   0.66 0.   0.  ]\n",
      " [0.1  0.1  0.1  0.55 0.05 0.1  0.   0.   0.   0.  ]]\n",
      "Step: 4\n",
      "[[0.18 0.08 0.14 0.17 0.05 0.18 0.05 0.09 0.01 0.05]\n",
      " [0.1  0.24 0.16 0.19 0.02 0.1  0.02 0.01 0.14 0.02]\n",
      " [0.14 0.12 0.26 0.17 0.02 0.14 0.05 0.02 0.02 0.05]\n",
      " [0.13 0.11 0.14 0.37 0.05 0.13 0.02 0.02 0.02 0.02]\n",
      " [0.2  0.06 0.08 0.26 0.11 0.2  0.02 0.04 0.   0.02]\n",
      " [0.18 0.08 0.14 0.17 0.05 0.18 0.05 0.09 0.01 0.05]\n",
      " [0.19 0.05 0.21 0.08 0.02 0.19 0.11 0.03 0.   0.11]\n",
      " [0.18 0.02 0.04 0.04 0.02 0.18 0.02 0.47 0.   0.02]\n",
      " [0.04 0.42 0.08 0.08 0.   0.04 0.   0.   0.33 0.  ]\n",
      " [0.19 0.05 0.21 0.08 0.02 0.19 0.11 0.03 0.   0.11]]\n"
     ]
    }
   ],
   "source": [
    "for i in range(4):\n",
    "    Ak = np.dot(Ak, adj)\n",
    "    print(f'Step: {i+1}')\n",
    "    print(np.round(Ak,2))"
   ]
  },
  {
   "cell_type": "markdown",
   "id": "7a5cd951d51111a4",
   "metadata": {},
   "source": [
    "# 3. Grarep"
   ]
  },
  {
   "cell_type": "code",
   "execution_count": 17,
   "id": "initial_id",
   "metadata": {},
   "outputs": [],
   "source": [
    "import math\n",
    "import numpy as np\n",
    "import pandas as pd\n",
    "from tqdm import tqdm\n",
    "from scipy import sparse\n",
    "from sklearn.decomposition import TruncatedSVD"
   ]
  },
  {
   "cell_type": "code",
   "execution_count": 18,
   "id": "2f608877158f33f5",
   "metadata": {},
   "outputs": [],
   "source": [
    "class GraRep(object):\n",
    "    def __init__(self, A, args):\n",
    "        \"\"\"\n",
    "        :param A: Adjacency matrix.\n",
    "        :param args: Arguments object.\n",
    "        \"\"\"\n",
    "        self.A = A\n",
    "        self.args = args\n",
    "        self._setup_base_target_matrix()\n",
    "\n",
    "    def _setup_base_target_matrix(self):\n",
    "        \"\"\"\n",
    "        Creating a base matrix to multiply.\n",
    "        \"\"\"\n",
    "        values = [1.0 for _ in range(self.A.shape[0])]\n",
    "        indices = [i for i in range(self.A.shape[0])]\n",
    "        self.A_hat = sparse.coo_matrix((values, (indices, indices)),\n",
    "                                       shape=self.A.shape,\n",
    "                                       dtype=np.float32)\n",
    "\n",
    "    def _create_target_matrix(self):\n",
    "        \"\"\"\n",
    "        Creating a log transformed target matrix.\n",
    "        :return target_matrix: Matrix to decompose with SVD.\n",
    "        \"\"\"\n",
    "        self.A_hat = sparse.coo_matrix(self.A_hat.dot(self.A))\n",
    "        scores = np.log(self.A_hat.data)-math.log(self.A.shape[0])\n",
    "        rows = self.A_hat.row[scores < 0]\n",
    "        cols = self.A_hat.col[scores < 0]\n",
    "        scores = scores[scores < 0]\n",
    "        target_matrix = sparse.coo_matrix((scores, (rows, cols)),\n",
    "                                          shape=self.A.shape,\n",
    "                                          dtype=np.float32)\n",
    "        return target_matrix\n",
    "\n",
    "    def optimize(self):\n",
    "        \"\"\"\n",
    "        Learning an embedding.\n",
    "        \"\"\"\n",
    "        print(\"\\nOptimization started.\\n\")\n",
    "        self.embeddings = []\n",
    "        for step in tqdm(range(self.args[\"order\"])):\n",
    "            target_matrix = self._create_target_matrix()\n",
    "\n",
    "            svd = TruncatedSVD(n_components=self.args[\"dim\"],\n",
    "                               n_iter=self.args[\"iter\"],\n",
    "                               random_state=self.args[\"seed\"])\n",
    "\n",
    "            svd.fit(target_matrix)\n",
    "            embedding = svd.transform(target_matrix)\n",
    "            self.embeddings.append(embedding)\n",
    "\n",
    "    def return_embedding(self):\n",
    "        \"\"\"\n",
    "        Return the embedding.\n",
    "        \"\"\"\n",
    "        print(\"\\nReturn embedding.\\n\")\n",
    "        self.embeddings = np.concatenate(self.embeddings, axis=1)\n",
    "        column_count = self.args[\"order\"] * self.args[\"dim\"]\n",
    "        columns = [\"ID\"] + [\"x_\" + str(col) for col in range(column_count)]\n",
    "        ids = np.array([i for i in range(self.A.shape[0])]).reshape(-1,1)\n",
    "        self.embeddings = np.concatenate([ids, self.embeddings], axis=1)\n",
    "        self.embeddings = pd.DataFrame(self.embeddings, columns=columns)\n",
    "        \n",
    "        return self.embeddings"
   ]
  },
  {
   "cell_type": "code",
   "execution_count": 19,
   "id": "97a59ea984b1429d",
   "metadata": {},
   "outputs": [
    {
     "name": "stdout",
     "output_type": "stream",
     "text": [
      "\n",
      "Optimization started.\n",
      "\n"
     ]
    },
    {
     "name": "stderr",
     "output_type": "stream",
     "text": [
      "100%|████████████████████████████████████████████████████████████████████████████████████| 5/5 [00:11<00:00,  2.36s/it]\n"
     ]
    }
   ],
   "source": [
    "args = {\n",
    "    \"dim\": 16,\n",
    "    \"order\": 5,\n",
    "    \"seed\": 42,\n",
    "    \"iter\": 20\n",
    "}\n",
    "\n",
    "grarep = GraRep(cora_A, args)\n",
    "\n",
    "grarep.optimize()"
   ]
  },
  {
   "cell_type": "code",
   "execution_count": 20,
   "id": "aaf97ea4761029a5",
   "metadata": {},
   "outputs": [
    {
     "name": "stdout",
     "output_type": "stream",
     "text": [
      "\n",
      "Return embedding.\n",
      "\n"
     ]
    }
   ],
   "source": [
    "grarep_emb_csv = grarep.return_embedding()"
   ]
  },
  {
   "cell_type": "code",
   "execution_count": 21,
   "id": "f03bfcd95f5a99ae",
   "metadata": {},
   "outputs": [
    {
     "data": {
      "text/html": [
       "<div>\n",
       "<style scoped>\n",
       "    .dataframe tbody tr th:only-of-type {\n",
       "        vertical-align: middle;\n",
       "    }\n",
       "\n",
       "    .dataframe tbody tr th {\n",
       "        vertical-align: top;\n",
       "    }\n",
       "\n",
       "    .dataframe thead th {\n",
       "        text-align: right;\n",
       "    }\n",
       "</style>\n",
       "<table border=\"1\" class=\"dataframe\">\n",
       "  <thead>\n",
       "    <tr style=\"text-align: right;\">\n",
       "      <th></th>\n",
       "      <th>ID</th>\n",
       "      <th>x_0</th>\n",
       "      <th>x_1</th>\n",
       "      <th>x_2</th>\n",
       "      <th>x_3</th>\n",
       "      <th>x_4</th>\n",
       "      <th>x_5</th>\n",
       "      <th>x_6</th>\n",
       "      <th>x_7</th>\n",
       "      <th>x_8</th>\n",
       "      <th>...</th>\n",
       "      <th>x_70</th>\n",
       "      <th>x_71</th>\n",
       "      <th>x_72</th>\n",
       "      <th>x_73</th>\n",
       "      <th>x_74</th>\n",
       "      <th>x_75</th>\n",
       "      <th>x_76</th>\n",
       "      <th>x_77</th>\n",
       "      <th>x_78</th>\n",
       "      <th>x_79</th>\n",
       "    </tr>\n",
       "  </thead>\n",
       "  <tbody>\n",
       "    <tr>\n",
       "      <th>0</th>\n",
       "      <td>0.0</td>\n",
       "      <td>1.015238e-02</td>\n",
       "      <td>-2.169817e-03</td>\n",
       "      <td>1.437280e-01</td>\n",
       "      <td>1.009172e+00</td>\n",
       "      <td>8.098223e-01</td>\n",
       "      <td>-3.940892e-01</td>\n",
       "      <td>2.978217e-01</td>\n",
       "      <td>-6.929460e-01</td>\n",
       "      <td>1.714931e-01</td>\n",
       "      <td>...</td>\n",
       "      <td>-3.366572e+00</td>\n",
       "      <td>5.535538e+00</td>\n",
       "      <td>1.596764e+01</td>\n",
       "      <td>-3.711625e+01</td>\n",
       "      <td>-1.492708e+01</td>\n",
       "      <td>3.046616e+01</td>\n",
       "      <td>-1.278549e+01</td>\n",
       "      <td>-1.549975e+00</td>\n",
       "      <td>-2.911164e+01</td>\n",
       "      <td>-1.759281e+01</td>\n",
       "    </tr>\n",
       "    <tr>\n",
       "      <th>1</th>\n",
       "      <td>1.0</td>\n",
       "      <td>1.072093e-02</td>\n",
       "      <td>1.526770e-02</td>\n",
       "      <td>4.235009e-02</td>\n",
       "      <td>3.196161e-01</td>\n",
       "      <td>3.119746e-01</td>\n",
       "      <td>-1.467796e-01</td>\n",
       "      <td>-3.059230e-01</td>\n",
       "      <td>4.631628e-01</td>\n",
       "      <td>-2.039444e-01</td>\n",
       "      <td>...</td>\n",
       "      <td>-1.413198e+01</td>\n",
       "      <td>-4.048077e+01</td>\n",
       "      <td>-4.035257e+00</td>\n",
       "      <td>-3.567316e+01</td>\n",
       "      <td>1.938946e+01</td>\n",
       "      <td>-4.598905e+01</td>\n",
       "      <td>-2.640668e+01</td>\n",
       "      <td>3.564900e+00</td>\n",
       "      <td>-4.190806e+00</td>\n",
       "      <td>-2.997675e+00</td>\n",
       "    </tr>\n",
       "    <tr>\n",
       "      <th>2</th>\n",
       "      <td>2.0</td>\n",
       "      <td>1.526115e-01</td>\n",
       "      <td>-1.863606e-01</td>\n",
       "      <td>4.833708e-01</td>\n",
       "      <td>3.027579e+00</td>\n",
       "      <td>-2.805322e+00</td>\n",
       "      <td>1.243398e+00</td>\n",
       "      <td>-2.464836e+00</td>\n",
       "      <td>3.673813e+00</td>\n",
       "      <td>-1.590380e+00</td>\n",
       "      <td>...</td>\n",
       "      <td>5.532574e+01</td>\n",
       "      <td>1.242958e+01</td>\n",
       "      <td>2.171005e+01</td>\n",
       "      <td>1.771171e+01</td>\n",
       "      <td>-1.731554e+01</td>\n",
       "      <td>-3.478605e+01</td>\n",
       "      <td>-1.019112e+00</td>\n",
       "      <td>2.357077e+01</td>\n",
       "      <td>3.062950e+01</td>\n",
       "      <td>-2.291610e+01</td>\n",
       "    </tr>\n",
       "    <tr>\n",
       "      <th>3</th>\n",
       "      <td>3.0</td>\n",
       "      <td>2.154708e-15</td>\n",
       "      <td>6.079251e-12</td>\n",
       "      <td>9.957916e-11</td>\n",
       "      <td>6.907454e-07</td>\n",
       "      <td>-4.008898e-07</td>\n",
       "      <td>3.152383e-07</td>\n",
       "      <td>3.387929e-07</td>\n",
       "      <td>-6.484045e-07</td>\n",
       "      <td>1.702986e-07</td>\n",
       "      <td>...</td>\n",
       "      <td>-2.029157e-09</td>\n",
       "      <td>-1.706886e-09</td>\n",
       "      <td>-4.646332e-09</td>\n",
       "      <td>4.145217e-10</td>\n",
       "      <td>1.057346e-08</td>\n",
       "      <td>-2.821529e-09</td>\n",
       "      <td>1.178667e-09</td>\n",
       "      <td>-1.344967e-08</td>\n",
       "      <td>-1.604943e-08</td>\n",
       "      <td>-1.506433e-08</td>\n",
       "    </tr>\n",
       "    <tr>\n",
       "      <th>4</th>\n",
       "      <td>4.0</td>\n",
       "      <td>5.264034e-01</td>\n",
       "      <td>3.600548e-01</td>\n",
       "      <td>-6.969177e-02</td>\n",
       "      <td>-6.821089e-03</td>\n",
       "      <td>-8.024978e-03</td>\n",
       "      <td>3.797458e-04</td>\n",
       "      <td>9.982117e-03</td>\n",
       "      <td>-1.795001e-02</td>\n",
       "      <td>-1.989294e-02</td>\n",
       "      <td>...</td>\n",
       "      <td>1.140577e+01</td>\n",
       "      <td>-9.705548e+00</td>\n",
       "      <td>-2.789512e+01</td>\n",
       "      <td>7.369332e-01</td>\n",
       "      <td>-4.549699e+00</td>\n",
       "      <td>3.274813e+00</td>\n",
       "      <td>-6.257275e+00</td>\n",
       "      <td>-9.857273e+00</td>\n",
       "      <td>4.166501e+00</td>\n",
       "      <td>-3.421003e+00</td>\n",
       "    </tr>\n",
       "  </tbody>\n",
       "</table>\n",
       "<p>5 rows × 81 columns</p>\n",
       "</div>"
      ],
      "text/plain": [
       "    ID           x_0           x_1           x_2           x_3           x_4  \\\n",
       "0  0.0  1.015238e-02 -2.169817e-03  1.437280e-01  1.009172e+00  8.098223e-01   \n",
       "1  1.0  1.072093e-02  1.526770e-02  4.235009e-02  3.196161e-01  3.119746e-01   \n",
       "2  2.0  1.526115e-01 -1.863606e-01  4.833708e-01  3.027579e+00 -2.805322e+00   \n",
       "3  3.0  2.154708e-15  6.079251e-12  9.957916e-11  6.907454e-07 -4.008898e-07   \n",
       "4  4.0  5.264034e-01  3.600548e-01 -6.969177e-02 -6.821089e-03 -8.024978e-03   \n",
       "\n",
       "            x_5           x_6           x_7           x_8  ...          x_70  \\\n",
       "0 -3.940892e-01  2.978217e-01 -6.929460e-01  1.714931e-01  ... -3.366572e+00   \n",
       "1 -1.467796e-01 -3.059230e-01  4.631628e-01 -2.039444e-01  ... -1.413198e+01   \n",
       "2  1.243398e+00 -2.464836e+00  3.673813e+00 -1.590380e+00  ...  5.532574e+01   \n",
       "3  3.152383e-07  3.387929e-07 -6.484045e-07  1.702986e-07  ... -2.029157e-09   \n",
       "4  3.797458e-04  9.982117e-03 -1.795001e-02 -1.989294e-02  ...  1.140577e+01   \n",
       "\n",
       "           x_71          x_72          x_73          x_74          x_75  \\\n",
       "0  5.535538e+00  1.596764e+01 -3.711625e+01 -1.492708e+01  3.046616e+01   \n",
       "1 -4.048077e+01 -4.035257e+00 -3.567316e+01  1.938946e+01 -4.598905e+01   \n",
       "2  1.242958e+01  2.171005e+01  1.771171e+01 -1.731554e+01 -3.478605e+01   \n",
       "3 -1.706886e-09 -4.646332e-09  4.145217e-10  1.057346e-08 -2.821529e-09   \n",
       "4 -9.705548e+00 -2.789512e+01  7.369332e-01 -4.549699e+00  3.274813e+00   \n",
       "\n",
       "           x_76          x_77          x_78          x_79  \n",
       "0 -1.278549e+01 -1.549975e+00 -2.911164e+01 -1.759281e+01  \n",
       "1 -2.640668e+01  3.564900e+00 -4.190806e+00 -2.997675e+00  \n",
       "2 -1.019112e+00  2.357077e+01  3.062950e+01 -2.291610e+01  \n",
       "3  1.178667e-09 -1.344967e-08 -1.604943e-08 -1.506433e-08  \n",
       "4 -6.257275e+00 -9.857273e+00  4.166501e+00 -3.421003e+00  \n",
       "\n",
       "[5 rows x 81 columns]"
      ]
     },
     "execution_count": 21,
     "metadata": {},
     "output_type": "execute_result"
    }
   ],
   "source": [
    "grarep_emb_csv.head()"
   ]
  },
  {
   "cell_type": "markdown",
   "id": "d423619974950c2f",
   "metadata": {},
   "source": [
    "# 4. Metapath2vec"
   ]
  },
  {
   "cell_type": "code",
   "execution_count": 22,
   "id": "109fb98138781029",
   "metadata": {},
   "outputs": [],
   "source": [
    "import torch\n",
    "from torch_geometric.nn.models import MetaPath2Vec"
   ]
  },
  {
   "cell_type": "code",
   "execution_count": 23,
   "id": "9d3fa05717e41beb",
   "metadata": {},
   "outputs": [],
   "source": [
    "metapath = [\n",
    "    ('author', 'writes', 'paper'),\n",
    "    ('paper', 'published_in', 'venue'),\n",
    "    ('venue', 'publishes', 'paper'),\n",
    "    ('paper', 'written_by', 'author'),\n",
    "]\n",
    "\n",
    "device = 'cuda' if torch.cuda.is_available() else 'cpu'\n",
    "model = MetaPath2Vec(aminer_data.edge_index_dict, embedding_dim=128,\n",
    "                     metapath=metapath, walk_length=50, context_size=7,\n",
    "                     walks_per_node=5, num_negative_samples=5,\n",
    "                     sparse=True).to(device)\n",
    "\n",
    "loader = model.loader(batch_size=128, shuffle=True, num_workers=6)\n",
    "optimizer = torch.optim.SparseAdam(list(model.parameters()), lr=0.01)"
   ]
  },
  {
   "cell_type": "code",
   "execution_count": 24,
   "id": "a8c3cd370b66e38e",
   "metadata": {},
   "outputs": [],
   "source": [
    "def train(epoch, log_steps=100, eval_steps=2000):\n",
    "    model.train()\n",
    "\n",
    "    total_loss = 0\n",
    "    for i, (pos_rw, neg_rw) in enumerate(loader):\n",
    "        optimizer.zero_grad()\n",
    "        loss = model.loss(pos_rw.to(device), neg_rw.to(device))\n",
    "        loss.backward()\n",
    "        optimizer.step()\n",
    "\n",
    "        total_loss += loss.item()\n",
    "        if (i + 1) % log_steps == 0:\n",
    "            print((f'Epoch: {epoch}, Step: {i + 1:05d}/{len(loader)}, '\n",
    "                   f'Loss: {total_loss / log_steps:.4f}'))\n",
    "            total_loss = 0\n",
    "\n",
    "        if (i + 1) % eval_steps == 0:\n",
    "            acc = test()\n",
    "            print((f'Epoch: {epoch}, Step: {i + 1:05d}/{len(loader)}, '\n",
    "                   f'Acc: {acc:.4f}'))\n",
    "\n",
    "\n",
    "@torch.no_grad()\n",
    "def test(train_ratio=0.1):\n",
    "    model.eval()\n",
    "\n",
    "    z = model('author', batch=aminer_data['author'].y_index.to(device))\n",
    "    y = aminer_data['author'].y\n",
    "\n",
    "    perm = torch.randperm(z.size(0))\n",
    "    train_perm = perm[:int(z.size(0) * train_ratio)]\n",
    "    test_perm = perm[int(z.size(0) * train_ratio):]\n",
    "\n",
    "    return model.test(z[train_perm], y[train_perm], z[test_perm], y[test_perm],\n",
    "                      max_iter=150)"
   ]
  },
  {
   "cell_type": "code",
   "execution_count": null,
   "id": "cc6388b6e8eea402",
   "metadata": {},
   "outputs": [
    {
     "name": "stdout",
     "output_type": "stream",
     "text": [
      "Epoch: 0, Step: 00100/13231, Loss: 9.1002\n"
     ]
    }
   ],
   "source": [
    "for epoch in range(5):\n",
    "    train(epoch)\n",
    "    acc = test()\n",
    "    print(f'Epoch: {epoch}, Accuracy: {acc:.4f}')"
   ]
  },
  {
   "cell_type": "markdown",
   "id": "65fb0b725aece614",
   "metadata": {},
   "source": [
    "# 5. WL-relabeling"
   ]
  },
  {
   "cell_type": "code",
   "execution_count": null,
   "id": "87d18cc3298da7a9",
   "metadata": {},
   "outputs": [],
   "source": [
    "def wlk_relabel(g,h):\n",
    "    '''\n",
    "    Perform node relabeling (coloring) according 1-d WL relabeling process (refer Shervashidze et al (2009) paper)\n",
    "    :param g: networkx graph\n",
    "    :param h: height of WL kernel\n",
    "    :return: relabeled graph\n",
    "    '''\n",
    "    for i in range(len(g.nodes)):\n",
    "        g.nodes[i]['relabel'] = {}\n",
    "        \n",
    "    for i in range(0,h+1): #xrange returns [min,max)\n",
    "        for n in range(len(g.nodes)):\n",
    "            # degree_prefix = 'D' + str(i)\n",
    "            degree_prefix = ''\n",
    "            if 0 == i:\n",
    "                g.nodes[n]['relabel'][0] = degree_prefix + str(g.nodes[n]['label']).strip() + degree_prefix\n",
    "            else:\n",
    "                nei_labels = [g.nodes[nei]['relabel'][i-1] for nei in nx.all_neighbors(g,n)]\n",
    "                nei_labels.sort()\n",
    "                sorted_nei_labels = (','*i).join(nei_labels)\n",
    "\n",
    "                current_in_relabel = g.nodes[n]['relabel'][i-1] +'#'*i+ sorted_nei_labels\n",
    "                g.nodes[n]['relabel'][i] = degree_prefix + current_in_relabel.strip() + degree_prefix\n",
    "    return g #relabled graph"
   ]
  },
  {
   "cell_type": "code",
   "execution_count": null,
   "id": "3194bea93078473c",
   "metadata": {},
   "outputs": [],
   "source": [
    "def fill_labels(G):\n",
    "    for i in range(len(G.nodes)):\n",
    "        G.nodes[i]['label'] = '1'"
   ]
  },
  {
   "cell_type": "code",
   "execution_count": null,
   "id": "3aefaf26ea60755b",
   "metadata": {},
   "outputs": [],
   "source": [
    "def draw_graph(G):\n",
    "    clubs = []  # list to populate with labels\n",
    "    for n in G.nodes:\n",
    "        c = G.nodes[n]['relabel']\n",
    "        print(f'Node ID {n}: colour: {c}')\n",
    "        col = 0\n",
    "        if c=='1':\n",
    "            clubs.append('green')\n",
    "        elif c =='2':\n",
    "            clubs.append('red')\n",
    "        else:\n",
    "            clubs.append('gray')\n",
    "    pos = nx.spring_layout(G, seed=42) # To be able to recreate the graph layout\n",
    "    nx.draw_networkx(G, pos=pos, node_color = clubs) # Plot the graph"
   ]
  },
  {
   "cell_type": "code",
   "execution_count": null,
   "id": "d2825ef09443eda2",
   "metadata": {},
   "outputs": [],
   "source": [
    "G = nx.Graph([\n",
    "    (0, 1),\n",
    "    (1 ,2), \n",
    "    (1 ,3),\n",
    "    (1 ,5),\n",
    "    (2 ,3),\n",
    "    (2 ,4),\n",
    "    (2 ,6),\n",
    "    (3 ,4),\n",
    "    (3 ,5),\n",
    "    (4 ,7),\n",
    "    (4 ,8),\n",
    "    (6 ,7)])\n",
    "fill_labels(G)\n",
    "nx.draw(G, with_labels = True)"
   ]
  },
  {
   "cell_type": "code",
   "execution_count": null,
   "id": "695b9ecb9bd7cd97",
   "metadata": {},
   "outputs": [],
   "source": [
    "relabeled_G = wlk_relabel(G, 1)"
   ]
  },
  {
   "cell_type": "code",
   "execution_count": null,
   "id": "4d6460c8eb2f74fb",
   "metadata": {},
   "outputs": [],
   "source": [
    "draw_graph(relabeled_G)"
   ]
  }
 ],
 "metadata": {
  "kernelspec": {
   "display_name": "Python 3 (ipykernel)",
   "language": "python",
   "name": "python3"
  },
  "language_info": {
   "codemirror_mode": {
    "name": "ipython",
    "version": 3
   },
   "file_extension": ".py",
   "mimetype": "text/x-python",
   "name": "python",
   "nbconvert_exporter": "python",
   "pygments_lexer": "ipython3",
   "version": "3.8.8"
  }
 },
 "nbformat": 4,
 "nbformat_minor": 5
}
