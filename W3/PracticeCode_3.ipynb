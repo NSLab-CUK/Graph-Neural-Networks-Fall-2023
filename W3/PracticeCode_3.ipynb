{
 "nbformat": 4,
 "nbformat_minor": 0,
 "metadata": {
  "colab": {
   "provenance": [],
   "authorship_tag": "ABX9TyPEiGlAKjcXteEQ9F2/bZfh"
  },
  "kernelspec": {
   "name": "python3",
   "language": "python",
   "display_name": "Python 3 (ipykernel)"
  },
  "language_info": {
   "name": "python"
  }
 },
 "cells": [
  {
   "cell_type": "code",
   "execution_count": 182,
   "metadata": {
    "colab": {
     "base_uri": "https://localhost:8080/"
    },
    "id": "NQhZNeHRkSaF",
    "executionInfo": {
     "status": "ok",
     "timestamp": 1694273603438,
     "user_tz": -540,
     "elapsed": 17682,
     "user": {
      "displayName": "이주호",
      "userId": "15914417090480631241"
     }
    },
    "outputId": "fbb77514-350f-45f7-c055-ed76fbad0d5a",
    "ExecuteTime": {
     "end_time": "2023-09-11T13:44:30.249543200Z",
     "start_time": "2023-09-11T13:44:28.173492200Z"
    }
   },
   "outputs": [
    {
     "name": "stdout",
     "output_type": "stream",
     "text": [
      "Requirement already satisfied: torch_geometric in c:\\users\\jooho\\appdata\\local\\programs\\python\\python311\\lib\\site-packages (2.3.1)\n",
      "Requirement already satisfied: tqdm in c:\\users\\jooho\\appdata\\local\\programs\\python\\python311\\lib\\site-packages (from torch_geometric) (4.66.1)\n",
      "Requirement already satisfied: numpy in c:\\users\\jooho\\appdata\\local\\programs\\python\\python311\\lib\\site-packages (from torch_geometric) (1.24.1)\n",
      "Requirement already satisfied: scipy in c:\\users\\jooho\\appdata\\local\\programs\\python\\python311\\lib\\site-packages (from torch_geometric) (1.11.2)\n",
      "Requirement already satisfied: jinja2 in c:\\users\\jooho\\appdata\\local\\programs\\python\\python311\\lib\\site-packages (from torch_geometric) (3.1.2)\n",
      "Requirement already satisfied: requests in c:\\users\\jooho\\appdata\\local\\programs\\python\\python311\\lib\\site-packages (from torch_geometric) (2.28.1)\n",
      "Requirement already satisfied: pyparsing in c:\\users\\jooho\\appdata\\local\\programs\\python\\python311\\lib\\site-packages (from torch_geometric) (3.0.9)\n",
      "Requirement already satisfied: scikit-learn in c:\\users\\jooho\\appdata\\local\\programs\\python\\python311\\lib\\site-packages (from torch_geometric) (1.3.0)\n",
      "Requirement already satisfied: psutil>=5.8.0 in c:\\users\\jooho\\appdata\\local\\programs\\python\\python311\\lib\\site-packages (from torch_geometric) (5.9.5)\n",
      "Requirement already satisfied: MarkupSafe>=2.0 in c:\\users\\jooho\\appdata\\local\\programs\\python\\python311\\lib\\site-packages (from jinja2->torch_geometric) (2.1.2)\n",
      "Requirement already satisfied: charset-normalizer<3,>=2 in c:\\users\\jooho\\appdata\\local\\programs\\python\\python311\\lib\\site-packages (from requests->torch_geometric) (2.1.1)\n",
      "Requirement already satisfied: idna<4,>=2.5 in c:\\users\\jooho\\appdata\\local\\programs\\python\\python311\\lib\\site-packages (from requests->torch_geometric) (3.4)\n",
      "Requirement already satisfied: urllib3<1.27,>=1.21.1 in c:\\users\\jooho\\appdata\\local\\programs\\python\\python311\\lib\\site-packages (from requests->torch_geometric) (1.26.13)\n",
      "Requirement already satisfied: certifi>=2017.4.17 in c:\\users\\jooho\\appdata\\local\\programs\\python\\python311\\lib\\site-packages (from requests->torch_geometric) (2022.12.7)\n",
      "Requirement already satisfied: joblib>=1.1.1 in c:\\users\\jooho\\appdata\\local\\programs\\python\\python311\\lib\\site-packages (from scikit-learn->torch_geometric) (1.3.2)\n",
      "Requirement already satisfied: threadpoolctl>=2.0.0 in c:\\users\\jooho\\appdata\\local\\programs\\python\\python311\\lib\\site-packages (from scikit-learn->torch_geometric) (3.2.0)\n",
      "Requirement already satisfied: colorama in c:\\users\\jooho\\appdata\\local\\programs\\python\\python311\\lib\\site-packages (from tqdm->torch_geometric) (0.4.6)\n"
     ]
    }
   ],
   "source": [
    "!pip install gensim\n",
    "!pip install matplotlib\n",
    "!pip install -U sklearn"
   ]
  },
  {
   "cell_type": "markdown",
   "source": [
    "#  Graph  Construction"
   ],
   "metadata": {
    "id": "DwAT_2qqlbCr"
   }
  },
  {
   "cell_type": "code",
   "source": [
    "import networkx as nx\n",
    "import random\n",
    "from torch_geometric.datasets import KarateClub\n",
    "from torch_geometric.utils import to_networkx"
   ],
   "metadata": {
    "id": "waOeZ6J5lajH",
    "ExecuteTime": {
     "end_time": "2023-09-11T13:44:30.250044800Z",
     "start_time": "2023-09-11T13:44:30.247700700Z"
    }
   },
   "execution_count": 183,
   "outputs": []
  },
  {
   "cell_type": "code",
   "execution_count": 184,
   "outputs": [],
   "source": [
    "dataset = KarateClub()[0]"
   ],
   "metadata": {
    "collapsed": false,
    "ExecuteTime": {
     "end_time": "2023-09-11T13:44:30.258054800Z",
     "start_time": "2023-09-11T13:44:30.250044800Z"
    }
   }
  },
  {
   "cell_type": "code",
   "execution_count": 185,
   "outputs": [
    {
     "data": {
      "text/plain": "Data(x=[34, 34], edge_index=[2, 156], y=[34], train_mask=[34])"
     },
     "execution_count": 185,
     "metadata": {},
     "output_type": "execute_result"
    }
   ],
   "source": [
    "dataset"
   ],
   "metadata": {
    "collapsed": false,
    "ExecuteTime": {
     "end_time": "2023-09-11T13:44:30.264291300Z",
     "start_time": "2023-09-11T13:44:30.258054800Z"
    }
   }
  },
  {
   "cell_type": "code",
   "execution_count": 186,
   "outputs": [
    {
     "data": {
      "text/plain": "tensor([1, 1, 1, 1, 3, 3, 3, 1, 0, 1, 3, 1, 1, 1, 0, 0, 3, 1, 0, 1, 0, 1, 0, 0,\n        2, 2, 0, 0, 2, 0, 0, 2, 0, 0])"
     },
     "execution_count": 186,
     "metadata": {},
     "output_type": "execute_result"
    }
   ],
   "source": [
    "dataset.y"
   ],
   "metadata": {
    "collapsed": false,
    "ExecuteTime": {
     "end_time": "2023-09-11T13:44:30.302264300Z",
     "start_time": "2023-09-11T13:44:30.264291300Z"
    }
   }
  },
  {
   "cell_type": "code",
   "execution_count": 187,
   "outputs": [],
   "source": [
    "karate_graph = to_networkx(dataset)\n",
    "\n",
    "for node in karate_graph.nodes:\n",
    "    karate_graph.nodes[node][\"class\"] = dataset.y.tolist()[node]\n",
    "    "
   ],
   "metadata": {
    "collapsed": false,
    "ExecuteTime": {
     "end_time": "2023-09-11T13:44:30.302264300Z",
     "start_time": "2023-09-11T13:44:30.271145400Z"
    }
   }
  },
  {
   "cell_type": "code",
   "execution_count": 188,
   "outputs": [
    {
     "data": {
      "text/plain": "NodeDataView({0: {'class': 1}, 1: {'class': 1}, 2: {'class': 1}, 3: {'class': 1}, 4: {'class': 3}, 5: {'class': 3}, 6: {'class': 3}, 7: {'class': 1}, 8: {'class': 0}, 9: {'class': 1}, 10: {'class': 3}, 11: {'class': 1}, 12: {'class': 1}, 13: {'class': 1}, 14: {'class': 0}, 15: {'class': 0}, 16: {'class': 3}, 17: {'class': 1}, 18: {'class': 0}, 19: {'class': 1}, 20: {'class': 0}, 21: {'class': 1}, 22: {'class': 0}, 23: {'class': 0}, 24: {'class': 2}, 25: {'class': 2}, 26: {'class': 0}, 27: {'class': 0}, 28: {'class': 2}, 29: {'class': 0}, 30: {'class': 0}, 31: {'class': 2}, 32: {'class': 0}, 33: {'class': 0}})"
     },
     "execution_count": 188,
     "metadata": {},
     "output_type": "execute_result"
    }
   ],
   "source": [
    "karate_graph.nodes(data=True)"
   ],
   "metadata": {
    "collapsed": false,
    "ExecuteTime": {
     "end_time": "2023-09-11T13:44:30.302264300Z",
     "start_time": "2023-09-11T13:44:30.277442800Z"
    }
   }
  },
  {
   "cell_type": "markdown",
   "source": [
    "# Random Walk"
   ],
   "metadata": {
    "id": "Bri8adxGmZZp"
   }
  },
  {
   "cell_type": "code",
   "source": [
    "'''\n",
    "    graph : Graph\n",
    "    start_node : start_node of random walk sequence\n",
    "    num_steps : the length of random walk sequnce\n",
    "'''\n",
    "def random_walk(graph, start_node, num_steps):\n",
    "    result = []\n",
    "    current_node = start_node\n",
    "    for _ in range(num_steps):\n",
    "        result.append(current_node)\n",
    "        neighbors = list(graph .neighbors(current_node))\n",
    "        if not neighbors:\n",
    "            break\n",
    "        current_node = random.choice(neighbors)\n",
    "\n",
    "    return result"
   ],
   "metadata": {
    "id": "crQWRSfpmt_P",
    "ExecuteTime": {
     "end_time": "2023-09-11T13:44:30.302264300Z",
     "start_time": "2023-09-11T13:44:30.284226600Z"
    }
   },
   "execution_count": 189,
   "outputs": []
  },
  {
   "cell_type": "code",
   "source": [
    "start_node = random.choice(list(karate_graph.nodes()))\n",
    "num_steps = 10  # the number of steps for random walk (length of sequence)\n",
    "\n",
    "print(\"Random Walk:\")\n",
    "\n",
    "result = random_walk(karate_graph, start_node, num_steps)\n",
    "print(result)"
   ],
   "metadata": {
    "colab": {
     "base_uri": "https://localhost:8080/"
    },
    "id": "yEuAh6O0mP3W",
    "executionInfo": {
     "status": "ok",
     "timestamp": 1694281698539,
     "user_tz": -540,
     "elapsed": 2,
     "user": {
      "displayName": "이주호",
      "userId": "15914417090480631241"
     }
    },
    "outputId": "0d9f9632-aa2f-4541-a007-3f9e78a91a8e",
    "ExecuteTime": {
     "end_time": "2023-09-11T13:44:30.302264300Z",
     "start_time": "2023-09-11T13:44:30.290261100Z"
    }
   },
   "execution_count": 190,
   "outputs": [
    {
     "name": "stdout",
     "output_type": "stream",
     "text": [
      "Random Walk:\n",
      "[5, 0, 8, 32, 33, 32, 29, 23, 33, 29]\n"
     ]
    }
   ]
  },
  {
   "cell_type": "markdown",
   "source": [
    "# Deep Walk Code"
   ],
   "metadata": {
    "id": "bKvqaHPz-Xbt"
   }
  },
  {
   "cell_type": "code",
   "source": [
    "import numpy as np\n",
    "import random\n",
    "from gensim.models import Word2Vec\n",
    "from torch.utils.data import Dataset\n",
    "from functools import partial"
   ],
   "metadata": {
    "id": "KCz7jUxW-XSG",
    "ExecuteTime": {
     "end_time": "2023-09-11T13:44:30.302264300Z",
     "start_time": "2023-09-11T13:44:30.296583400Z"
    }
   },
   "execution_count": 191,
   "outputs": []
  },
  {
   "cell_type": "markdown",
   "source": [
    "__building dataset__"
   ],
   "metadata": {
    "id": "KlpYFh3zBDMT"
   }
  },
  {
   "cell_type": "code",
   "source": [
    "dataset = [random_walk(karate_graph, start_node=random.choice(list(karate_graph.nodes)), num_steps=20) for _ in range(100)]"
   ],
   "metadata": {
    "id": "oOj1EIKB-v-6",
    "ExecuteTime": {
     "end_time": "2023-09-11T13:44:30.314264100Z",
     "start_time": "2023-09-11T13:44:30.302264300Z"
    }
   },
   "execution_count": 192,
   "outputs": []
  },
  {
   "cell_type": "code",
   "source": [
    "for seq in dataset:\n",
    "    print(seq)"
   ],
   "metadata": {
    "colab": {
     "base_uri": "https://localhost:8080/"
    },
    "id": "CZE8-aFKCLZy",
    "executionInfo": {
     "status": "ok",
     "timestamp": 1694281709082,
     "user_tz": -540,
     "elapsed": 434,
     "user": {
      "displayName": "이주호",
      "userId": "15914417090480631241"
     }
    },
    "outputId": "ab2370fc-92bf-4b0c-9c32-4e8acfbc910a",
    "ExecuteTime": {
     "end_time": "2023-09-11T13:44:30.323416100Z",
     "start_time": "2023-09-11T13:44:30.314264100Z"
    }
   },
   "execution_count": 193,
   "outputs": [
    {
     "name": "stdout",
     "output_type": "stream",
     "text": [
      "[27, 23, 29, 32, 8, 30, 32, 31, 0, 21, 1, 21, 0, 11, 0, 17, 0, 21, 0, 10]\n",
      "[6, 4, 6, 0, 12, 3, 12, 3, 7, 2, 1, 0, 31, 24, 27, 23, 33, 22, 32, 22]\n",
      "[21, 1, 30, 32, 23, 25, 24, 31, 24, 25, 24, 27, 33, 15, 32, 14, 32, 15, 33, 20]\n",
      "[2, 28, 31, 33, 28, 2, 28, 31, 28, 33, 15, 32, 20, 32, 22, 32, 22, 33, 23, 25]\n",
      "[14, 32, 8, 33, 13, 2, 32, 33, 26, 29, 32, 30, 8, 32, 29, 33, 28, 31, 25, 23]\n",
      "[33, 13, 3, 13, 2, 1, 0, 6, 16, 5, 16, 6, 16, 6, 16, 6, 5, 10, 4, 10]\n",
      "[7, 0, 19, 33, 20, 33, 20, 32, 22, 33, 26, 33, 27, 23, 29, 23, 25, 31, 25, 23]\n",
      "[33, 15, 33, 19, 33, 28, 33, 31, 0, 17, 0, 2, 28, 2, 28, 33, 19, 33, 31, 33]\n",
      "[17, 0, 11, 0, 1, 0, 13, 1, 17, 1, 17, 1, 2, 9, 2, 8, 32, 30, 32, 30]\n",
      "[13, 2, 13, 2, 1, 7, 3, 2, 32, 18, 33, 30, 32, 18, 33, 23, 25, 24, 31, 32]\n",
      "[2, 7, 3, 7, 0, 17, 1, 17, 0, 31, 24, 27, 33, 30, 1, 2, 32, 33, 20, 33]\n",
      "[8, 33, 19, 0, 21, 0, 5, 0, 7, 0, 12, 3, 1, 13, 2, 1, 13, 0, 6, 16]\n",
      "[12, 3, 7, 0, 31, 24, 31, 25, 24, 31, 33, 14, 33, 23, 32, 14, 33, 29, 33, 26]\n",
      "[23, 25, 31, 25, 31, 25, 23, 27, 2, 3, 1, 17, 1, 21, 0, 4, 6, 5, 0, 3]\n",
      "[23, 32, 33, 32, 33, 13, 3, 0, 3, 12, 3, 2, 9, 2, 28, 2, 3, 2, 0, 11]\n",
      "[14, 32, 22, 32, 22, 32, 22, 33, 8, 2, 0, 11, 0, 2, 32, 20, 33, 9, 2, 13]\n",
      "[14, 33, 20, 32, 18, 33, 15, 33, 8, 33, 29, 33, 19, 33, 26, 33, 27, 33, 13, 1]\n",
      "[16, 6, 0, 17, 1, 3, 0, 19, 1, 2, 27, 33, 18, 33, 26, 29, 23, 27, 33, 23]\n",
      "[1, 21, 1, 30, 1, 21, 0, 2, 0, 17, 1, 19, 0, 12, 0, 12, 3, 13, 0, 31]\n",
      "[7, 0, 13, 0, 8, 30, 32, 31, 33, 18, 32, 31, 32, 31, 32, 31, 33, 26, 29, 32]\n",
      "[16, 6, 0, 4, 6, 16, 6, 16, 5, 16, 5, 10, 4, 6, 4, 10, 0, 31, 25, 31]\n",
      "[11, 0, 3, 12, 0, 8, 33, 20, 32, 14, 32, 2, 8, 2, 7, 1, 0, 7, 0, 6]\n",
      "[0, 31, 28, 2, 1, 17, 1, 30, 32, 33, 31, 0, 4, 6, 5, 10, 4, 0, 11, 0]\n",
      "[8, 30, 32, 14, 33, 22, 32, 29, 33, 23, 25, 23, 32, 23, 27, 33, 30, 1, 7, 2]\n",
      "[18, 33, 22, 33, 13, 33, 18, 32, 31, 24, 25, 23, 27, 23, 33, 23, 32, 2, 9, 2]\n",
      "[32, 15, 32, 33, 30, 8, 33, 30, 1, 30, 8, 33, 23, 27, 33, 18, 32, 2, 3, 13]\n",
      "[12, 0, 8, 0, 13, 33, 22, 33, 13, 0, 12, 0, 6, 4, 6, 4, 10, 0, 11, 0]\n",
      "[14, 32, 8, 32, 31, 24, 31, 32, 2, 1, 7, 3, 1, 3, 7, 0, 12, 0, 19, 0]\n",
      "[18, 33, 8, 32, 15, 32, 15, 33, 23, 25, 24, 31, 24, 25, 23, 25, 23, 29, 23, 32]\n",
      "[13, 33, 18, 32, 2, 1, 19, 1, 17, 0, 6, 0, 21, 0, 31, 0, 21, 1, 19, 0]\n",
      "[28, 31, 25, 24, 25, 31, 32, 33, 23, 32, 2, 8, 30, 1, 3, 1, 3, 0, 19, 1]\n",
      "[1, 17, 0, 1, 13, 33, 29, 32, 29, 33, 8, 2, 8, 30, 33, 13, 1, 7, 0, 12]\n",
      "[16, 5, 10, 0, 19, 33, 9, 2, 27, 2, 8, 0, 17, 1, 13, 0, 3, 7, 3, 12]\n",
      "[7, 0, 3, 13, 33, 26, 33, 15, 33, 23, 32, 20, 32, 33, 19, 33, 31, 24, 27, 33]\n",
      "[32, 14, 33, 14, 32, 22, 32, 15, 33, 14, 32, 18, 32, 18, 32, 22, 32, 33, 14, 32]\n",
      "[25, 31, 28, 33, 23, 33, 31, 24, 25, 31, 28, 31, 28, 33, 20, 32, 18, 33, 22, 33]\n",
      "[21, 1, 7, 3, 12, 0, 17, 1, 2, 7, 3, 12, 0, 21, 1, 0, 7, 1, 0, 3]\n",
      "[30, 8, 33, 26, 33, 8, 33, 14, 33, 22, 33, 20, 32, 2, 9, 2, 8, 30, 8, 0]\n",
      "[8, 32, 14, 33, 14, 32, 30, 1, 30, 8, 32, 8, 30, 1, 7, 2, 28, 2, 3, 12]\n",
      "[27, 33, 14, 32, 29, 23, 29, 23, 27, 23, 25, 31, 32, 15, 32, 31, 0, 12, 0, 4]\n",
      "[6, 0, 31, 28, 2, 0, 12, 3, 1, 7, 1, 21, 0, 4, 0, 4, 6, 0, 3, 7]\n",
      "[33, 14, 32, 22, 33, 32, 33, 27, 23, 29, 33, 13, 33, 8, 32, 2, 13, 33, 31, 0]\n",
      "[26, 33, 22, 33, 19, 1, 21, 0, 1, 0, 5, 6, 5, 10, 5, 10, 5, 0, 6, 4]\n",
      "[11, 0, 21, 0, 1, 21, 0, 17, 0, 4, 10, 0, 1, 7, 1, 30, 8, 2, 0, 11]\n",
      "[3, 0, 11, 0, 8, 2, 8, 33, 28, 33, 14, 33, 29, 33, 31, 33, 30, 32, 15, 32]\n",
      "[17, 0, 19, 1, 17, 1, 0, 12, 0, 6, 4, 0, 31, 33, 29, 23, 27, 33, 19, 0]\n",
      "[23, 32, 31, 33, 27, 2, 32, 22, 33, 28, 2, 1, 13, 3, 1, 13, 33, 31, 25, 23]\n",
      "[27, 23, 32, 22, 32, 8, 32, 8, 32, 18, 33, 22, 33, 8, 33, 18, 32, 2, 32, 33]\n",
      "[19, 1, 17, 1, 0, 1, 0, 2, 13, 33, 31, 0, 4, 0, 4, 6, 16, 5, 16, 6]\n",
      "[26, 33, 32, 31, 25, 31, 32, 29, 33, 8, 0, 4, 6, 4, 6, 5, 16, 5, 10, 5]\n",
      "[23, 27, 33, 8, 32, 30, 32, 15, 33, 26, 29, 23, 32, 14, 32, 22, 33, 32, 29, 23]\n",
      "[2, 28, 33, 19, 1, 3, 2, 9, 2, 3, 7, 3, 12, 3, 12, 0, 7, 0, 31, 0]\n",
      "[11, 0, 11, 0, 31, 33, 19, 1, 19, 0, 10, 4, 0, 6, 4, 0, 31, 0, 17, 1]\n",
      "[7, 2, 28, 33, 27, 24, 31, 24, 27, 23, 29, 32, 29, 26, 29, 23, 25, 24, 25, 23]\n",
      "[25, 24, 31, 24, 25, 24, 25, 24, 25, 23, 32, 30, 33, 8, 0, 6, 16, 5, 0, 7]\n",
      "[24, 25, 31, 32, 14, 32, 20, 33, 14, 33, 19, 1, 2, 8, 33, 13, 0, 3, 12, 0]\n",
      "[0, 1, 17, 1, 13, 0, 31, 28, 33, 26, 33, 19, 1, 17, 1, 0, 6, 0, 5, 16]\n",
      "[19, 0, 21, 1, 17, 1, 13, 3, 0, 11, 0, 3, 12, 3, 1, 13, 1, 19, 0, 6]\n",
      "[27, 23, 29, 33, 20, 32, 14, 33, 14, 32, 15, 32, 20, 32, 14, 32, 2, 28, 33, 15]\n",
      "[3, 7, 3, 13, 3, 2, 0, 12, 3, 0, 2, 1, 21, 1, 7, 1, 0, 13, 1, 0]\n",
      "[32, 22, 33, 32, 33, 15, 33, 9, 33, 14, 32, 30, 8, 2, 32, 15, 32, 23, 33, 31]\n",
      "[27, 24, 31, 25, 31, 32, 31, 33, 29, 26, 29, 33, 13, 3, 2, 3, 2, 8, 30, 8]\n",
      "[23, 33, 19, 0, 13, 33, 15, 33, 26, 29, 32, 33, 28, 33, 23, 27, 2, 0, 7, 3]\n",
      "[9, 2, 13, 0, 4, 6, 4, 6, 5, 6, 16, 6, 5, 0, 3, 13, 3, 7, 3, 1]\n",
      "[31, 28, 2, 32, 23, 33, 29, 26, 29, 32, 23, 27, 33, 32, 23, 25, 24, 25, 31, 25]\n",
      "[22, 32, 8, 30, 32, 33, 20, 33, 22, 33, 22, 33, 19, 1, 17, 1, 17, 1, 3, 0]\n",
      "[20, 32, 14, 32, 33, 20, 32, 22, 33, 27, 2, 3, 7, 3, 1, 30, 33, 26, 33, 30]\n",
      "[3, 2, 0, 5, 10, 5, 16, 6, 16, 6, 5, 6, 5, 0, 31, 24, 31, 28, 33, 29]\n",
      "[3, 1, 0, 21, 0, 19, 33, 8, 33, 15, 32, 29, 33, 9, 2, 28, 31, 33, 18, 32]\n",
      "[24, 27, 33, 27, 33, 23, 25, 31, 25, 31, 33, 30, 8, 32, 8, 0, 5, 0, 2, 9]\n",
      "[15, 33, 29, 33, 22, 33, 14, 33, 13, 2, 8, 32, 23, 25, 23, 33, 8, 0, 6, 0]\n",
      "[30, 8, 2, 7, 3, 0, 3, 1, 3, 0, 12, 0, 10, 0, 4, 0, 10, 0, 31, 28]\n",
      "[11, 0, 11, 0, 6, 0, 31, 28, 31, 24, 31, 28, 33, 13, 0, 11, 0, 5, 6, 0]\n",
      "[17, 0, 21, 0, 5, 0, 11, 0, 12, 0, 6, 16, 5, 0, 3, 12, 3, 12, 0, 1]\n",
      "[24, 25, 24, 25, 23, 32, 2, 28, 31, 32, 18, 32, 23, 27, 2, 7, 3, 0, 2, 32]\n",
      "[30, 8, 2, 28, 33, 29, 26, 29, 32, 22, 32, 30, 33, 26, 33, 13, 3, 2, 13, 2]\n",
      "[22, 33, 32, 22, 32, 29, 33, 15, 33, 23, 27, 24, 31, 33, 28, 33, 9, 33, 27, 23]\n",
      "[6, 4, 0, 11, 0, 2, 0, 12, 0, 6, 16, 6, 16, 6, 4, 10, 4, 0, 4, 10]\n",
      "[26, 33, 13, 1, 19, 0, 13, 3, 13, 1, 21, 1, 13, 33, 20, 32, 18, 32, 8, 2]\n",
      "[1, 13, 1, 0, 4, 10, 5, 0, 4, 0, 5, 10, 4, 0, 5, 0, 17, 1, 13, 33]\n",
      "[26, 29, 33, 9, 33, 26, 33, 32, 30, 33, 13, 33, 27, 2, 1, 3, 1, 3, 13, 2]\n",
      "[33, 27, 2, 1, 13, 33, 26, 29, 32, 18, 33, 18, 32, 8, 33, 22, 33, 9, 2, 8]\n",
      "[1, 7, 1, 21, 1, 3, 1, 21, 0, 10, 4, 10, 0, 5, 0, 4, 10, 4, 10, 5]\n",
      "[15, 33, 27, 23, 27, 33, 19, 1, 17, 1, 3, 0, 12, 0, 10, 4, 6, 5, 6, 5]\n",
      "[4, 10, 0, 4, 10, 0, 12, 0, 3, 2, 3, 2, 13, 1, 19, 0, 19, 1, 2, 0]\n",
      "[3, 13, 33, 13, 3, 1, 3, 1, 19, 33, 22, 33, 27, 23, 27, 24, 25, 23, 27, 24]\n",
      "[14, 33, 28, 2, 7, 3, 7, 2, 1, 0, 19, 0, 8, 30, 1, 30, 33, 19, 0, 31]\n",
      "[33, 31, 28, 33, 23, 29, 33, 23, 25, 23, 32, 33, 19, 0, 4, 10, 4, 0, 4, 6]\n",
      "[3, 1, 0, 3, 13, 33, 14, 33, 29, 32, 18, 33, 8, 33, 26, 33, 19, 0, 2, 13]\n",
      "[4, 6, 4, 10, 5, 16, 5, 0, 17, 1, 30, 8, 32, 22, 32, 14, 32, 8, 30, 32]\n",
      "[12, 0, 31, 24, 25, 31, 0, 10, 0, 11, 0, 1, 0, 1, 19, 33, 9, 2, 32, 33]\n",
      "[9, 33, 14, 32, 8, 30, 32, 33, 13, 33, 23, 29, 32, 23, 33, 31, 25, 24, 27, 33]\n",
      "[5, 6, 4, 6, 0, 1, 2, 27, 2, 9, 2, 0, 8, 30, 1, 2, 13, 33, 13, 3]\n",
      "[29, 23, 27, 2, 32, 33, 14, 32, 29, 26, 33, 31, 0, 21, 1, 13, 2, 1, 2, 13]\n",
      "[4, 0, 6, 16, 6, 4, 10, 5, 16, 6, 4, 6, 0, 12, 0, 5, 6, 5, 16, 6]\n",
      "[14, 32, 23, 33, 15, 33, 30, 1, 13, 0, 5, 0, 13, 0, 6, 5, 10, 0, 31, 33]\n",
      "[32, 33, 29, 23, 25, 31, 32, 31, 25, 24, 27, 2, 27, 33, 27, 33, 18, 32, 20, 32]\n",
      "[2, 28, 2, 9, 2, 3, 7, 3, 12, 0, 13, 0, 6, 0, 21, 0, 10, 0, 2, 32]\n",
      "[12, 0, 11, 0, 3, 12, 0, 19, 0, 1, 13, 2, 28, 33, 8, 33, 9, 33, 18, 33]\n",
      "[18, 33, 8, 2, 9, 33, 8, 2, 13, 1, 2, 7, 0, 6, 16, 5, 16, 6, 4, 0]\n"
     ]
    }
   ]
  },
  {
   "cell_type": "markdown",
   "source": [
    "__running DeepWalk__"
   ],
   "metadata": {
    "id": "KStE4Z0hBAEF"
   }
  },
  {
   "cell_type": "code",
   "source": [
    "deepwalk = Word2Vec(dataset, vector_size=300, epochs=100)"
   ],
   "metadata": {
    "id": "8QT1cXP4-fZQ",
    "ExecuteTime": {
     "end_time": "2023-09-11T13:44:30.445701900Z",
     "start_time": "2023-09-11T13:44:30.323416100Z"
    }
   },
   "execution_count": 194,
   "outputs": []
  },
  {
   "cell_type": "code",
   "execution_count": 195,
   "outputs": [
    {
     "data": {
      "text/plain": "[0,\n 1,\n 2,\n 3,\n 4,\n 5,\n 6,\n 7,\n 8,\n 9,\n 10,\n 11,\n 12,\n 13,\n 14,\n 15,\n 16,\n 17,\n 18,\n 19,\n 20,\n 21,\n 22,\n 23,\n 24,\n 25,\n 26,\n 27,\n 28,\n 29,\n 30,\n 31,\n 32,\n 33]"
     },
     "execution_count": 195,
     "metadata": {},
     "output_type": "execute_result"
    }
   ],
   "source": [
    "sorted(deepwalk.wv.index_to_key)"
   ],
   "metadata": {
    "collapsed": false,
    "ExecuteTime": {
     "end_time": "2023-09-11T13:44:30.448906400Z",
     "start_time": "2023-09-11T13:44:30.445701900Z"
    }
   }
  },
  {
   "cell_type": "markdown",
   "source": [
    "# Node2Vec Code"
   ],
   "metadata": {
    "id": "7egKpseqxX5g"
   }
  },
  {
   "cell_type": "markdown",
   "source": [
    "__Random Walk Code for Node2Vec__"
   ],
   "metadata": {
    "id": "f6Lp-TFlBlzA"
   }
  },
  {
   "cell_type": "code",
   "source": [
    "\n",
    "def node2vec_walk(G, start_node, num_steps, p, q):\n",
    "    walk = [start_node]\n",
    "\n",
    "    for _ in range(num_steps - 1):\n",
    "        current_node = walk[-1]\n",
    "        neighbors = list(G.neighbors(current_node))\n",
    "\n",
    "        if len(neighbors) > 0:\n",
    "            if len(walk) == 1:\n",
    "                next_node = random.choice(neighbors)\n",
    "            else:\n",
    "                next_node = node2vec_weighted_choice(G, current_node, walk[-2], p, q)\n",
    "\n",
    "            walk.append(next_node)\n",
    "        else:\n",
    "            break\n",
    "\n",
    "    return walk\n",
    "\n",
    "def node2vec_weighted_choice(G, current_node, previous_node, p, q):\n",
    "    neighbors = list(G.neighbors(current_node))\n",
    "    unnormalized_weights = []\n",
    "\n",
    "    for neighbor in neighbors:\n",
    "        if neighbor == previous_node:\n",
    "            unnormalized_weights.append(1.0 / p)\n",
    "        elif G.has_edge(current_node, neighbor):\n",
    "            unnormalized_weights.append(1.0)\n",
    "        else:\n",
    "            unnormalized_weights.append(1.0 / q)\n",
    "\n",
    "    norm_weights = [weight / sum(unnormalized_weights) for weight in unnormalized_weights]\n",
    "    return random.choices(neighbors, weights=norm_weights)[0]"
   ],
   "metadata": {
    "id": "6Iu41Jyg88hr",
    "ExecuteTime": {
     "end_time": "2023-09-11T13:44:30.455882500Z",
     "start_time": "2023-09-11T13:44:30.448906400Z"
    }
   },
   "execution_count": 196,
   "outputs": []
  },
  {
   "cell_type": "code",
   "source": [
    "dataset2 = [node2vec_walk(karate_graph, start_node=random.choice(list(karate_graph.nodes)), num_steps=10, p=0.8, q=0.2) for _ in range(100)]"
   ],
   "metadata": {
    "id": "sunDI1RNB4u_",
    "ExecuteTime": {
     "end_time": "2023-09-11T13:44:30.464336300Z",
     "start_time": "2023-09-11T13:44:30.455882500Z"
    }
   },
   "execution_count": 197,
   "outputs": []
  },
  {
   "cell_type": "code",
   "source": [
    "for i in dataset2:\n",
    "    print(i)"
   ],
   "metadata": {
    "colab": {
     "base_uri": "https://localhost:8080/"
    },
    "id": "J-s1iRoDC-3m",
    "executionInfo": {
     "status": "ok",
     "timestamp": 1694281786171,
     "user_tz": -540,
     "elapsed": 2,
     "user": {
      "displayName": "이주호",
      "userId": "15914417090480631241"
     }
    },
    "outputId": "a67339ec-27ef-467e-dbfe-fa0d9d118250",
    "ExecuteTime": {
     "end_time": "2023-09-11T13:44:30.483919500Z",
     "start_time": "2023-09-11T13:44:30.464336300Z"
    }
   },
   "execution_count": 198,
   "outputs": [
    {
     "name": "stdout",
     "output_type": "stream",
     "text": [
      "[31, 24, 25, 23, 27, 23, 29, 33, 32, 20]\n",
      "[12, 0, 3, 1, 3, 1, 13, 33, 18, 32]\n",
      "[22, 33, 20, 32, 22, 32, 2, 9, 33, 20]\n",
      "[15, 32, 15, 32, 29, 26, 33, 19, 1, 3]\n",
      "[25, 24, 25, 24, 25, 31, 33, 13, 1, 13]\n",
      "[11, 0, 5, 0, 8, 2, 28, 31, 0, 31]\n",
      "[10, 4, 6, 16, 6, 16, 6, 5, 10, 0]\n",
      "[27, 2, 9, 33, 27, 2, 7, 3, 7, 2]\n",
      "[1, 2, 3, 0, 12, 3, 12, 3, 1, 13]\n",
      "[6, 5, 16, 6, 16, 6, 5, 0, 7, 2]\n",
      "[29, 33, 15, 33, 20, 33, 13, 33, 29, 26]\n",
      "[7, 1, 19, 33, 32, 14, 33, 13, 33, 28]\n",
      "[22, 32, 30, 32, 30, 32, 31, 0, 1, 2]\n",
      "[29, 26, 29, 23, 27, 24, 27, 23, 32, 31]\n",
      "[6, 4, 6, 0, 8, 0, 13, 3, 2, 27]\n",
      "[32, 14, 33, 29, 26, 29, 33, 9, 2, 8]\n",
      "[22, 33, 22, 32, 29, 32, 31, 33, 32, 33]\n",
      "[5, 16, 5, 6, 5, 10, 0, 19, 33, 9]\n",
      "[11, 0, 8, 0, 11, 0, 13, 1, 13, 1]\n",
      "[31, 32, 2, 28, 33, 14, 32, 29, 26, 29]\n",
      "[28, 33, 20, 32, 33, 13, 3, 0, 8, 2]\n",
      "[27, 23, 33, 9, 33, 30, 32, 33, 32, 15]\n",
      "[26, 29, 26, 33, 13, 2, 27, 33, 30, 8]\n",
      "[0, 13, 0, 12, 0, 2, 0, 11, 0, 3]\n",
      "[4, 0, 2, 13, 2, 27, 23, 29, 32, 2]\n",
      "[20, 33, 8, 32, 33, 31, 33, 27, 24, 25]\n",
      "[13, 1, 3, 2, 0, 19, 33, 30, 33, 32]\n",
      "[6, 16, 6, 0, 5, 6, 5, 6, 4, 10]\n",
      "[19, 0, 6, 0, 5, 16, 5, 10, 5, 6]\n",
      "[33, 8, 0, 3, 1, 30, 1, 3, 12, 0]\n",
      "[29, 32, 33, 29, 32, 30, 33, 15, 32, 18]\n",
      "[28, 2, 7, 2, 27, 23, 33, 28, 33, 30]\n",
      "[20, 32, 18, 33, 29, 33, 13, 2, 1, 2]\n",
      "[22, 33, 19, 33, 22, 32, 18, 32, 30, 1]\n",
      "[28, 33, 28, 31, 33, 8, 32, 14, 32, 30]\n",
      "[17, 1, 2, 1, 0, 31, 25, 23, 25, 24]\n",
      "[10, 5, 0, 10, 4, 10, 4, 6, 16, 6]\n",
      "[0, 7, 1, 13, 0, 12, 0, 2, 13, 1]\n",
      "[15, 32, 31, 32, 8, 32, 23, 29, 23, 27]\n",
      "[18, 33, 14, 32, 2, 8, 33, 29, 32, 2]\n",
      "[1, 2, 28, 31, 33, 8, 30, 1, 19, 1]\n",
      "[5, 0, 5, 16, 6, 0, 31, 25, 31, 28]\n",
      "[28, 2, 28, 31, 33, 20, 33, 31, 32, 30]\n",
      "[2, 3, 1, 17, 1, 2, 8, 32, 20, 32]\n",
      "[28, 33, 22, 33, 27, 2, 13, 2, 0, 7]\n",
      "[1, 2, 28, 33, 22, 33, 15, 32, 2, 0]\n",
      "[22, 33, 28, 33, 19, 1, 19, 0, 1, 3]\n",
      "[5, 0, 2, 9, 2, 32, 8, 0, 8, 2]\n",
      "[24, 31, 0, 11, 0, 12, 0, 2, 7, 3]\n",
      "[17, 1, 0, 2, 0, 4, 10, 0, 6, 0]\n",
      "[6, 16, 6, 0, 6, 0, 5, 6, 16, 5]\n",
      "[16, 5, 6, 0, 4, 10, 4, 6, 0, 13]\n",
      "[23, 27, 23, 33, 9, 33, 32, 29, 33, 19]\n",
      "[17, 0, 3, 7, 1, 7, 0, 8, 32, 23]\n",
      "[10, 4, 6, 4, 6, 4, 6, 5, 16, 6]\n",
      "[30, 1, 21, 1, 19, 33, 14, 33, 14, 33]\n",
      "[4, 0, 11, 0, 12, 0, 3, 0, 2, 7]\n",
      "[29, 26, 33, 32, 23, 27, 23, 32, 33, 18]\n",
      "[4, 6, 0, 10, 0, 19, 1, 21, 0, 8]\n",
      "[20, 32, 22, 33, 23, 32, 2, 8, 33, 28]\n",
      "[24, 25, 24, 31, 33, 32, 31, 33, 19, 1]\n",
      "[8, 32, 20, 33, 8, 30, 32, 29, 32, 30]\n",
      "[19, 0, 11, 0, 10, 5, 16, 5, 16, 6]\n",
      "[18, 33, 30, 33, 13, 2, 1, 21, 0, 5]\n",
      "[4, 0, 4, 6, 16, 5, 16, 6, 5, 0]\n",
      "[20, 32, 22, 33, 29, 33, 32, 14, 32, 22]\n",
      "[2, 7, 0, 5, 10, 4, 0, 8, 30, 8]\n",
      "[26, 29, 23, 29, 26, 29, 33, 9, 2, 0]\n",
      "[14, 33, 15, 33, 28, 33, 28, 2, 7, 0]\n",
      "[12, 0, 3, 1, 17, 1, 17, 1, 17, 1]\n",
      "[6, 4, 0, 2, 32, 29, 32, 29, 33, 31]\n",
      "[8, 0, 3, 12, 3, 12, 3, 7, 1, 3]\n",
      "[25, 31, 0, 7, 0, 1, 30, 33, 27, 33]\n",
      "[30, 1, 17, 1, 19, 0, 13, 0, 2, 0]\n",
      "[27, 23, 25, 23, 29, 23, 29, 26, 33, 13]\n",
      "[32, 22, 32, 30, 33, 22, 32, 31, 25, 31]\n",
      "[25, 24, 31, 25, 23, 29, 23, 29, 26, 33]\n",
      "[5, 6, 16, 5, 10, 0, 3, 13, 1, 30]\n",
      "[5, 16, 5, 6, 5, 0, 21, 1, 30, 8]\n",
      "[30, 1, 21, 1, 21, 0, 17, 1, 21, 0]\n",
      "[23, 25, 31, 33, 26, 33, 20, 33, 32, 8]\n",
      "[23, 29, 26, 29, 26, 33, 27, 24, 31, 24]\n",
      "[29, 26, 29, 26, 29, 33, 18, 33, 22, 32]\n",
      "[15, 33, 31, 25, 24, 25, 24, 25, 23, 33]\n",
      "[6, 16, 5, 0, 6, 4, 10, 4, 10, 5]\n",
      "[1, 21, 1, 30, 8, 33, 18, 32, 31, 28]\n",
      "[9, 33, 32, 22, 32, 30, 33, 23, 25, 24]\n",
      "[32, 31, 24, 25, 31, 25, 31, 28, 31, 25]\n",
      "[10, 5, 6, 0, 17, 0, 21, 0, 19, 33]\n",
      "[13, 2, 3, 0, 8, 30, 32, 31, 28, 2]\n",
      "[10, 4, 6, 4, 10, 0, 10, 5, 6, 0]\n",
      "[33, 20, 33, 14, 33, 9, 33, 30, 33, 26]\n",
      "[21, 0, 7, 1, 7, 1, 2, 0, 6, 16]\n",
      "[30, 1, 0, 2, 7, 1, 21, 1, 13, 0]\n",
      "[14, 32, 14, 32, 22, 32, 2, 1, 13, 2]\n",
      "[20, 33, 30, 1, 3, 0, 17, 0, 31, 0]\n",
      "[23, 32, 2, 7, 1, 17, 0, 21, 0, 10]\n",
      "[26, 29, 26, 33, 20, 33, 26, 29, 26, 29]\n",
      "[28, 31, 25, 31, 25, 31, 0, 21, 0, 8]\n",
      "[0, 17, 1, 2, 7, 3, 12, 0, 11, 0]\n"
     ]
    }
   ]
  },
  {
   "cell_type": "code",
   "source": [
    "node2vec = Word2Vec(dataset2, vector_size=200, epochs=100)"
   ],
   "metadata": {
    "id": "SrtGhxJbD1pW",
    "ExecuteTime": {
     "end_time": "2023-09-11T13:44:30.573944900Z",
     "start_time": "2023-09-11T13:44:30.471417900Z"
    }
   },
   "execution_count": 199,
   "outputs": []
  },
  {
   "cell_type": "markdown",
   "source": [
    "# LINE Code"
   ],
   "metadata": {
    "id": "e78t1TMLNQCT"
   }
  },
  {
   "cell_type": "markdown",
   "source": [
    "__Alias Sampling__"
   ],
   "metadata": {
    "id": "9hCshZM6NWvU"
   }
  },
  {
   "cell_type": "code",
   "source": [
    "import random\n",
    "from decimal import *\n",
    "import numpy as np\n",
    "import collections\n",
    "from tqdm import tqdm\n",
    "import matplotlib.pyplot as plt\n",
    "\n",
    "\n",
    "class VoseAlias:\n",
    "    def __init__(self, dist):\n",
    "        \"\"\"\n",
    "        (VoseAlias, dict) -> NoneType\n",
    "        \"\"\"\n",
    "        self.dist = dist\n",
    "        self.alias_initialisation()\n",
    "\n",
    "    def alias_initialisation(self):\n",
    "        \"\"\"\n",
    "        Construct probability and alias tables for the distribution.\n",
    "        \"\"\"\n",
    "        # Initialise variables\n",
    "        n = len(self.dist)\n",
    "        self.table_prob = {}   # probability table\n",
    "        self.table_alias = {}  # alias table\n",
    "        scaled_prob = {}       # scaled probabilities\n",
    "        small = []             # stack for probabilities smaller that 1\n",
    "        large = []             # stack for probabilities greater than or equal to 1\n",
    "\n",
    "        # Construct and sort the scaled probabilities into their appropriate stacks\n",
    "        print(\"1/2. Building and sorting scaled probabilities for alias table...\")\n",
    "        for o, p in tqdm(self.dist.items()):\n",
    "            scaled_prob[o] = Decimal(p) * n\n",
    "\n",
    "            if scaled_prob[o] < 1:\n",
    "                small.append(o)\n",
    "            else:\n",
    "                large.append(o)\n",
    "\n",
    "        print(\"2/2. Building alias table...\")\n",
    "        # Construct the probability and alias tables\n",
    "        while small and large:\n",
    "            s = small.pop()\n",
    "            l = large.pop()\n",
    "\n",
    "            self.table_prob[s] = scaled_prob[s]\n",
    "            self.table_alias[s] = l\n",
    "\n",
    "            scaled_prob[l] = (scaled_prob[l] + scaled_prob[s]) - Decimal(1)\n",
    "\n",
    "            if scaled_prob[l] < 1:\n",
    "                small.append(l)\n",
    "            else:\n",
    "                large.append(l)\n",
    "\n",
    "        # The remaining outcomes (of one stack) must have probability 1\n",
    "        while large:\n",
    "            self.table_prob[large.pop()] = Decimal(1)\n",
    "\n",
    "        while small:\n",
    "            self.table_prob[small.pop()] = Decimal(1)\n",
    "        self.listprobs = list(self.table_prob)\n",
    "\n",
    "    def alias_generation(self):\n",
    "        \"\"\"\n",
    "        Yields a random outcome from the distribution.\n",
    "        \"\"\"\n",
    "        # Determine which column of table_prob to inspect\n",
    "        col = random.choice(self.listprobs)\n",
    "        # Determine which outcome to pick in that column\n",
    "        if self.table_prob[col] >= random.uniform(0, 1):\n",
    "            return col\n",
    "        else:\n",
    "            return self.table_alias[col]\n",
    "\n",
    "    def sample_n(self, size):\n",
    "        \"\"\"\n",
    "        Yields a sample of size n from the distribution, and print the results to stdout.\n",
    "        \"\"\"\n",
    "        for i in range(size):\n",
    "            yield self.alias_generation()\n",
    "\n",
    "\n",
    "def makeDist(graph: nx.Graph, power=0.75):\n",
    "\n",
    "    edgedistdict = collections.defaultdict(int)\n",
    "    nodedistdict = collections.defaultdict(int)\n",
    "\n",
    "    weightsdict = collections.defaultdict(int)\n",
    "    nodedegrees = collections.defaultdict(int)\n",
    "\n",
    "    weightsum = 0\n",
    "    negprobsum = 0\n",
    "\n",
    "    nlines = 0\n",
    "\n",
    "    maxindex = 0\n",
    "\n",
    "    for edge in tqdm(graph.edges(data=True), total=nlines):\n",
    "        node1, node2, weight = edge[0], edge[1], edge[2][\"weight\"]\n",
    "\n",
    "        edgedistdict[tuple([node1, node2])] = weight\n",
    "        nodedistdict[node1] += weight\n",
    "\n",
    "        weightsdict[tuple([node1, node2])] = weight\n",
    "        nodedegrees[node1] += weight\n",
    "\n",
    "        weightsum += weight\n",
    "        negprobsum += np.power(weight, power)\n",
    "\n",
    "        if node1 > maxindex:\n",
    "            maxindex = node1\n",
    "        elif node2 > maxindex:\n",
    "            maxindex = node2\n",
    "\n",
    "    for node, outdegree in nodedistdict.items():\n",
    "        nodedistdict[node] = np.power(outdegree, power) / negprobsum\n",
    "\n",
    "    for edge, weight in edgedistdict.items():\n",
    "        edgedistdict[edge] = weight / weightsum\n",
    "\n",
    "    return edgedistdict, nodedistdict, weightsdict, nodedegrees, maxindex\n",
    "\n",
    "\n",
    "def negSampleBatch(sourcenode, targetnode, negsamplesize, weights,\n",
    "                   nodedegrees, nodesaliassampler, t=10e-3):\n",
    "    \"\"\"\n",
    "    For generating negative samples.\n",
    "    \"\"\"\n",
    "    negsamples = 0\n",
    "    while negsamples < negsamplesize:\n",
    "        samplednode = nodesaliassampler.sample_n(1)\n",
    "        if (samplednode == sourcenode) or (samplednode == targetnode):\n",
    "            continue\n",
    "        else:\n",
    "            negsamples += 1\n",
    "            yield samplednode\n",
    "\n",
    "\n",
    "def makeData(samplededges, negsamplesize, weights, nodedegrees, nodesaliassampler):\n",
    "    for e in samplededges:\n",
    "        sourcenode, targetnode = e[0], e[1]\n",
    "        negnodes = []\n",
    "        for negsample in negSampleBatch(sourcenode, targetnode, negsamplesize,\n",
    "                                        weights, nodedegrees, nodesaliassampler):\n",
    "            for node in negsample:\n",
    "                negnodes.append(node)\n",
    "        yield [e[0], e[1]] + negnodes"
   ],
   "metadata": {
    "id": "UODB94CHNP1M",
    "executionInfo": {
     "status": "ok",
     "timestamp": 1694285070863,
     "user_tz": -540,
     "elapsed": 336,
     "user": {
      "displayName": "이주호",
      "userId": "15914417090480631241"
     }
    },
    "ExecuteTime": {
     "end_time": "2023-09-11T13:44:30.581222600Z",
     "start_time": "2023-09-11T13:44:30.575384700Z"
    }
   },
   "execution_count": 200,
   "outputs": []
  },
  {
   "cell_type": "markdown",
   "source": [
    "__LINE Model code__"
   ],
   "metadata": {
    "id": "IzPUT7syNo_1"
   }
  },
  {
   "cell_type": "code",
   "source": [
    "import torch\n",
    "import torch.nn as nn\n",
    "import torch.nn.functional as F\n",
    "\n",
    "\n",
    "class LINE(nn.Module):\n",
    "    def __init__(self, size, embed_dim=128, order=1):\n",
    "        super(LINE, self).__init__()\n",
    "\n",
    "        assert order in [1, 2], print(\"Order should either be int(1) or int(2)\")\n",
    "\n",
    "        self.embed_dim = embed_dim\n",
    "        self.order = order\n",
    "        self.nodes_embeddings = nn.Embedding(size, embed_dim)\n",
    "\n",
    "        if order == 2:\n",
    "            self.contextnodes_embeddings = nn.Embedding(size, embed_dim)\n",
    "            # Initialization\n",
    "            self.contextnodes_embeddings.weight.data = self.contextnodes_embeddings.weight.data.uniform_(\n",
    "                -.5, .5) / embed_dim\n",
    "\n",
    "        # Initialization\n",
    "        self.nodes_embeddings.weight.data = self.nodes_embeddings.weight.data.uniform_(\n",
    "            -.5, .5) / embed_dim\n",
    "\n",
    "    def forward(self, v_i, v_j, negsamples, device):\n",
    "\n",
    "        v_i = self.nodes_embeddings(v_i).to(device)\n",
    "\n",
    "        if self.order == 2:\n",
    "            v_j = self.contextnodes_embeddings(v_j).to(device)\n",
    "            negativenodes = -self.contextnodes_embeddings(negsamples).to(device)\n",
    "\n",
    "        else:\n",
    "            v_j = self.nodes_embeddings(v_j).to(device)\n",
    "            negativenodes = -self.nodes_embeddings(negsamples).to(device)\n",
    "\n",
    "        mulpositivebatch = torch.mul(v_i, v_j)\n",
    "        positivebatch = F.logsigmoid(torch.sum(mulpositivebatch, dim=1))\n",
    "\n",
    "        mulnegativebatch = torch.mul(v_i.view(len(v_i), 1, self.embed_dim), negativenodes)\n",
    "        negativebatch = torch.sum(\n",
    "            F.logsigmoid(\n",
    "                torch.sum(mulnegativebatch, dim=2)\n",
    "            ),\n",
    "            dim=1)\n",
    "        loss = positivebatch + negativebatch\n",
    "        return -torch.mean(loss)"
   ],
   "metadata": {
    "id": "5PnFMgwKNYyY",
    "executionInfo": {
     "status": "ok",
     "timestamp": 1694285273557,
     "user_tz": -540,
     "elapsed": 433,
     "user": {
      "displayName": "이주호",
      "userId": "15914417090480631241"
     }
    },
    "ExecuteTime": {
     "end_time": "2023-09-11T13:44:30.587763600Z",
     "start_time": "2023-09-11T13:44:30.581222600Z"
    }
   },
   "execution_count": 201,
   "outputs": []
  },
  {
   "cell_type": "code",
   "execution_count": 202,
   "outputs": [],
   "source": [
    "for edge in karate_graph.edges():\n",
    "    karate_graph.edges[edge][\"weight\"] = 1\n",
    "    "
   ],
   "metadata": {
    "collapsed": false,
    "ExecuteTime": {
     "end_time": "2023-09-11T13:44:30.593500900Z",
     "start_time": "2023-09-11T13:44:30.587763600Z"
    }
   }
  },
  {
   "cell_type": "code",
   "source": [
    "from tqdm import trange\n",
    "import torch\n",
    "import torch.optim as optim\n",
    "import sys\n",
    "import pickle\n",
    "\n",
    "args = {\n",
    "    \"epochs\": 100,\n",
    "    \"order\": 2,\n",
    "    \"num_neg\": 5,\n",
    "    \"dim\": 128,\n",
    "    \"batch_size\": 10,\n",
    "    \"lr\": 0.025,\n",
    "    \"neg_power\": 0.75\n",
    "}\n",
    "# Create dict of distribution when opening file\n",
    "edgedistdict, nodedistdict, weights, nodedegrees, maxindex = makeDist(\n",
    "    karate_graph, args[\"neg_power\"])\n",
    "\n",
    "edgesaliassampler = VoseAlias(edgedistdict)\n",
    "nodesaliassampler = VoseAlias(nodedistdict)\n",
    "\n",
    "batchrange = int(len(edgedistdict) / args[\"batch_size\"])\n",
    "print(maxindex)\n",
    "line = LINE(maxindex + 1, embed_dim=args[\"dim\"], order=args[\"order\"])\n",
    "\n",
    "opt = optim.SGD(line.parameters(), lr=args[\"lr\"],\n",
    "                    momentum=0.9, nesterov=True)\n",
    "\n",
    "device = torch.device(\"cuda:0\" if torch.cuda.is_available() else \"cpu\")\n",
    "\n",
    "lossdata = {\"it\": [], \"loss\": []}\n",
    "it = 0\n",
    "\n",
    "print(\"\\nTraining on {}...\\n\".format(device))\n",
    "for epoch in range(args[\"epochs\"]):\n",
    "    for b in trange(batchrange, desc=f\"Epoch {epoch}\"):\n",
    "        samplededges = edgesaliassampler.sample_n(args[\"batch_size\"])\n",
    "        batch = list(makeData(samplededges, args[\"num_neg\"], weights, nodedegrees,\n",
    "                                  nodesaliassampler))\n",
    "        batch = torch.LongTensor(batch)\n",
    "        v_i = batch[:, 0]\n",
    "        v_j = batch[:, 1]\n",
    "        negsamples = batch[:, 2:]\n",
    "        line.zero_grad()\n",
    "        loss = line(v_i, v_j, negsamples, device)\n",
    "        loss.backward()\n",
    "        opt.step()\n",
    "\n",
    "        lossdata[\"loss\"].append(loss.item())\n",
    "        lossdata[\"it\"].append(it)\n",
    "        it += 1"
   ],
   "metadata": {
    "colab": {
     "base_uri": "https://localhost:8080/"
    },
    "id": "xfJiGAsiNwGT",
    "executionInfo": {
     "status": "ok",
     "timestamp": 1694285305113,
     "user_tz": -540,
     "elapsed": 4927,
     "user": {
      "displayName": "이주호",
      "userId": "15914417090480631241"
     }
    },
    "outputId": "44703b89-f5c0-4a39-bf13-4da418b686b2",
    "ExecuteTime": {
     "end_time": "2023-09-11T13:44:31.909537100Z",
     "start_time": "2023-09-11T13:44:30.593500900Z"
    }
   },
   "execution_count": 203,
   "outputs": [
    {
     "name": "stderr",
     "output_type": "stream",
     "text": [
      "156it [00:00, ?it/s]\n"
     ]
    },
    {
     "name": "stdout",
     "output_type": "stream",
     "text": [
      "1/2. Building and sorting scaled probabilities for alias table...\n"
     ]
    },
    {
     "name": "stderr",
     "output_type": "stream",
     "text": [
      "100%|██████████| 156/156 [00:00<?, ?it/s]\n"
     ]
    },
    {
     "name": "stdout",
     "output_type": "stream",
     "text": [
      "2/2. Building alias table...\n",
      "1/2. Building and sorting scaled probabilities for alias table...\n"
     ]
    },
    {
     "name": "stderr",
     "output_type": "stream",
     "text": [
      "100%|██████████| 34/34 [00:00<?, ?it/s]\n"
     ]
    },
    {
     "name": "stdout",
     "output_type": "stream",
     "text": [
      "2/2. Building alias table...\n",
      "33\n",
      "\n",
      "Training on cuda:0...\n"
     ]
    },
    {
     "name": "stderr",
     "output_type": "stream",
     "text": [
      "Epoch 0: 100%|██████████| 15/15 [00:00<00:00, 749.88it/s]\n",
      "Epoch 1: 100%|██████████| 15/15 [00:00<00:00, 1578.63it/s]\n",
      "Epoch 2: 100%|██████████| 15/15 [00:00<00:00, 959.99it/s]\n",
      "Epoch 3: 100%|██████████| 15/15 [00:00<00:00, 960.09it/s]\n",
      "Epoch 4: 100%|██████████| 15/15 [00:00<00:00, 960.10it/s]\n",
      "Epoch 5: 100%|██████████| 15/15 [00:00<00:00, 960.09it/s]\n",
      "Epoch 6: 100%|██████████| 15/15 [00:00<00:00, 533.34it/s]\n",
      "Epoch 7: 100%|██████████| 15/15 [00:00<00:00, 4283.11it/s]\n",
      "Epoch 8: 100%|██████████| 15/15 [00:00<00:00, 480.02it/s]\n",
      "Epoch 9: 100%|██████████| 15/15 [00:00<?, ?it/s]\n",
      "Epoch 10: 100%|██████████| 15/15 [00:00<00:00, 960.10it/s]\n",
      "Epoch 11: 100%|██████████| 15/15 [00:00<?, ?it/s]\n",
      "Epoch 12: 100%|██████████| 15/15 [00:00<00:00, 960.10it/s]\n",
      "Epoch 13: 100%|██████████| 15/15 [00:00<00:00, 4996.79it/s]\n",
      "Epoch 14: 100%|██████████| 15/15 [00:00<00:00, 959.28it/s]\n",
      "Epoch 15: 100%|██████████| 15/15 [00:00<?, ?it/s]\n",
      "Epoch 16: 100%|██████████| 15/15 [00:00<00:00, 960.13it/s]\n",
      "Epoch 17: 100%|██████████| 15/15 [00:00<00:00, 960.09it/s]\n",
      "Epoch 18: 100%|██████████| 15/15 [00:00<00:00, 960.12it/s]\n",
      "Epoch 19: 100%|██████████| 15/15 [00:00<00:00, 960.09it/s]\n",
      "Epoch 20: 100%|██████████| 15/15 [00:00<00:00, 937.26it/s]\n",
      "Epoch 21: 100%|██████████| 15/15 [00:00<00:00, 3124.33it/s]\n",
      "Epoch 22: 100%|██████████| 15/15 [00:00<00:00, 958.48it/s]\n",
      "Epoch 23: 100%|██████████| 15/15 [00:00<00:00, 960.10it/s]\n",
      "Epoch 24: 100%|██████████| 15/15 [00:00<00:00, 960.10it/s]\n",
      "Epoch 25: 100%|██████████| 15/15 [00:00<00:00, 5471.78it/s]\n",
      "Epoch 26: 100%|██████████| 15/15 [00:00<00:00, 959.27it/s]\n",
      "Epoch 27: 100%|██████████| 15/15 [00:00<00:00, 960.12it/s]\n",
      "Epoch 28: 100%|██████████| 15/15 [00:00<00:00, 937.26it/s]\n",
      "Epoch 29: 100%|██████████| 15/15 [00:00<?, ?it/s]\n",
      "Epoch 30: 100%|██████████| 15/15 [00:00<00:00, 959.99it/s]\n",
      "Epoch 31: 100%|██████████| 15/15 [00:00<00:00, 960.07it/s]\n",
      "Epoch 32: 100%|██████████| 15/15 [00:00<00:00, 960.13it/s]\n",
      "Epoch 33: 100%|██████████| 15/15 [00:00<00:00, 960.10it/s]\n",
      "Epoch 34: 100%|██████████| 15/15 [00:00<?, ?it/s]\n",
      "Epoch 35: 100%|██████████| 15/15 [00:00<00:00, 960.10it/s]\n",
      "Epoch 36: 100%|██████████| 15/15 [00:00<00:00, 937.26it/s]\n",
      "Epoch 37: 100%|██████████| 15/15 [00:00<00:00, 959.99it/s]\n",
      "Epoch 38: 100%|██████████| 15/15 [00:00<00:00, 949.94it/s]\n",
      "Epoch 39: 100%|██████████| 15/15 [00:00<?, ?it/s]\n",
      "Epoch 40: 100%|██████████| 15/15 [00:00<?, ?it/s]\n",
      "Epoch 41: 100%|██████████| 15/15 [00:00<00:00, 960.12it/s]\n",
      "Epoch 42: 100%|██████████| 15/15 [00:00<00:00, 960.12it/s]\n",
      "Epoch 43: 100%|██████████| 15/15 [00:00<00:00, 960.09it/s]\n",
      "Epoch 44: 100%|██████████| 15/15 [00:00<?, ?it/s]\n",
      "Epoch 45: 100%|██████████| 15/15 [00:00<?, ?it/s]\n",
      "Epoch 46: 100%|██████████| 15/15 [00:00<00:00, 959.97it/s]\n",
      "Epoch 47: 100%|██████████| 15/15 [00:00<00:00, 960.12it/s]\n",
      "Epoch 48: 100%|██████████| 15/15 [00:00<00:00, 960.13it/s]\n",
      "Epoch 49: 100%|██████████| 15/15 [00:00<00:00, 960.07it/s]\n",
      "Epoch 50: 100%|██████████| 15/15 [00:00<?, ?it/s]\n",
      "Epoch 51: 100%|██████████| 15/15 [00:00<00:00, 597.00it/s]\n",
      "Epoch 52: 100%|██████████| 15/15 [00:00<00:00, 2307.01it/s]\n",
      "Epoch 53: 100%|██████████| 15/15 [00:00<00:00, 959.96it/s]\n",
      "Epoch 54: 100%|██████████| 15/15 [00:00<?, ?it/s]\n",
      "Epoch 55: 100%|██████████| 15/15 [00:00<?, ?it/s]\n",
      "Epoch 56: 100%|██████████| 15/15 [00:00<00:00, 960.09it/s]\n",
      "Epoch 57: 100%|██████████| 15/15 [00:00<00:00, 960.12it/s]\n",
      "Epoch 58: 100%|██████████| 15/15 [00:00<00:00, 960.09it/s]\n",
      "Epoch 59: 100%|██████████| 15/15 [00:00<?, ?it/s]\n",
      "Epoch 60: 100%|██████████| 15/15 [00:00<00:00, 967.62it/s]\n",
      "Epoch 61: 100%|██████████| 15/15 [00:00<00:00, 959.94it/s]\n",
      "Epoch 62: 100%|██████████| 15/15 [00:00<?, ?it/s]\n",
      "Epoch 63: 100%|██████████| 15/15 [00:00<?, ?it/s]\n",
      "Epoch 64: 100%|██████████| 15/15 [00:00<00:00, 958.23it/s]\n",
      "Epoch 65: 100%|██████████| 15/15 [00:00<00:00, 960.10it/s]\n",
      "Epoch 66: 100%|██████████| 15/15 [00:00<00:00, 960.10it/s]\n",
      "Epoch 67: 100%|██████████| 15/15 [00:00<00:00, 960.12it/s]\n",
      "Epoch 68: 100%|██████████| 15/15 [00:00<00:00, 937.27it/s]\n",
      "Epoch 69: 100%|██████████| 15/15 [00:00<00:00, 959.97it/s]\n",
      "Epoch 70: 100%|██████████| 15/15 [00:00<?, ?it/s]\n",
      "Epoch 71: 100%|██████████| 15/15 [00:00<?, ?it/s]\n",
      "Epoch 72: 100%|██████████| 15/15 [00:00<00:00, 960.07it/s]\n",
      "Epoch 73: 100%|██████████| 15/15 [00:00<00:00, 960.12it/s]\n",
      "Epoch 74: 100%|██████████| 15/15 [00:00<00:00, 960.12it/s]\n",
      "Epoch 75: 100%|██████████| 15/15 [00:00<00:00, 937.29it/s]\n",
      "Epoch 76: 100%|██████████| 15/15 [00:00<?, ?it/s]\n",
      "Epoch 77: 100%|██████████| 15/15 [00:00<00:00, 959.99it/s]\n",
      "Epoch 78: 100%|██████████| 15/15 [00:00<00:00, 960.10it/s]\n",
      "Epoch 79: 100%|██████████| 15/15 [00:00<00:00, 960.10it/s]\n",
      "Epoch 80: 100%|██████████| 15/15 [00:00<?, ?it/s]\n",
      "Epoch 81: 100%|██████████| 15/15 [00:00<?, ?it/s]\n",
      "Epoch 82: 100%|██████████| 15/15 [00:00<00:00, 960.12it/s]\n",
      "Epoch 83: 100%|██████████| 15/15 [00:00<00:00, 827.58it/s]\n",
      "Epoch 84: 100%|██████████| 15/15 [00:00<?, ?it/s]\n",
      "Epoch 85: 100%|██████████| 15/15 [00:00<?, ?it/s]\n",
      "Epoch 86: 100%|██████████| 15/15 [00:00<00:00, 959.96it/s]\n",
      "Epoch 87: 100%|██████████| 15/15 [00:00<00:00, 960.10it/s]\n",
      "Epoch 88: 100%|██████████| 15/15 [00:00<?, ?it/s]\n",
      "Epoch 89: 100%|██████████| 15/15 [00:00<?, ?it/s]\n",
      "Epoch 90: 100%|██████████| 15/15 [00:00<00:00, 960.12it/s]\n",
      "Epoch 91: 100%|██████████| 15/15 [00:00<00:00, 960.10it/s]\n",
      "Epoch 92: 100%|██████████| 15/15 [00:00<00:00, 937.23it/s]\n",
      "Epoch 93: 100%|██████████| 15/15 [00:00<?, ?it/s]\n",
      "Epoch 94: 100%|██████████| 15/15 [00:00<00:00, 960.00it/s]\n",
      "Epoch 95: 100%|██████████| 15/15 [00:00<00:00, 960.10it/s]\n",
      "Epoch 96: 100%|██████████| 15/15 [00:00<00:00, 960.10it/s]\n",
      "Epoch 97: 100%|██████████| 15/15 [00:00<?, ?it/s]\n",
      "Epoch 98: 100%|██████████| 15/15 [00:00<00:00, 960.10it/s]\n",
      "Epoch 99: 100%|██████████| 15/15 [00:00<00:00, 960.12it/s]\n"
     ]
    }
   ]
  }
 ]
}
