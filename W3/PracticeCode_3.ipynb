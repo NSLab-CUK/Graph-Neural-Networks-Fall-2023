{
 "cells": [
  {
   "cell_type": "code",
   "execution_count": 6,
   "metadata": {
    "ExecuteTime": {
     "end_time": "2023-09-13T10:03:24.026724700Z",
     "start_time": "2023-09-13T10:03:20.195939800Z"
    },
    "colab": {
     "base_uri": "https://localhost:8080/"
    },
    "executionInfo": {
     "elapsed": 17682,
     "status": "ok",
     "timestamp": 1694273603438,
     "user": {
      "displayName": "이주호",
      "userId": "15914417090480631241"
     },
     "user_tz": -540
    },
    "id": "NQhZNeHRkSaF",
    "outputId": "fbb77514-350f-45f7-c055-ed76fbad0d5a"
   },
   "outputs": [
    {
     "name": "stdout",
     "output_type": "stream",
     "text": [
      "Requirement already satisfied: gensim in c:\\users\\user\\anaconda3\\envs\\gnn\\lib\\site-packages (4.3.2)\n",
      "Requirement already satisfied: numpy>=1.18.5 in c:\\users\\user\\anaconda3\\envs\\gnn\\lib\\site-packages (from gensim) (1.24.4)\n",
      "Requirement already satisfied: scipy>=1.7.0 in c:\\users\\user\\anaconda3\\envs\\gnn\\lib\\site-packages (from gensim) (1.10.1)\n",
      "Requirement already satisfied: smart-open>=1.8.1 in c:\\users\\user\\anaconda3\\envs\\gnn\\lib\\site-packages (from gensim) (6.4.0)\n",
      "Requirement already satisfied: matplotlib in c:\\users\\user\\anaconda3\\envs\\gnn\\lib\\site-packages (3.7.3)\n",
      "Requirement already satisfied: contourpy>=1.0.1 in c:\\users\\user\\anaconda3\\envs\\gnn\\lib\\site-packages (from matplotlib) (1.1.0)\n",
      "Requirement already satisfied: cycler>=0.10 in c:\\users\\user\\anaconda3\\envs\\gnn\\lib\\site-packages (from matplotlib) (0.11.0)\n",
      "Requirement already satisfied: fonttools>=4.22.0 in c:\\users\\user\\anaconda3\\envs\\gnn\\lib\\site-packages (from matplotlib) (4.42.1)\n",
      "Requirement already satisfied: kiwisolver>=1.0.1 in c:\\users\\user\\anaconda3\\envs\\gnn\\lib\\site-packages (from matplotlib) (1.4.5)\n",
      "Requirement already satisfied: numpy<2,>=1.20 in c:\\users\\user\\anaconda3\\envs\\gnn\\lib\\site-packages (from matplotlib) (1.24.4)\n",
      "Requirement already satisfied: packaging>=20.0 in c:\\users\\user\\anaconda3\\envs\\gnn\\lib\\site-packages (from matplotlib) (23.1)\n",
      "Requirement already satisfied: pillow>=6.2.0 in c:\\users\\user\\anaconda3\\envs\\gnn\\lib\\site-packages (from matplotlib) (10.0.0)\n",
      "Requirement already satisfied: pyparsing>=2.3.1 in c:\\users\\user\\anaconda3\\envs\\gnn\\lib\\site-packages (from matplotlib) (3.1.1)\n",
      "Requirement already satisfied: python-dateutil>=2.7 in c:\\users\\user\\anaconda3\\envs\\gnn\\lib\\site-packages (from matplotlib) (2.8.2)\n",
      "Requirement already satisfied: importlib-resources>=3.2.0 in c:\\users\\user\\anaconda3\\envs\\gnn\\lib\\site-packages (from matplotlib) (6.0.1)\n",
      "Requirement already satisfied: zipp>=3.1.0 in c:\\users\\user\\anaconda3\\envs\\gnn\\lib\\site-packages (from importlib-resources>=3.2.0->matplotlib) (3.16.2)\n",
      "Requirement already satisfied: six>=1.5 in c:\\users\\user\\anaconda3\\envs\\gnn\\lib\\site-packages (from python-dateutil>=2.7->matplotlib) (1.16.0)\n",
      "Requirement already satisfied: scikit-learn in c:\\users\\user\\anaconda3\\envs\\gnn\\lib\\site-packages (1.3.0)\n",
      "Requirement already satisfied: numpy>=1.17.3 in c:\\users\\user\\anaconda3\\envs\\gnn\\lib\\site-packages (from scikit-learn) (1.24.4)\n",
      "Requirement already satisfied: scipy>=1.5.0 in c:\\users\\user\\anaconda3\\envs\\gnn\\lib\\site-packages (from scikit-learn) (1.10.1)\n",
      "Requirement already satisfied: joblib>=1.1.1 in c:\\users\\user\\anaconda3\\envs\\gnn\\lib\\site-packages (from scikit-learn) (1.3.2)\n",
      "Requirement already satisfied: threadpoolctl>=2.0.0 in c:\\users\\user\\anaconda3\\envs\\gnn\\lib\\site-packages (from scikit-learn) (3.2.0)\n",
      "Requirement already satisfied: torch_geometric in c:\\users\\user\\anaconda3\\envs\\gnn\\lib\\site-packages (2.3.1)\n",
      "Requirement already satisfied: tqdm in c:\\users\\user\\anaconda3\\envs\\gnn\\lib\\site-packages (from torch_geometric) (4.66.1)\n",
      "Requirement already satisfied: numpy in c:\\users\\user\\anaconda3\\envs\\gnn\\lib\\site-packages (from torch_geometric) (1.24.4)\n",
      "Requirement already satisfied: scipy in c:\\users\\user\\anaconda3\\envs\\gnn\\lib\\site-packages (from torch_geometric) (1.10.1)\n",
      "Requirement already satisfied: jinja2 in c:\\users\\user\\anaconda3\\envs\\gnn\\lib\\site-packages (from torch_geometric) (3.1.2)\n",
      "Requirement already satisfied: requests in c:\\users\\user\\anaconda3\\envs\\gnn\\lib\\site-packages (from torch_geometric) (2.31.0)\n",
      "Requirement already satisfied: pyparsing in c:\\users\\user\\anaconda3\\envs\\gnn\\lib\\site-packages (from torch_geometric) (3.1.1)\n",
      "Requirement already satisfied: scikit-learn in c:\\users\\user\\anaconda3\\envs\\gnn\\lib\\site-packages (from torch_geometric) (1.3.0)\n",
      "Requirement already satisfied: psutil>=5.8.0 in c:\\users\\user\\anaconda3\\envs\\gnn\\lib\\site-packages (from torch_geometric) (5.9.5)\n",
      "Requirement already satisfied: MarkupSafe>=2.0 in c:\\users\\user\\anaconda3\\envs\\gnn\\lib\\site-packages (from jinja2->torch_geometric) (2.1.3)\n",
      "Requirement already satisfied: charset-normalizer<4,>=2 in c:\\users\\user\\anaconda3\\envs\\gnn\\lib\\site-packages (from requests->torch_geometric) (3.2.0)\n",
      "Requirement already satisfied: idna<4,>=2.5 in c:\\users\\user\\anaconda3\\envs\\gnn\\lib\\site-packages (from requests->torch_geometric) (3.4)\n",
      "Requirement already satisfied: urllib3<3,>=1.21.1 in c:\\users\\user\\anaconda3\\envs\\gnn\\lib\\site-packages (from requests->torch_geometric) (2.0.4)\n",
      "Requirement already satisfied: certifi>=2017.4.17 in c:\\users\\user\\anaconda3\\envs\\gnn\\lib\\site-packages (from requests->torch_geometric) (2023.7.22)\n",
      "Requirement already satisfied: joblib>=1.1.1 in c:\\users\\user\\anaconda3\\envs\\gnn\\lib\\site-packages (from scikit-learn->torch_geometric) (1.3.2)\n",
      "Requirement already satisfied: threadpoolctl>=2.0.0 in c:\\users\\user\\anaconda3\\envs\\gnn\\lib\\site-packages (from scikit-learn->torch_geometric) (3.2.0)\n",
      "Requirement already satisfied: colorama in c:\\users\\user\\anaconda3\\envs\\gnn\\lib\\site-packages (from tqdm->torch_geometric) (0.4.6)\n",
      "Requirement already satisfied: networkx in c:\\users\\user\\anaconda3\\envs\\gnn\\lib\\site-packages (3.1)\n",
      "Looking in indexes: https://download.pytorch.org/whl/cu117\n",
      "Collecting torch\n",
      "  Using cached https://download.pytorch.org/whl/cu117/torch-2.0.1%2Bcu117-cp38-cp38-win_amd64.whl (2343.7 MB)\n",
      "Collecting torchvision\n",
      "  Using cached https://download.pytorch.org/whl/cu117/torchvision-0.15.2%2Bcu117-cp38-cp38-win_amd64.whl (4.9 MB)\n",
      "Collecting torchaudio\n",
      "  Using cached https://download.pytorch.org/whl/cu117/torchaudio-2.0.2%2Bcu117-cp38-cp38-win_amd64.whl (2.5 MB)\n",
      "Collecting filelock (from torch)\n",
      "  Using cached https://download.pytorch.org/whl/filelock-3.9.0-py3-none-any.whl (9.7 kB)\n",
      "Requirement already satisfied: typing-extensions in c:\\users\\user\\anaconda3\\envs\\gnn\\lib\\site-packages (from torch) (4.7.1)\n",
      "Collecting sympy (from torch)\n",
      "  Using cached https://download.pytorch.org/whl/sympy-1.11.1-py3-none-any.whl (6.5 MB)\n",
      "Requirement already satisfied: networkx in c:\\users\\user\\anaconda3\\envs\\gnn\\lib\\site-packages (from torch) (3.1)\n",
      "Requirement already satisfied: jinja2 in c:\\users\\user\\anaconda3\\envs\\gnn\\lib\\site-packages (from torch) (3.1.2)\n",
      "Requirement already satisfied: numpy in c:\\users\\user\\anaconda3\\envs\\gnn\\lib\\site-packages (from torchvision) (1.24.4)\n",
      "Requirement already satisfied: requests in c:\\users\\user\\anaconda3\\envs\\gnn\\lib\\site-packages (from torchvision) (2.31.0)\n",
      "Requirement already satisfied: pillow!=8.3.*,>=5.3.0 in c:\\users\\user\\anaconda3\\envs\\gnn\\lib\\site-packages (from torchvision) (10.0.0)\n",
      "Requirement already satisfied: MarkupSafe>=2.0 in c:\\users\\user\\anaconda3\\envs\\gnn\\lib\\site-packages (from jinja2->torch) (2.1.3)\n",
      "Requirement already satisfied: charset-normalizer<4,>=2 in c:\\users\\user\\anaconda3\\envs\\gnn\\lib\\site-packages (from requests->torchvision) (3.2.0)\n",
      "Requirement already satisfied: idna<4,>=2.5 in c:\\users\\user\\anaconda3\\envs\\gnn\\lib\\site-packages (from requests->torchvision) (3.4)\n",
      "Requirement already satisfied: urllib3<3,>=1.21.1 in c:\\users\\user\\anaconda3\\envs\\gnn\\lib\\site-packages (from requests->torchvision) (2.0.4)\n",
      "Requirement already satisfied: certifi>=2017.4.17 in c:\\users\\user\\anaconda3\\envs\\gnn\\lib\\site-packages (from requests->torchvision) (2023.7.22)\n",
      "Collecting mpmath>=0.19 (from sympy->torch)\n",
      "  Using cached https://download.pytorch.org/whl/mpmath-1.2.1-py3-none-any.whl (532 kB)\n",
      "Installing collected packages: mpmath, sympy, filelock, torch, torchvision, torchaudio\n",
      "Successfully installed filelock-3.9.0 mpmath-1.2.1 sympy-1.11.1 torch-2.0.1+cu117 torchaudio-2.0.2+cu117 torchvision-0.15.2+cu117\n"
     ]
    }
   ],
   "source": [
    "!pip install gensim\n",
    "!pip install matplotlib\n",
    "!pip install -U scikit-learn\n",
    "!pip install torch_geometric\n",
    "!pip install networkx\n",
    "!pip3 install torch torchvision torchaudio --index-url https://download.pytorch.org/whl/cu117"
   ]
  },
  {
   "cell_type": "markdown",
   "metadata": {
    "id": "DwAT_2qqlbCr"
   },
   "source": [
    "#  Graph  Construction"
   ]
  },
  {
   "cell_type": "code",
   "execution_count": 7,
   "metadata": {
    "ExecuteTime": {
     "end_time": "2023-09-13T10:03:25.490787400Z",
     "start_time": "2023-09-13T10:03:24.026724700Z"
    },
    "id": "waOeZ6J5lajH"
   },
   "outputs": [],
   "source": [
    "import networkx as nx\n",
    "import random\n",
    "from torch_geometric.datasets import KarateClub\n",
    "from torch_geometric.utils import to_networkx"
   ]
  },
  {
   "cell_type": "code",
   "execution_count": 8,
   "metadata": {
    "ExecuteTime": {
     "end_time": "2023-09-13T10:03:25.495219800Z",
     "start_time": "2023-09-13T10:03:25.490787400Z"
    }
   },
   "outputs": [],
   "source": [
    "dataset = KarateClub()[0]"
   ]
  },
  {
   "cell_type": "code",
   "execution_count": 9,
   "metadata": {
    "ExecuteTime": {
     "end_time": "2023-09-13T10:03:25.511159800Z",
     "start_time": "2023-09-13T10:03:25.495219800Z"
    }
   },
   "outputs": [
    {
     "data": {
      "text/plain": [
       "Data(x=[34, 34], edge_index=[2, 156], y=[34], train_mask=[34])"
      ]
     },
     "execution_count": 9,
     "metadata": {},
     "output_type": "execute_result"
    }
   ],
   "source": [
    "dataset"
   ]
  },
  {
   "cell_type": "code",
   "execution_count": 10,
   "metadata": {
    "ExecuteTime": {
     "end_time": "2023-09-13T10:03:25.519121200Z",
     "start_time": "2023-09-13T10:03:25.508158500Z"
    }
   },
   "outputs": [
    {
     "data": {
      "text/plain": [
       "tensor([1, 1, 1, 1, 3, 3, 3, 1, 0, 1, 3, 1, 1, 1, 0, 0, 3, 1, 0, 1, 0, 1, 0, 0,\n",
       "        2, 2, 0, 0, 2, 0, 0, 2, 0, 0])"
      ]
     },
     "execution_count": 10,
     "metadata": {},
     "output_type": "execute_result"
    }
   ],
   "source": [
    "dataset.y"
   ]
  },
  {
   "cell_type": "code",
   "execution_count": 11,
   "metadata": {
    "ExecuteTime": {
     "end_time": "2023-09-13T10:03:25.532706200Z",
     "start_time": "2023-09-13T10:03:25.519121200Z"
    }
   },
   "outputs": [],
   "source": [
    "karate_graph = to_networkx(dataset)\n",
    "\n",
    "for node in karate_graph.nodes:\n",
    "    karate_graph.nodes[node][\"class\"] = dataset.y.tolist()[node]\n",
    "    "
   ]
  },
  {
   "cell_type": "code",
   "execution_count": 12,
   "metadata": {
    "ExecuteTime": {
     "end_time": "2023-09-13T10:03:25.558910Z",
     "start_time": "2023-09-13T10:03:25.527199900Z"
    }
   },
   "outputs": [
    {
     "data": {
      "text/plain": [
       "NodeDataView({0: {'class': 1}, 1: {'class': 1}, 2: {'class': 1}, 3: {'class': 1}, 4: {'class': 3}, 5: {'class': 3}, 6: {'class': 3}, 7: {'class': 1}, 8: {'class': 0}, 9: {'class': 1}, 10: {'class': 3}, 11: {'class': 1}, 12: {'class': 1}, 13: {'class': 1}, 14: {'class': 0}, 15: {'class': 0}, 16: {'class': 3}, 17: {'class': 1}, 18: {'class': 0}, 19: {'class': 1}, 20: {'class': 0}, 21: {'class': 1}, 22: {'class': 0}, 23: {'class': 0}, 24: {'class': 2}, 25: {'class': 2}, 26: {'class': 0}, 27: {'class': 0}, 28: {'class': 2}, 29: {'class': 0}, 30: {'class': 0}, 31: {'class': 2}, 32: {'class': 0}, 33: {'class': 0}})"
      ]
     },
     "execution_count": 12,
     "metadata": {},
     "output_type": "execute_result"
    }
   ],
   "source": [
    "karate_graph.nodes(data=True)"
   ]
  },
  {
   "cell_type": "markdown",
   "metadata": {
    "id": "Bri8adxGmZZp"
   },
   "source": [
    "# Random Walk"
   ]
  },
  {
   "cell_type": "code",
   "execution_count": 13,
   "metadata": {
    "ExecuteTime": {
     "end_time": "2023-09-13T10:03:25.558910Z",
     "start_time": "2023-09-13T10:03:25.532706200Z"
    },
    "id": "crQWRSfpmt_P"
   },
   "outputs": [],
   "source": [
    "'''\n",
    "    graph : Graph\n",
    "    start_node : start_node of random walk sequence\n",
    "    num_steps : the length of random walk sequnce\n",
    "'''\n",
    "def random_walk(graph, start_node, num_steps):\n",
    "    result = []\n",
    "    current_node = start_node\n",
    "    for _ in range(num_steps):\n",
    "        result.append(current_node)\n",
    "        neighbors = list(graph .neighbors(current_node))\n",
    "        if not neighbors:\n",
    "            break\n",
    "        current_node = random.choice(neighbors)\n",
    "\n",
    "    return result"
   ]
  },
  {
   "cell_type": "code",
   "execution_count": 14,
   "metadata": {
    "ExecuteTime": {
     "end_time": "2023-09-13T10:03:25.558910Z",
     "start_time": "2023-09-13T10:03:25.537831400Z"
    },
    "colab": {
     "base_uri": "https://localhost:8080/"
    },
    "executionInfo": {
     "elapsed": 2,
     "status": "ok",
     "timestamp": 1694281698539,
     "user": {
      "displayName": "이주호",
      "userId": "15914417090480631241"
     },
     "user_tz": -540
    },
    "id": "yEuAh6O0mP3W",
    "outputId": "0d9f9632-aa2f-4541-a007-3f9e78a91a8e"
   },
   "outputs": [
    {
     "name": "stdout",
     "output_type": "stream",
     "text": [
      "Random Walk:\n",
      "[24, 25, 24, 31, 33, 27, 23, 29, 33, 26]\n"
     ]
    }
   ],
   "source": [
    "start_node = random.choice(list(karate_graph.nodes()))\n",
    "num_steps = 10  # the number of steps for random walk (length of sequence)\n",
    "\n",
    "print(\"Random Walk:\")\n",
    "\n",
    "result = random_walk(karate_graph, start_node, num_steps)\n",
    "print(result)"
   ]
  },
  {
   "cell_type": "markdown",
   "metadata": {
    "id": "bKvqaHPz-Xbt"
   },
   "source": [
    "# Deep Walk Code"
   ]
  },
  {
   "cell_type": "code",
   "execution_count": 15,
   "metadata": {
    "ExecuteTime": {
     "end_time": "2023-09-13T10:03:25.773206600Z",
     "start_time": "2023-09-13T10:03:25.548908800Z"
    },
    "id": "KCz7jUxW-XSG"
   },
   "outputs": [],
   "source": [
    "import numpy as np\n",
    "import random\n",
    "from gensim.models import Word2Vec\n",
    "from torch.utils.data import Dataset\n",
    "from functools import partial"
   ]
  },
  {
   "cell_type": "markdown",
   "metadata": {
    "id": "KlpYFh3zBDMT"
   },
   "source": [
    "__building dataset__"
   ]
  },
  {
   "cell_type": "code",
   "execution_count": 16,
   "metadata": {
    "ExecuteTime": {
     "end_time": "2023-09-13T10:03:25.778546600Z",
     "start_time": "2023-09-13T10:03:25.773206600Z"
    },
    "id": "oOj1EIKB-v-6"
   },
   "outputs": [],
   "source": [
    "dataset = [random_walk(karate_graph, start_node=random.choice(list(karate_graph.nodes)), num_steps=20) for _ in range(100)]"
   ]
  },
  {
   "cell_type": "code",
   "execution_count": 17,
   "metadata": {
    "ExecuteTime": {
     "end_time": "2023-09-13T10:03:25.787885600Z",
     "start_time": "2023-09-13T10:03:25.776544800Z"
    },
    "colab": {
     "base_uri": "https://localhost:8080/"
    },
    "executionInfo": {
     "elapsed": 434,
     "status": "ok",
     "timestamp": 1694281709082,
     "user": {
      "displayName": "이주호",
      "userId": "15914417090480631241"
     },
     "user_tz": -540
    },
    "id": "CZE8-aFKCLZy",
    "outputId": "ab2370fc-92bf-4b0c-9c32-4e8acfbc910a"
   },
   "outputs": [
    {
     "name": "stdout",
     "output_type": "stream",
     "text": [
      "[12, 0, 8, 32, 31, 32, 31, 33, 20, 33, 27, 23, 25, 23, 25, 31, 25, 31, 28, 33]\n",
      "[19, 1, 30, 32, 29, 33, 23, 27, 24, 25, 31, 25, 24, 27, 2, 27, 24, 31, 0, 12]\n",
      "[22, 33, 14, 32, 8, 33, 31, 24, 25, 31, 32, 29, 32, 15, 32, 14, 33, 15, 33, 23]\n",
      "[17, 0, 10, 5, 0, 5, 16, 6, 0, 2, 9, 33, 31, 0, 21, 1, 2, 27, 33, 26]\n",
      "[10, 4, 6, 16, 5, 10, 4, 10, 4, 6, 0, 17, 1, 17, 1, 13, 33, 20, 32, 30]\n",
      "[28, 33, 22, 32, 29, 33, 28, 31, 32, 30, 1, 21, 1, 30, 33, 30, 8, 30, 8, 30]\n",
      "[4, 10, 4, 10, 0, 1, 30, 32, 15, 33, 22, 32, 8, 30, 33, 23, 32, 30, 1, 21]\n",
      "[0, 6, 0, 7, 3, 13, 3, 13, 0, 19, 33, 13, 0, 21, 1, 17, 1, 3, 1, 7]\n",
      "[30, 32, 18, 33, 32, 15, 33, 29, 26, 33, 26, 29, 26, 29, 33, 22, 32, 29, 26, 29]\n",
      "[16, 5, 6, 5, 10, 5, 6, 4, 0, 6, 5, 6, 16, 5, 16, 6, 5, 0, 5, 10]\n",
      "[18, 32, 22, 33, 18, 33, 29, 26, 33, 23, 32, 18, 33, 32, 8, 33, 9, 33, 19, 0]\n",
      "[13, 1, 3, 2, 3, 12, 0, 1, 30, 32, 22, 32, 30, 32, 31, 33, 20, 33, 9, 2]\n",
      "[15, 32, 8, 30, 8, 33, 28, 2, 1, 19, 33, 22, 33, 8, 2, 32, 30, 1, 2, 32]\n",
      "[14, 32, 14, 32, 23, 33, 31, 33, 28, 31, 28, 31, 0, 13, 2, 27, 23, 32, 15, 32]\n",
      "[19, 1, 21, 0, 2, 8, 30, 32, 18, 33, 8, 0, 2, 1, 13, 3, 7, 2, 7, 3]\n",
      "[13, 0, 2, 9, 33, 27, 33, 9, 2, 3, 7, 0, 11, 0, 31, 24, 27, 33, 19, 1]\n",
      "[25, 31, 25, 23, 27, 33, 27, 33, 23, 27, 23, 33, 14, 33, 19, 0, 6, 5, 0, 4]\n",
      "[27, 23, 33, 8, 33, 15, 33, 18, 32, 20, 32, 22, 33, 31, 28, 2, 13, 2, 7, 3]\n",
      "[7, 3, 1, 0, 1, 17, 1, 0, 6, 0, 21, 1, 17, 0, 21, 0, 17, 1, 3, 13]\n",
      "[24, 31, 28, 31, 33, 9, 33, 18, 33, 15, 33, 30, 33, 26, 29, 32, 30, 1, 3, 2]\n",
      "[22, 33, 13, 2, 3, 0, 10, 0, 1, 21, 1, 2, 13, 3, 7, 2, 32, 15, 33, 28]\n",
      "[23, 29, 32, 15, 33, 15, 32, 23, 25, 23, 33, 19, 1, 19, 33, 29, 23, 29, 33, 15]\n",
      "[6, 5, 6, 0, 19, 0, 31, 24, 27, 2, 28, 2, 28, 31, 25, 24, 25, 31, 32, 15]\n",
      "[2, 13, 33, 19, 1, 19, 1, 7, 0, 6, 5, 0, 1, 21, 0, 11, 0, 2, 13, 2]\n",
      "[2, 1, 2, 9, 2, 32, 20, 32, 18, 32, 15, 33, 26, 33, 29, 26, 33, 27, 33, 9]\n",
      "[0, 11, 0, 31, 28, 2, 27, 23, 27, 24, 25, 24, 31, 33, 15, 32, 8, 30, 1, 0]\n",
      "[10, 5, 10, 4, 10, 5, 0, 21, 1, 30, 8, 33, 32, 18, 33, 27, 33, 15, 32, 15]\n",
      "[11, 0, 17, 0, 21, 0, 19, 1, 0, 8, 33, 29, 23, 25, 31, 25, 23, 32, 14, 32]\n",
      "[25, 31, 33, 23, 32, 14, 33, 28, 2, 27, 24, 25, 31, 0, 2, 1, 17, 0, 4, 0]\n",
      "[10, 0, 31, 32, 14, 32, 15, 33, 19, 33, 15, 32, 23, 33, 14, 33, 23, 27, 33, 22]\n",
      "[33, 18, 33, 19, 1, 13, 3, 7, 1, 7, 0, 3, 2, 7, 2, 32, 31, 0, 11, 0]\n",
      "[29, 33, 23, 27, 24, 25, 24, 27, 24, 31, 25, 23, 32, 23, 32, 31, 32, 8, 2, 13]\n",
      "[22, 32, 29, 33, 23, 25, 23, 27, 2, 27, 24, 27, 2, 0, 7, 2, 13, 1, 2, 28]\n",
      "[15, 33, 22, 33, 20, 33, 29, 26, 33, 28, 31, 28, 2, 32, 33, 32, 23, 25, 31, 33]\n",
      "[11, 0, 5, 0, 5, 0, 5, 0, 11, 0, 31, 32, 8, 32, 18, 32, 8, 30, 33, 13]\n",
      "[10, 4, 6, 16, 6, 16, 5, 0, 10, 0, 7, 1, 17, 0, 7, 0, 1, 17, 0, 19]\n",
      "[23, 32, 20, 33, 19, 0, 21, 1, 13, 2, 3, 0, 7, 3, 2, 3, 0, 10, 4, 6]\n",
      "[30, 8, 33, 29, 33, 18, 33, 19, 0, 11, 0, 2, 27, 24, 27, 24, 31, 33, 8, 32]\n",
      "[8, 32, 18, 32, 29, 26, 33, 31, 24, 27, 23, 25, 23, 32, 20, 33, 28, 33, 28, 33]\n",
      "[29, 26, 33, 13, 1, 19, 33, 22, 33, 13, 33, 26, 29, 23, 29, 23, 32, 8, 30, 32]\n",
      "[11, 0, 10, 5, 10, 5, 0, 1, 19, 1, 17, 1, 17, 0, 31, 25, 31, 24, 27, 23]\n",
      "[21, 1, 2, 1, 17, 0, 4, 6, 4, 10, 5, 16, 5, 10, 0, 1, 21, 1, 0, 2]\n",
      "[0, 19, 1, 30, 8, 30, 1, 19, 1, 13, 2, 7, 0, 2, 8, 30, 1, 21, 1, 0]\n",
      "[8, 30, 32, 15, 33, 22, 32, 30, 32, 23, 33, 30, 33, 14, 32, 30, 33, 31, 0, 6]\n",
      "[23, 27, 24, 31, 25, 23, 29, 33, 28, 2, 32, 22, 32, 20, 32, 30, 1, 0, 3, 2]\n",
      "[19, 0, 4, 0, 11, 0, 1, 17, 0, 12, 3, 1, 0, 6, 4, 10, 5, 0, 17, 1]\n",
      "[21, 1, 17, 1, 21, 0, 3, 13, 3, 7, 3, 13, 2, 32, 31, 25, 24, 27, 24, 31]\n",
      "[19, 0, 12, 3, 1, 7, 1, 7, 2, 32, 29, 33, 8, 0, 17, 1, 21, 0, 8, 33]\n",
      "[16, 6, 5, 16, 5, 6, 4, 10, 4, 0, 2, 28, 33, 8, 33, 28, 33, 8, 0, 3]\n",
      "[29, 32, 2, 13, 2, 8, 32, 29, 23, 33, 14, 33, 23, 33, 22, 32, 18, 32, 29, 26]\n",
      "[26, 29, 32, 31, 33, 14, 33, 23, 33, 26, 29, 33, 8, 30, 33, 30, 32, 30, 33, 28]\n",
      "[3, 7, 2, 28, 31, 0, 6, 5, 16, 5, 16, 5, 0, 5, 6, 4, 0, 21, 1, 13]\n",
      "[10, 0, 5, 6, 0, 31, 24, 27, 23, 27, 24, 27, 23, 32, 15, 33, 23, 33, 30, 33]\n",
      "[22, 33, 29, 33, 30, 33, 9, 2, 1, 17, 0, 4, 6, 0, 6, 0, 10, 5, 0, 3]\n",
      "[24, 27, 23, 32, 15, 33, 19, 1, 0, 8, 33, 13, 33, 23, 25, 23, 27, 24, 31, 24]\n",
      "[4, 6, 16, 6, 5, 16, 6, 0, 10, 5, 0, 19, 0, 21, 1, 13, 33, 8, 2, 13]\n",
      "[4, 6, 16, 6, 4, 6, 4, 0, 6, 5, 10, 4, 0, 21, 0, 13, 2, 9, 33, 8]\n",
      "[10, 0, 19, 0, 8, 0, 7, 2, 9, 2, 9, 33, 15, 33, 22, 33, 14, 32, 8, 0]\n",
      "[21, 1, 0, 8, 2, 32, 22, 33, 28, 31, 33, 27, 2, 27, 2, 9, 33, 27, 23, 32]\n",
      "[24, 27, 24, 27, 33, 18, 33, 18, 32, 8, 30, 1, 30, 1, 21, 0, 5, 16, 5, 10]\n",
      "[20, 33, 32, 14, 33, 27, 23, 25, 31, 24, 27, 24, 31, 24, 25, 31, 25, 24, 25, 23]\n",
      "[10, 4, 6, 5, 16, 5, 0, 3, 7, 2, 0, 1, 13, 0, 4, 6, 0, 3, 12, 0]\n",
      "[29, 23, 32, 8, 33, 15, 33, 19, 0, 4, 6, 16, 6, 16, 5, 6, 5, 6, 0, 3]\n",
      "[4, 0, 12, 3, 0, 10, 5, 16, 5, 10, 4, 6, 5, 10, 5, 0, 1, 0, 11, 0]\n",
      "[1, 17, 0, 19, 33, 9, 33, 30, 33, 19, 33, 8, 30, 8, 0, 13, 0, 13, 3, 1]\n",
      "[3, 2, 28, 31, 32, 29, 23, 29, 33, 18, 32, 31, 24, 31, 33, 20, 33, 29, 23, 25]\n",
      "[13, 0, 12, 0, 3, 0, 31, 24, 25, 23, 27, 23, 33, 22, 32, 8, 32, 31, 32, 22]\n",
      "[15, 33, 28, 31, 0, 5, 0, 17, 0, 11, 0, 1, 21, 0, 4, 0, 8, 0, 21, 1]\n",
      "[2, 3, 13, 2, 3, 12, 3, 0, 5, 6, 5, 10, 4, 6, 4, 6, 0, 2, 32, 15]\n",
      "[20, 33, 27, 2, 3, 0, 12, 0, 7, 1, 17, 1, 30, 8, 30, 8, 0, 3, 12, 3]\n",
      "[2, 3, 2, 8, 30, 32, 2, 27, 24, 31, 25, 31, 28, 31, 33, 19, 0, 2, 1, 2]\n",
      "[3, 0, 7, 3, 12, 3, 7, 3, 0, 1, 17, 1, 30, 32, 33, 28, 33, 27, 33, 30]\n",
      "[20, 32, 23, 29, 33, 9, 2, 1, 21, 0, 1, 30, 1, 13, 0, 3, 7, 0, 1, 21]\n",
      "[13, 2, 28, 31, 25, 31, 0, 7, 0, 11, 0, 4, 10, 0, 11, 0, 2, 9, 33, 20]\n",
      "[0, 19, 0, 21, 0, 5, 6, 4, 6, 5, 10, 0, 13, 1, 19, 1, 3, 7, 1, 3]\n",
      "[30, 1, 17, 0, 10, 0, 17, 1, 30, 1, 13, 2, 9, 33, 31, 33, 15, 32, 23, 32]\n",
      "[20, 33, 23, 27, 24, 27, 2, 9, 2, 8, 2, 7, 0, 6, 5, 10, 5, 16, 5, 0]\n",
      "[1, 19, 0, 11, 0, 3, 0, 31, 33, 18, 32, 15, 32, 30, 33, 26, 33, 20, 33, 20]\n",
      "[17, 0, 8, 33, 20, 32, 2, 3, 12, 0, 5, 10, 5, 0, 5, 0, 2, 9, 33, 8]\n",
      "[13, 2, 7, 1, 3, 12, 0, 1, 17, 0, 8, 0, 8, 30, 1, 2, 28, 33, 31, 33]\n",
      "[12, 0, 7, 3, 13, 3, 7, 2, 13, 33, 15, 33, 29, 33, 22, 32, 23, 29, 33, 32]\n",
      "[22, 33, 13, 33, 19, 0, 31, 33, 18, 32, 33, 23, 29, 23, 32, 18, 32, 23, 32, 18]\n",
      "[14, 32, 14, 33, 31, 28, 31, 28, 33, 9, 33, 28, 31, 0, 3, 12, 3, 2, 0, 10]\n",
      "[6, 16, 6, 5, 0, 4, 10, 0, 2, 32, 31, 24, 31, 0, 21, 0, 17, 0, 17, 0]\n",
      "[29, 32, 31, 28, 2, 28, 33, 32, 23, 29, 23, 33, 28, 33, 26, 33, 9, 2, 7, 0]\n",
      "[17, 1, 2, 8, 2, 32, 20, 32, 30, 32, 20, 33, 26, 33, 27, 24, 25, 24, 31, 32]\n",
      "[19, 33, 20, 32, 23, 27, 2, 32, 29, 32, 29, 23, 27, 23, 25, 23, 33, 14, 32, 30]\n",
      "[20, 32, 20, 33, 19, 1, 30, 32, 33, 26, 33, 13, 0, 10, 0, 12, 3, 12, 0, 10]\n",
      "[1, 17, 1, 0, 31, 25, 24, 31, 33, 26, 29, 33, 31, 25, 23, 29, 23, 33, 18, 33]\n",
      "[13, 1, 0, 3, 2, 32, 2, 13, 0, 19, 1, 2, 8, 0, 2, 27, 2, 0, 3, 2]\n",
      "[0, 4, 10, 0, 8, 2, 9, 2, 32, 14, 32, 15, 33, 31, 28, 2, 7, 2, 8, 33]\n",
      "[27, 24, 27, 23, 27, 23, 25, 24, 31, 0, 10, 4, 10, 0, 8, 33, 20, 33, 8, 32]\n",
      "[1, 13, 0, 11, 0, 7, 3, 12, 3, 2, 8, 32, 15, 33, 22, 32, 31, 33, 32, 18]\n",
      "[32, 8, 30, 32, 8, 30, 33, 30, 1, 21, 1, 21, 1, 17, 1, 7, 1, 19, 1, 17]\n",
      "[6, 0, 10, 4, 10, 4, 6, 0, 12, 0, 11, 0, 12, 3, 2, 0, 3, 13, 2, 9]\n",
      "[16, 5, 6, 0, 7, 2, 7, 3, 13, 33, 29, 32, 8, 32, 14, 33, 15, 32, 30, 8]\n",
      "[18, 32, 30, 8, 32, 20, 32, 15, 33, 22, 32, 30, 33, 30, 32, 20, 32, 22, 33, 8]\n",
      "[27, 23, 29, 26, 29, 33, 28, 31, 33, 26, 29, 32, 23, 29, 23, 32, 14, 32, 31, 24]\n",
      "[5, 10, 4, 0, 7, 1, 0, 3, 12, 3, 13, 1, 3, 7, 1, 17, 1, 13, 1, 17]\n",
      "[3, 0, 21, 1, 21, 1, 2, 0, 10, 0, 19, 1, 3, 0, 19, 1, 13, 0, 17, 0]\n"
     ]
    }
   ],
   "source": [
    "for seq in dataset:\n",
    "    print(seq)"
   ]
  },
  {
   "cell_type": "markdown",
   "metadata": {
    "id": "KStE4Z0hBAEF"
   },
   "source": [
    "__running DeepWalk__"
   ]
  },
  {
   "cell_type": "code",
   "execution_count": 18,
   "metadata": {
    "ExecuteTime": {
     "end_time": "2023-09-13T10:03:25.913458200Z",
     "start_time": "2023-09-13T10:03:25.787885600Z"
    },
    "id": "8QT1cXP4-fZQ"
   },
   "outputs": [],
   "source": [
    "deepwalk = Word2Vec(dataset, vector_size=300, epochs=100)"
   ]
  },
  {
   "cell_type": "code",
   "execution_count": 19,
   "metadata": {
    "ExecuteTime": {
     "end_time": "2023-09-13T10:21:58.129081500Z",
     "start_time": "2023-09-13T10:21:58.121267400Z"
    }
   },
   "outputs": [
    {
     "data": {
      "text/plain": [
       "array([-1.50211200e-01,  2.33525410e-01, -1.47464415e-02, -4.16863430e-03,\n",
       "       -1.80696458e-01, -8.66290182e-03, -7.31902346e-02,  2.64846295e-01,\n",
       "       -2.25035865e-02, -1.98129073e-01,  2.13516548e-01, -5.73485866e-02,\n",
       "       -2.20651831e-03,  6.84520006e-02, -5.98334782e-02, -1.59814984e-01,\n",
       "        2.66126603e-01, -2.06987739e-01,  3.21227871e-02, -1.21474393e-01,\n",
       "        3.88261415e-02, -2.71410849e-02, -5.67215607e-02,  1.72406942e-01,\n",
       "       -1.82234477e-02, -1.45819411e-02, -2.29152337e-01,  7.29453936e-02,\n",
       "       -5.34891821e-02, -1.45311639e-01, -1.32833838e-01,  4.05641235e-02,\n",
       "        1.51499316e-01, -1.55710474e-01, -4.52301539e-02,  3.59149091e-02,\n",
       "        3.42493318e-02, -1.30265743e-01, -7.98118208e-03, -7.18161697e-03,\n",
       "       -1.40422717e-01,  1.10179849e-01,  6.83035050e-03, -1.40051395e-01,\n",
       "        7.36442432e-02, -8.44471678e-02,  4.73861629e-03,  5.87529242e-02,\n",
       "        6.88847452e-02,  1.35904580e-01,  2.41024839e-03,  1.59015089e-01,\n",
       "       -1.12818964e-01,  1.90236822e-01,  1.20143391e-01, -2.28703097e-01,\n",
       "        3.04127811e-03, -5.35741262e-02, -1.87184978e-02, -1.84350051e-02,\n",
       "       -1.27913736e-04,  6.60560280e-02, -9.76482779e-03,  6.56873733e-02,\n",
       "       -1.47715196e-01,  5.78498170e-02, -3.02275866e-02,  5.27103096e-02,\n",
       "       -1.15030706e-01,  7.05157369e-02,  8.63423273e-02,  2.28254646e-01,\n",
       "        3.47101800e-02, -2.56658167e-01,  1.36082292e-01, -2.15836260e-02,\n",
       "        7.80703574e-02,  5.93687780e-02,  1.12974949e-01, -7.28200376e-02,\n",
       "       -1.00918010e-01, -8.87945592e-02, -9.13927704e-02,  3.31055254e-01,\n",
       "       -1.28473165e-02, -3.08027659e-02,  2.75621060e-02, -6.08285069e-02,\n",
       "        1.22661524e-01,  2.53652871e-01, -2.41665039e-02, -9.75593105e-02,\n",
       "        1.15863338e-01, -4.22693714e-02,  2.37918094e-01,  7.99790174e-02,\n",
       "       -6.67922869e-02,  4.80157994e-02,  5.44222407e-02,  3.71109247e-02,\n",
       "        7.84076676e-02,  3.75330225e-02,  2.88335308e-02, -1.15850875e-02,\n",
       "       -3.55182625e-02, -2.63755739e-01, -1.21702172e-01, -1.45724183e-02,\n",
       "       -1.83426768e-01, -7.70824105e-02, -1.44871488e-01, -6.59115091e-02,\n",
       "        1.42521318e-02, -1.34212285e-01,  1.23455562e-01,  1.01383321e-01,\n",
       "        8.73935968e-02,  1.21882260e-01,  9.42226201e-02, -1.76369086e-01,\n",
       "        6.95458055e-02,  5.57614714e-02,  1.87120572e-01, -6.96953684e-02,\n",
       "        5.05320951e-02,  2.74960577e-01, -2.42844641e-01, -1.98416319e-02,\n",
       "        5.65164872e-02,  2.36856252e-01,  2.03191787e-01,  9.14004520e-02,\n",
       "        1.13362588e-01, -2.54146397e-01,  1.21197604e-01,  2.20940337e-01,\n",
       "        6.89809993e-02,  7.81033561e-02, -8.39987472e-02, -1.21409565e-01,\n",
       "        8.29694420e-02, -7.33230487e-02, -1.61079347e-01,  1.17169678e-01,\n",
       "       -1.42190695e-01, -3.86042724e-04, -2.00492933e-01, -4.70604710e-02,\n",
       "        3.40874046e-02, -1.64350644e-01,  1.21945158e-01, -2.22208142e-01,\n",
       "       -1.19838566e-02, -3.78113636e-03,  2.71885581e-02,  9.85901803e-02,\n",
       "       -1.69120178e-01, -2.37740576e-02, -1.37829617e-01,  8.98601487e-02,\n",
       "       -1.41059697e-01,  8.65807310e-02, -1.32284790e-01,  1.58697009e-01,\n",
       "        9.27478522e-02,  2.07594022e-01, -1.01946846e-01, -1.17708862e-01,\n",
       "        7.92898331e-03,  1.17636763e-01, -2.76823223e-01,  6.38583302e-02,\n",
       "        1.05123110e-01,  1.51648730e-01,  3.95238511e-02,  2.37020887e-02,\n",
       "       -1.80604681e-01, -2.44328454e-02,  7.02050030e-02,  7.51544088e-02,\n",
       "       -6.93764836e-02,  1.03189357e-01, -5.20629101e-02,  3.71980434e-03,\n",
       "       -2.76746035e-01, -1.24149527e-02,  1.78429797e-01,  1.61748692e-01,\n",
       "        1.13147512e-01,  9.56548098e-03,  2.43483797e-01,  1.15297332e-01,\n",
       "       -2.91408226e-02, -8.91498774e-02, -4.12047617e-02, -2.56006330e-01,\n",
       "        4.30622846e-02, -4.17842157e-02, -1.01186991e-01, -7.20129684e-02,\n",
       "        5.60972281e-02,  1.82510689e-02,  1.00868247e-01, -1.78399250e-01,\n",
       "        2.71472394e-01, -8.53966773e-02,  6.15716493e-03,  9.97457951e-02,\n",
       "       -5.70516288e-02, -1.72751974e-02, -1.04294628e-01, -1.94681138e-01,\n",
       "       -4.83387373e-02, -1.28598675e-01,  2.41048679e-01, -7.98286349e-02,\n",
       "       -1.59019101e-02, -2.15485826e-01, -1.05834335e-01, -2.95233876e-01,\n",
       "        8.56075734e-02,  2.99410131e-02, -2.59811692e-02, -2.29915708e-01,\n",
       "       -7.32016712e-02, -6.56750202e-02,  3.88759710e-02,  1.22218899e-01,\n",
       "        4.48459871e-02,  4.02502008e-02,  7.57129863e-02, -1.53387040e-01,\n",
       "       -1.23359747e-02, -1.25994265e-01, -2.28488952e-01,  6.83096498e-02,\n",
       "        2.74895821e-02,  1.25727654e-01, -6.54575080e-02, -9.81454700e-02,\n",
       "        7.26571679e-02, -1.26347676e-01,  1.08015910e-01, -2.75820680e-02,\n",
       "        8.04794207e-02, -1.09689243e-01,  7.26329759e-02, -4.83134650e-02,\n",
       "       -2.94592083e-02,  2.20066428e-01,  9.89605933e-02, -5.42795658e-02,\n",
       "        1.52671203e-01,  4.78550885e-03, -1.26198128e-01, -3.52543667e-02,\n",
       "        1.98527753e-01,  1.35663837e-01, -1.82994545e-01, -6.17240667e-02,\n",
       "       -1.54692130e-02, -1.21942498e-01,  1.04652874e-01, -5.40682785e-02,\n",
       "       -1.39624938e-01,  1.25229105e-01,  2.20022082e-01,  4.69937883e-02,\n",
       "       -2.93503195e-01,  1.71537921e-01, -1.01042345e-01,  9.23209339e-02,\n",
       "        5.95906638e-02,  4.24377322e-02,  4.67867181e-02,  3.82577926e-02,\n",
       "        2.00998232e-01,  2.15181619e-01, -1.32476151e-01, -1.40625462e-02,\n",
       "        2.49318462e-02,  7.04106763e-02, -1.68751866e-01,  7.55039379e-02,\n",
       "        1.44419149e-02,  1.58651516e-01, -2.25937292e-01,  1.27750427e-01,\n",
       "        7.53359869e-02,  1.37186766e-01,  1.43931404e-01, -2.04719510e-02,\n",
       "        1.93683133e-02, -2.01457217e-02,  4.22340631e-02,  7.95703083e-02,\n",
       "       -1.83634255e-02, -5.89813776e-02,  1.16713770e-01, -1.48123190e-01],\n",
       "      dtype=float32)"
      ]
     },
     "execution_count": 19,
     "metadata": {},
     "output_type": "execute_result"
    }
   ],
   "source": [
    "deepwalk.wv[1]"
   ]
  },
  {
   "cell_type": "markdown",
   "metadata": {
    "id": "7egKpseqxX5g"
   },
   "source": [
    "# Node2Vec Code"
   ]
  },
  {
   "cell_type": "markdown",
   "metadata": {
    "id": "f6Lp-TFlBlzA"
   },
   "source": [
    "__Random Walk Code for Node2Vec__"
   ]
  },
  {
   "cell_type": "code",
   "execution_count": 20,
   "metadata": {
    "ExecuteTime": {
     "end_time": "2023-09-13T10:03:25.923150800Z",
     "start_time": "2023-09-13T10:03:25.916942900Z"
    },
    "id": "6Iu41Jyg88hr"
   },
   "outputs": [],
   "source": [
    "def node2vec_walk(G, start_node, num_steps, p, q):\n",
    "    walk = [start_node]\n",
    "\n",
    "    for _ in range(num_steps - 1):\n",
    "        current_node = walk[-1]\n",
    "        neighbors = list(G.neighbors(current_node))\n",
    "\n",
    "        if len(neighbors) > 0:\n",
    "            if len(walk) == 1:\n",
    "                next_node = random.choice(neighbors)\n",
    "            else:\n",
    "                next_node = node2vec_weighted_choice(G, current_node, walk[-2], p, q)\n",
    "\n",
    "            walk.append(next_node)\n",
    "        else:\n",
    "            break\n",
    "\n",
    "    return walk\n",
    "\n",
    "def node2vec_weighted_choice(G, current_node, previous_node, p, q):\n",
    "    neighbors = list(G.neighbors(current_node))\n",
    "    unnormalized_weights = []\n",
    "\n",
    "    for neighbor in neighbors:\n",
    "        if neighbor == previous_node:\n",
    "            unnormalized_weights.append(1.0 / p)\n",
    "        elif G.has_edge(current_node, neighbor):\n",
    "            unnormalized_weights.append(1.0)\n",
    "        else:\n",
    "            unnormalized_weights.append(1.0 / q)\n",
    "\n",
    "    norm_weights = [weight / sum(unnormalized_weights) for weight in unnormalized_weights]\n",
    "    return random.choices(neighbors, weights=norm_weights)[0]"
   ]
  },
  {
   "cell_type": "code",
   "execution_count": 21,
   "metadata": {
    "ExecuteTime": {
     "end_time": "2023-09-13T10:03:25.932495300Z",
     "start_time": "2023-09-13T10:03:25.923150800Z"
    },
    "id": "sunDI1RNB4u_"
   },
   "outputs": [],
   "source": [
    "dataset2 = [node2vec_walk(karate_graph, start_node=random.choice(list(karate_graph.nodes)), num_steps=10, p=0.8, q=0.2) for _ in range(100)]"
   ]
  },
  {
   "cell_type": "code",
   "execution_count": 22,
   "metadata": {
    "ExecuteTime": {
     "end_time": "2023-09-13T10:03:25.967441600Z",
     "start_time": "2023-09-13T10:03:25.932495300Z"
    },
    "colab": {
     "base_uri": "https://localhost:8080/"
    },
    "executionInfo": {
     "elapsed": 2,
     "status": "ok",
     "timestamp": 1694281786171,
     "user": {
      "displayName": "이주호",
      "userId": "15914417090480631241"
     },
     "user_tz": -540
    },
    "id": "J-s1iRoDC-3m",
    "outputId": "a67339ec-27ef-467e-dbfe-fa0d9d118250"
   },
   "outputs": [
    {
     "name": "stdout",
     "output_type": "stream",
     "text": [
      "[9, 33, 13, 3, 0, 31, 33, 29, 23, 32]\n",
      "[20, 32, 23, 29, 26, 33, 27, 24, 27, 24]\n",
      "[19, 33, 29, 33, 28, 2, 8, 0, 11, 0]\n",
      "[16, 5, 16, 5, 16, 5, 0, 17, 1, 17]\n",
      "[27, 33, 22, 33, 29, 23, 29, 26, 29, 23]\n",
      "[10, 0, 21, 0, 3, 13, 1, 19, 33, 19]\n",
      "[2, 1, 17, 1, 30, 1, 13, 3, 7, 1]\n",
      "[1, 21, 0, 12, 0, 21, 0, 2, 3, 1]\n",
      "[21, 1, 3, 1, 3, 7, 0, 10, 5, 16]\n",
      "[9, 2, 13, 2, 13, 2, 7, 3, 1, 2]\n",
      "[20, 32, 18, 32, 20, 33, 20, 33, 18, 33]\n",
      "[4, 0, 4, 6, 0, 31, 25, 23, 25, 31]\n",
      "[5, 10, 4, 6, 16, 5, 6, 4, 0, 13]\n",
      "[8, 32, 15, 32, 14, 32, 23, 25, 23, 33]\n",
      "[3, 13, 33, 9, 2, 27, 24, 27, 33, 29]\n",
      "[6, 4, 6, 4, 6, 4, 6, 4, 0, 6]\n",
      "[6, 4, 6, 5, 10, 4, 10, 4, 0, 21]\n",
      "[23, 27, 2, 27, 33, 31, 0, 4, 6, 0]\n",
      "[7, 0, 31, 33, 13, 3, 7, 3, 2, 0]\n",
      "[13, 1, 0, 1, 7, 0, 19, 33, 27, 24]\n",
      "[32, 2, 8, 33, 22, 33, 18, 32, 23, 33]\n",
      "[14, 32, 31, 0, 21, 0, 2, 0, 7, 1]\n",
      "[15, 32, 22, 33, 13, 3, 13, 0, 12, 0]\n",
      "[8, 32, 8, 33, 27, 23, 25, 24, 27, 23]\n",
      "[7, 2, 1, 30, 32, 18, 32, 23, 32, 8]\n",
      "[15, 33, 13, 1, 30, 33, 13, 3, 0, 21]\n",
      "[31, 28, 31, 28, 31, 33, 28, 2, 28, 2]\n",
      "[28, 33, 18, 32, 33, 14, 32, 18, 33, 29]\n",
      "[23, 27, 33, 15, 32, 23, 33, 20, 32, 22]\n",
      "[14, 32, 22, 33, 31, 33, 31, 0, 3, 2]\n",
      "[28, 2, 9, 2, 9, 2, 8, 32, 33, 18]\n",
      "[6, 16, 6, 0, 11, 0, 5, 16, 6, 0]\n",
      "[33, 8, 30, 32, 31, 28, 2, 1, 0, 11]\n",
      "[20, 32, 30, 1, 3, 0, 12, 3, 13, 3]\n",
      "[12, 0, 17, 0, 17, 1, 2, 9, 2, 7]\n",
      "[33, 13, 3, 13, 3, 13, 1, 7, 1, 19]\n",
      "[21, 1, 7, 2, 27, 33, 29, 26, 33, 13]\n",
      "[11, 0, 7, 1, 30, 8, 33, 14, 33, 20]\n",
      "[25, 31, 0, 19, 0, 31, 28, 31, 0, 6]\n",
      "[32, 30, 32, 14, 33, 28, 33, 27, 33, 13]\n",
      "[0, 31, 33, 13, 0, 2, 8, 0, 21, 1]\n",
      "[2, 13, 33, 8, 0, 2, 0, 31, 33, 15]\n",
      "[26, 29, 32, 31, 33, 9, 2, 13, 0, 3]\n",
      "[21, 1, 21, 1, 13, 0, 11, 0, 10, 0]\n",
      "[20, 33, 32, 23, 27, 2, 1, 21, 1, 21]\n",
      "[17, 0, 11, 0, 1, 30, 1, 30, 32, 15]\n",
      "[33, 9, 2, 0, 10, 0, 7, 3, 7, 1]\n",
      "[2, 8, 0, 1, 7, 1, 13, 33, 19, 1]\n",
      "[26, 29, 32, 2, 32, 29, 33, 30, 33, 32]\n",
      "[20, 32, 2, 8, 2, 1, 0, 12, 3, 0]\n",
      "[0, 3, 12, 3, 1, 19, 33, 23, 33, 30]\n",
      "[5, 10, 0, 5, 6, 16, 6, 16, 6, 16]\n",
      "[17, 0, 13, 2, 3, 13, 1, 19, 1, 3]\n",
      "[5, 0, 10, 0, 12, 3, 12, 3, 12, 3]\n",
      "[0, 7, 2, 9, 2, 32, 29, 32, 23, 25]\n",
      "[5, 16, 6, 16, 5, 0, 10, 4, 10, 0]\n",
      "[23, 32, 18, 33, 31, 25, 24, 27, 33, 9]\n",
      "[14, 32, 14, 32, 33, 13, 33, 20, 33, 26]\n",
      "[3, 0, 7, 2, 8, 30, 32, 8, 2, 8]\n",
      "[19, 33, 19, 0, 10, 0, 10, 0, 21, 1]\n",
      "[16, 6, 5, 10, 5, 0, 8, 33, 22, 33]\n",
      "[23, 27, 23, 33, 14, 33, 14, 32, 8, 33]\n",
      "[5, 10, 5, 0, 11, 0, 10, 4, 0, 21]\n",
      "[33, 26, 33, 28, 2, 13, 1, 7, 2, 0]\n",
      "[6, 16, 6, 4, 0, 1, 2, 27, 23, 29]\n",
      "[33, 27, 33, 27, 23, 32, 31, 24, 27, 2]\n",
      "[17, 1, 30, 1, 30, 8, 33, 31, 32, 15]\n",
      "[22, 33, 22, 32, 15, 33, 13, 3, 7, 0]\n",
      "[3, 13, 1, 30, 1, 13, 1, 21, 1, 19]\n",
      "[26, 29, 32, 8, 30, 8, 32, 29, 26, 29]\n",
      "[23, 27, 24, 25, 31, 32, 2, 32, 29, 32]\n",
      "[29, 33, 8, 0, 12, 0, 7, 2, 13, 33]\n",
      "[7, 1, 3, 1, 19, 0, 19, 0, 17, 0]\n",
      "[18, 33, 20, 32, 15, 32, 8, 30, 32, 23]\n",
      "[5, 16, 5, 6, 16, 5, 0, 8, 32, 14]\n",
      "[5, 0, 12, 3, 0, 5, 16, 5, 0, 31]\n",
      "[5, 10, 5, 6, 16, 6, 16, 5, 16, 6]\n",
      "[9, 2, 13, 1, 21, 0, 4, 0, 12, 3]\n",
      "[11, 0, 17, 1, 30, 8, 2, 7, 3, 1]\n",
      "[3, 0, 4, 6, 0, 8, 0, 6, 4, 6]\n",
      "[11, 0, 4, 0, 12, 3, 12, 3, 1, 17]\n",
      "[17, 1, 17, 0, 31, 32, 18, 33, 20, 33]\n",
      "[0, 6, 16, 6, 4, 6, 16, 6, 5, 0]\n",
      "[4, 0, 12, 0, 13, 0, 4, 0, 8, 0]\n",
      "[28, 31, 28, 33, 8, 2, 28, 33, 30, 33]\n",
      "[1, 0, 11, 0, 1, 0, 13, 2, 32, 15]\n",
      "[2, 0, 17, 1, 30, 8, 33, 29, 26, 29]\n",
      "[10, 5, 16, 6, 16, 5, 0, 31, 25, 23]\n",
      "[0, 21, 1, 13, 0, 10, 0, 2, 3, 13]\n",
      "[14, 33, 29, 23, 32, 15, 33, 22, 32, 20]\n",
      "[19, 1, 30, 1, 19, 0, 7, 2, 28, 33]\n",
      "[27, 2, 0, 6, 16, 5, 6, 5, 6, 0]\n",
      "[14, 32, 18, 32, 18, 32, 33, 9, 33, 27]\n",
      "[15, 33, 8, 30, 1, 21, 0, 5, 6, 0]\n",
      "[4, 6, 4, 0, 19, 33, 30, 1, 0, 7]\n",
      "[7, 1, 17, 1, 17, 1, 2, 7, 3, 12]\n",
      "[32, 18, 33, 9, 2, 28, 31, 33, 30, 33]\n",
      "[32, 33, 31, 0, 5, 16, 6, 16, 6, 5]\n",
      "[31, 32, 20, 32, 33, 22, 33, 28, 33, 9]\n",
      "[21, 1, 30, 33, 15, 32, 23, 27, 24, 25]\n"
     ]
    }
   ],
   "source": [
    "for i in dataset2:\n",
    "    print(i)"
   ]
  },
  {
   "cell_type": "code",
   "execution_count": 23,
   "metadata": {
    "ExecuteTime": {
     "end_time": "2023-09-13T10:03:26.053090200Z",
     "start_time": "2023-09-13T10:03:25.943314600Z"
    },
    "id": "SrtGhxJbD1pW"
   },
   "outputs": [],
   "source": [
    "node2vec = Word2Vec(dataset2, vector_size=200, epochs=100)"
   ]
  },
  {
   "cell_type": "markdown",
   "metadata": {
    "id": "e78t1TMLNQCT"
   },
   "source": [
    "# LINE Code"
   ]
  },
  {
   "cell_type": "markdown",
   "metadata": {
    "id": "9hCshZM6NWvU"
   },
   "source": [
    "__Alias Sampling__"
   ]
  },
  {
   "cell_type": "code",
   "execution_count": 24,
   "metadata": {
    "ExecuteTime": {
     "end_time": "2023-09-13T10:03:26.208905300Z",
     "start_time": "2023-09-13T10:03:26.053090200Z"
    },
    "executionInfo": {
     "elapsed": 336,
     "status": "ok",
     "timestamp": 1694285070863,
     "user": {
      "displayName": "이주호",
      "userId": "15914417090480631241"
     },
     "user_tz": -540
    },
    "id": "UODB94CHNP1M"
   },
   "outputs": [],
   "source": [
    "import random\n",
    "from decimal import *\n",
    "import numpy as np\n",
    "import collections\n",
    "from tqdm import tqdm\n",
    "import matplotlib.pyplot as plt\n",
    "\n",
    "\n",
    "class VoseAlias:\n",
    "    def __init__(self, dist):\n",
    "        \"\"\"\n",
    "        (VoseAlias, dict) -> NoneType\n",
    "        \"\"\"\n",
    "        self.dist = dist\n",
    "        self.alias_initialisation()\n",
    "\n",
    "    def alias_initialisation(self):\n",
    "        \"\"\"\n",
    "        Construct probability and alias tables for the distribution.\n",
    "        \"\"\"\n",
    "        # Initialise variables\n",
    "        n = len(self.dist)\n",
    "        self.table_prob = {}   # probability table\n",
    "        self.table_alias = {}  # alias table\n",
    "        scaled_prob = {}       # scaled probabilities\n",
    "        small = []             # stack for probabilities smaller that 1\n",
    "        large = []             # stack for probabilities greater than or equal to 1\n",
    "\n",
    "        # Construct and sort the scaled probabilities into their appropriate stacks\n",
    "        print(\"1/2. Building and sorting scaled probabilities for alias table...\")\n",
    "        for o, p in tqdm(self.dist.items()):\n",
    "            scaled_prob[o] = Decimal(p) * n\n",
    "\n",
    "            if scaled_prob[o] < 1:\n",
    "                small.append(o)\n",
    "            else:\n",
    "                large.append(o)\n",
    "\n",
    "        print(\"2/2. Building alias table...\")\n",
    "        # Construct the probability and alias tables\n",
    "        while small and large:\n",
    "            s = small.pop()\n",
    "            l = large.pop()\n",
    "\n",
    "            self.table_prob[s] = scaled_prob[s]\n",
    "            self.table_alias[s] = l\n",
    "\n",
    "            scaled_prob[l] = (scaled_prob[l] + scaled_prob[s]) - Decimal(1)\n",
    "\n",
    "            if scaled_prob[l] < 1:\n",
    "                small.append(l)\n",
    "            else:\n",
    "                large.append(l)\n",
    "\n",
    "        # The remaining outcomes (of one stack) must have probability 1\n",
    "        while large:\n",
    "            self.table_prob[large.pop()] = Decimal(1)\n",
    "\n",
    "        while small:\n",
    "            self.table_prob[small.pop()] = Decimal(1)\n",
    "        self.listprobs = list(self.table_prob)\n",
    "\n",
    "    def alias_generation(self):\n",
    "        \"\"\"\n",
    "        Yields a random outcome from the distribution.\n",
    "        \"\"\"\n",
    "        # Determine which column of table_prob to inspect\n",
    "        col = random.choice(self.listprobs)\n",
    "        # Determine which outcome to pick in that column\n",
    "        if self.table_prob[col] >= random.uniform(0, 1):\n",
    "            return col\n",
    "        else:\n",
    "            return self.table_alias[col]\n",
    "\n",
    "    def sample_n(self, size):\n",
    "        \"\"\"\n",
    "        Yields a sample of size n from the distribution, and print the results to stdout.\n",
    "        \"\"\"\n",
    "        for i in range(size):\n",
    "            yield self.alias_generation()\n",
    "\n",
    "\n",
    "def makeDist(graph: nx.Graph, power=0.75):\n",
    "\n",
    "    edgedistdict = collections.defaultdict(int)\n",
    "    nodedistdict = collections.defaultdict(int)\n",
    "\n",
    "    weightsdict = collections.defaultdict(int)\n",
    "    nodedegrees = collections.defaultdict(int)\n",
    "\n",
    "    weightsum = 0\n",
    "    negprobsum = 0\n",
    "\n",
    "    nlines = 0\n",
    "\n",
    "    maxindex = 0\n",
    "\n",
    "    for edge in tqdm(graph.edges(data=True), total=nlines):\n",
    "        node1, node2, weight = edge[0], edge[1], edge[2][\"weight\"]\n",
    "\n",
    "        edgedistdict[tuple([node1, node2])] = weight\n",
    "        nodedistdict[node1] += weight\n",
    "\n",
    "        weightsdict[tuple([node1, node2])] = weight\n",
    "        nodedegrees[node1] += weight\n",
    "\n",
    "        weightsum += weight\n",
    "        negprobsum += np.power(weight, power)\n",
    "\n",
    "        if node1 > maxindex:\n",
    "            maxindex = node1\n",
    "        elif node2 > maxindex:\n",
    "            maxindex = node2\n",
    "\n",
    "    for node, outdegree in nodedistdict.items():\n",
    "        nodedistdict[node] = np.power(outdegree, power) / negprobsum\n",
    "\n",
    "    for edge, weight in edgedistdict.items():\n",
    "        edgedistdict[edge] = weight / weightsum\n",
    "\n",
    "    return edgedistdict, nodedistdict, weightsdict, nodedegrees, maxindex\n",
    "\n",
    "\n",
    "def negSampleBatch(sourcenode, targetnode, negsamplesize, weights,\n",
    "                   nodedegrees, nodesaliassampler, t=10e-3):\n",
    "    \"\"\"\n",
    "    For generating negative samples.\n",
    "    \"\"\"\n",
    "    negsamples = 0\n",
    "    while negsamples < negsamplesize:\n",
    "        samplednode = nodesaliassampler.sample_n(1)\n",
    "        if (samplednode == sourcenode) or (samplednode == targetnode):\n",
    "            continue\n",
    "        else:\n",
    "            negsamples += 1\n",
    "            yield samplednode\n",
    "\n",
    "\n",
    "def makeData(samplededges, negsamplesize, weights, nodedegrees, nodesaliassampler):\n",
    "    for e in samplededges:\n",
    "        sourcenode, targetnode = e[0], e[1]\n",
    "        negnodes = []\n",
    "        for negsample in negSampleBatch(sourcenode, targetnode, negsamplesize,\n",
    "                                        weights, nodedegrees, nodesaliassampler):\n",
    "            for node in negsample:\n",
    "                negnodes.append(node)\n",
    "        yield [e[0], e[1]] + negnodes"
   ]
  },
  {
   "cell_type": "markdown",
   "metadata": {
    "id": "IzPUT7syNo_1"
   },
   "source": [
    "__LINE Model code__"
   ]
  },
  {
   "cell_type": "code",
   "execution_count": 25,
   "metadata": {
    "ExecuteTime": {
     "end_time": "2023-09-13T10:03:26.213566500Z",
     "start_time": "2023-09-13T10:03:26.208905300Z"
    },
    "executionInfo": {
     "elapsed": 433,
     "status": "ok",
     "timestamp": 1694285273557,
     "user": {
      "displayName": "이주호",
      "userId": "15914417090480631241"
     },
     "user_tz": -540
    },
    "id": "5PnFMgwKNYyY"
   },
   "outputs": [],
   "source": [
    "import torch\n",
    "import torch.nn as nn\n",
    "import torch.nn.functional as F\n",
    "\n",
    "\n",
    "class LINE(nn.Module):\n",
    "    def __init__(self, size, embed_dim=128, order=1):\n",
    "        super(LINE, self).__init__()\n",
    "\n",
    "        assert order in [1, 2], print(\"Order should either be int(1) or int(2)\")\n",
    "\n",
    "        self.embed_dim = embed_dim\n",
    "        self.order = order\n",
    "        self.nodes_embeddings = nn.Embedding(size, embed_dim)\n",
    "\n",
    "        if order == 2:\n",
    "            self.contextnodes_embeddings = nn.Embedding(size, embed_dim)\n",
    "            # Initialization\n",
    "            self.contextnodes_embeddings.weight.data = self.contextnodes_embeddings.weight.data.uniform_(\n",
    "                -.5, .5) / embed_dim\n",
    "\n",
    "        # Initialization\n",
    "        self.nodes_embeddings.weight.data = self.nodes_embeddings.weight.data.uniform_(\n",
    "            -.5, .5) / embed_dim\n",
    "\n",
    "    def forward(self, v_i, v_j, negsamples, device):\n",
    "\n",
    "        v_i = self.nodes_embeddings(v_i).to(device)\n",
    "\n",
    "        if self.order == 2:\n",
    "            v_j = self.contextnodes_embeddings(v_j).to(device)\n",
    "            negativenodes = -self.contextnodes_embeddings(negsamples).to(device)\n",
    "\n",
    "        else:\n",
    "            v_j = self.nodes_embeddings(v_j).to(device)\n",
    "            negativenodes = -self.nodes_embeddings(negsamples).to(device)\n",
    "\n",
    "        mulpositivebatch = torch.mul(v_i, v_j)\n",
    "        positivebatch = F.logsigmoid(torch.sum(mulpositivebatch, dim=1))\n",
    "\n",
    "        mulnegativebatch = torch.mul(v_i.view(len(v_i), 1, self.embed_dim), negativenodes)\n",
    "        negativebatch = torch.sum(\n",
    "            F.logsigmoid(\n",
    "                torch.sum(mulnegativebatch, dim=2)\n",
    "            ),\n",
    "            dim=1)\n",
    "        loss = positivebatch + negativebatch\n",
    "        return -torch.mean(loss)"
   ]
  },
  {
   "cell_type": "code",
   "execution_count": 26,
   "metadata": {
    "ExecuteTime": {
     "end_time": "2023-09-13T10:03:26.225342200Z",
     "start_time": "2023-09-13T10:03:26.213566500Z"
    }
   },
   "outputs": [],
   "source": [
    "for edge in karate_graph.edges():\n",
    "    karate_graph.edges[edge][\"weight\"] = 1\n",
    "    "
   ]
  },
  {
   "cell_type": "code",
   "execution_count": 27,
   "metadata": {
    "ExecuteTime": {
     "end_time": "2023-09-13T10:03:28.303270100Z",
     "start_time": "2023-09-13T10:03:26.225342200Z"
    },
    "colab": {
     "base_uri": "https://localhost:8080/"
    },
    "executionInfo": {
     "elapsed": 4927,
     "status": "ok",
     "timestamp": 1694285305113,
     "user": {
      "displayName": "이주호",
      "userId": "15914417090480631241"
     },
     "user_tz": -540
    },
    "id": "xfJiGAsiNwGT",
    "outputId": "44703b89-f5c0-4a39-bf13-4da418b686b2"
   },
   "outputs": [
    {
     "name": "stderr",
     "output_type": "stream",
     "text": [
      "156it [00:00, 156122.98it/s]\n"
     ]
    },
    {
     "name": "stdout",
     "output_type": "stream",
     "text": [
      "1/2. Building and sorting scaled probabilities for alias table...\n"
     ]
    },
    {
     "name": "stderr",
     "output_type": "stream",
     "text": [
      "100%|████████████████████████████████████████████████████████████████████████████| 156/156 [00:00<00:00, 156011.31it/s]\n"
     ]
    },
    {
     "name": "stdout",
     "output_type": "stream",
     "text": [
      "2/2. Building alias table...\n",
      "1/2. Building and sorting scaled probabilities for alias table...\n"
     ]
    },
    {
     "name": "stderr",
     "output_type": "stream",
     "text": [
      "100%|██████████████████████████████████████████████████████████████████████████████████████████| 34/34 [00:00<?, ?it/s]\n"
     ]
    },
    {
     "name": "stdout",
     "output_type": "stream",
     "text": [
      "2/2. Building alias table...\n",
      "33\n",
      "\n",
      "Training on cuda:0...\n",
      "\n"
     ]
    },
    {
     "name": "stderr",
     "output_type": "stream",
     "text": [
      "Epoch 0: 100%|█████████████████████████████████████████████████████████████████████████| 15/15 [00:00<00:00, 17.56it/s]\n",
      "Epoch 1: 100%|████████████████████████████████████████████████████████████████████████| 15/15 [00:00<00:00, 833.29it/s]\n",
      "Epoch 2: 100%|████████████████████████████████████████████████████████████████████████| 15/15 [00:00<00:00, 833.32it/s]\n",
      "Epoch 3: 100%|████████████████████████████████████████████████████████████████████████| 15/15 [00:00<00:00, 882.16it/s]\n",
      "Epoch 4: 100%|████████████████████████████████████████████████████████████████████████| 15/15 [00:00<00:00, 882.22it/s]\n",
      "Epoch 5: 100%|████████████████████████████████████████████████████████████████████████| 15/15 [00:00<00:00, 833.23it/s]\n",
      "Epoch 6: 100%|████████████████████████████████████████████████████████████████████████| 15/15 [00:00<00:00, 833.32it/s]\n",
      "Epoch 7: 100%|████████████████████████████████████████████████████████████████████████| 15/15 [00:00<00:00, 882.24it/s]\n",
      "Epoch 8: 100%|████████████████████████████████████████████████████████████████████████| 15/15 [00:00<00:00, 833.37it/s]\n",
      "Epoch 9: 100%|████████████████████████████████████████████████████████████████████████| 15/15 [00:00<00:00, 789.33it/s]\n",
      "Epoch 10: 100%|███████████████████████████████████████████████████████████████████████| 15/15 [00:00<00:00, 833.24it/s]\n",
      "Epoch 11: 100%|███████████████████████████████████████████████████████████████████████| 15/15 [00:00<00:00, 833.42it/s]\n",
      "Epoch 12: 100%|███████████████████████████████████████████████████████████████████████| 15/15 [00:00<00:00, 833.35it/s]\n",
      "Epoch 13: 100%|███████████████████████████████████████████████████████████████████████| 15/15 [00:00<00:00, 789.50it/s]\n",
      "Epoch 14: 100%|███████████████████████████████████████████████████████████████████████| 15/15 [00:00<00:00, 681.83it/s]\n",
      "Epoch 15: 100%|███████████████████████████████████████████████████████████████████████| 15/15 [00:00<00:00, 750.04it/s]\n",
      "Epoch 16: 100%|███████████████████████████████████████████████████████████████████████| 15/15 [00:00<00:00, 789.40it/s]\n",
      "Epoch 17: 100%|███████████████████████████████████████████████████████████████████████| 15/15 [00:00<00:00, 789.39it/s]\n",
      "Epoch 18: 100%|███████████████████████████████████████████████████████████████████████| 15/15 [00:00<00:00, 882.36it/s]\n",
      "Epoch 19: 100%|███████████████████████████████████████████████████████████████████████| 15/15 [00:00<00:00, 882.32it/s]\n",
      "Epoch 20: 100%|███████████████████████████████████████████████████████████████████████| 15/15 [00:00<00:00, 882.22it/s]\n",
      "Epoch 21: 100%|███████████████████████████████████████████████████████████████████████| 15/15 [00:00<00:00, 882.28it/s]\n",
      "Epoch 22: 100%|███████████████████████████████████████████████████████████████████████| 15/15 [00:00<00:00, 937.39it/s]\n",
      "Epoch 23: 100%|███████████████████████████████████████████████████████████████████████| 15/15 [00:00<00:00, 833.24it/s]\n",
      "Epoch 24: 100%|███████████████████████████████████████████████████████████████████████| 15/15 [00:00<00:00, 882.16it/s]\n",
      "Epoch 25: 100%|███████████████████████████████████████████████████████████████████████| 15/15 [00:00<00:00, 882.27it/s]\n",
      "Epoch 26: 100%|███████████████████████████████████████████████████████████████████████| 15/15 [00:00<00:00, 937.47it/s]\n",
      "Epoch 27: 100%|███████████████████████████████████████████████████████████████████████| 15/15 [00:00<00:00, 882.34it/s]\n",
      "Epoch 28: 100%|███████████████████████████████████████████████████████████████████████| 15/15 [00:00<00:00, 882.37it/s]\n",
      "Epoch 29: 100%|███████████████████████████████████████████████████████████████████████| 15/15 [00:00<00:00, 833.31it/s]\n",
      "Epoch 30: 100%|███████████████████████████████████████████████████████████████████████| 15/15 [00:00<00:00, 882.47it/s]\n",
      "Epoch 31: 100%|███████████████████████████████████████████████████████████████████████| 15/15 [00:00<00:00, 833.29it/s]\n",
      "Epoch 32: 100%|███████████████████████████████████████████████████████████████████████| 15/15 [00:00<00:00, 833.22it/s]\n",
      "Epoch 33: 100%|███████████████████████████████████████████████████████████████████████| 15/15 [00:00<00:00, 882.21it/s]\n",
      "Epoch 34: 100%|███████████████████████████████████████████████████████████████████████| 15/15 [00:00<00:00, 833.24it/s]\n",
      "Epoch 35: 100%|███████████████████████████████████████████████████████████████████████| 15/15 [00:00<00:00, 882.22it/s]\n",
      "Epoch 36: 100%|███████████████████████████████████████████████████████████████████████| 15/15 [00:00<00:00, 882.34it/s]\n",
      "Epoch 37: 100%|███████████████████████████████████████████████████████████████████████| 15/15 [00:00<00:00, 833.35it/s]\n",
      "Epoch 38: 100%|███████████████████████████████████████████████████████████████████████| 15/15 [00:00<00:00, 833.32it/s]\n",
      "Epoch 39: 100%|███████████████████████████████████████████████████████████████████████| 15/15 [00:00<00:00, 882.34it/s]\n",
      "Epoch 40: 100%|███████████████████████████████████████████████████████████████████████| 15/15 [00:00<00:00, 833.32it/s]\n",
      "Epoch 41: 100%|███████████████████████████████████████████████████████████████████████| 15/15 [00:00<00:00, 833.20it/s]\n",
      "Epoch 42: 100%|███████████████████████████████████████████████████████████████████████| 15/15 [00:00<00:00, 882.37it/s]\n",
      "Epoch 43: 100%|███████████████████████████████████████████████████████████████████████| 15/15 [00:00<00:00, 833.34it/s]\n",
      "Epoch 44: 100%|███████████████████████████████████████████████████████████████████████| 15/15 [00:00<00:00, 833.35it/s]\n",
      "Epoch 45: 100%|███████████████████████████████████████████████████████████████████████| 15/15 [00:00<00:00, 833.27it/s]\n",
      "Epoch 46: 100%|███████████████████████████████████████████████████████████████████████| 15/15 [00:00<00:00, 882.29it/s]\n",
      "Epoch 47: 100%|███████████████████████████████████████████████████████████████████████| 15/15 [00:00<00:00, 833.29it/s]\n",
      "Epoch 48: 100%|███████████████████████████████████████████████████████████████████████| 15/15 [00:00<00:00, 833.26it/s]\n",
      "Epoch 49: 100%|███████████████████████████████████████████████████████████████████████| 15/15 [00:00<00:00, 833.26it/s]\n",
      "Epoch 50: 100%|███████████████████████████████████████████████████████████████████████| 15/15 [00:00<00:00, 937.47it/s]\n",
      "Epoch 51: 100%|███████████████████████████████████████████████████████████████████████| 15/15 [00:00<00:00, 833.24it/s]\n",
      "Epoch 52: 100%|███████████████████████████████████████████████████████████████████████| 15/15 [00:00<00:00, 833.31it/s]\n",
      "Epoch 53: 100%|███████████████████████████████████████████████████████████████████████| 15/15 [00:00<00:00, 833.31it/s]\n",
      "Epoch 54: 100%|███████████████████████████████████████████████████████████████████████| 15/15 [00:00<00:00, 882.27it/s]\n",
      "Epoch 55: 100%|███████████████████████████████████████████████████████████████████████| 15/15 [00:00<00:00, 833.27it/s]\n",
      "Epoch 56: 100%|███████████████████████████████████████████████████████████████████████| 15/15 [00:00<00:00, 789.47it/s]\n",
      "Epoch 57: 100%|███████████████████████████████████████████████████████████████████████| 15/15 [00:00<00:00, 833.28it/s]\n",
      "Epoch 58: 100%|███████████████████████████████████████████████████████████████████████| 15/15 [00:00<00:00, 833.39it/s]\n",
      "Epoch 59: 100%|███████████████████████████████████████████████████████████████████████| 15/15 [00:00<00:00, 882.31it/s]\n",
      "Epoch 60: 100%|███████████████████████████████████████████████████████████████████████| 15/15 [00:00<00:00, 833.35it/s]\n",
      "Epoch 61: 100%|███████████████████████████████████████████████████████████████████████| 15/15 [00:00<00:00, 882.28it/s]\n",
      "Epoch 62: 100%|███████████████████████████████████████████████████████████████████████| 15/15 [00:00<00:00, 833.40it/s]\n",
      "Epoch 63: 100%|███████████████████████████████████████████████████████████████████████| 15/15 [00:00<00:00, 882.28it/s]\n",
      "Epoch 64: 100%|███████████████████████████████████████████████████████████████████████| 15/15 [00:00<00:00, 833.29it/s]\n",
      "Epoch 65: 100%|███████████████████████████████████████████████████████████████████████| 15/15 [00:00<00:00, 882.34it/s]\n",
      "Epoch 66: 100%|███████████████████████████████████████████████████████████████████████| 15/15 [00:00<00:00, 833.31it/s]\n",
      "Epoch 67: 100%|███████████████████████████████████████████████████████████████████████| 15/15 [00:00<00:00, 882.23it/s]\n",
      "Epoch 68: 100%|███████████████████████████████████████████████████████████████████████| 15/15 [00:00<00:00, 833.32it/s]\n",
      "Epoch 69: 100%|███████████████████████████████████████████████████████████████████████| 15/15 [00:00<00:00, 882.18it/s]\n",
      "Epoch 70: 100%|███████████████████████████████████████████████████████████████████████| 15/15 [00:00<00:00, 882.33it/s]\n",
      "Epoch 71: 100%|███████████████████████████████████████████████████████████████████████| 15/15 [00:00<00:00, 882.36it/s]\n",
      "Epoch 72: 100%|███████████████████████████████████████████████████████████████████████| 15/15 [00:00<00:00, 882.13it/s]\n",
      "Epoch 73: 100%|███████████████████████████████████████████████████████████████████████| 15/15 [00:00<00:00, 833.48it/s]\n",
      "Epoch 74: 100%|███████████████████████████████████████████████████████████████████████| 15/15 [00:00<00:00, 882.38it/s]\n",
      "Epoch 75: 100%|███████████████████████████████████████████████████████████████████████| 15/15 [00:00<00:00, 789.41it/s]\n",
      "Epoch 76: 100%|███████████████████████████████████████████████████████████████████████| 15/15 [00:00<00:00, 750.03it/s]\n",
      "Epoch 77: 100%|███████████████████████████████████████████████████████████████████████| 15/15 [00:00<00:00, 789.45it/s]\n",
      "Epoch 78: 100%|███████████████████████████████████████████████████████████████████████| 15/15 [00:00<00:00, 882.37it/s]\n",
      "Epoch 79: 100%|███████████████████████████████████████████████████████████████████████| 15/15 [00:00<00:00, 833.37it/s]\n",
      "Epoch 80: 100%|███████████████████████████████████████████████████████████████████████| 15/15 [00:00<00:00, 882.31it/s]\n",
      "Epoch 81: 100%|███████████████████████████████████████████████████████████████████████| 15/15 [00:00<00:00, 882.49it/s]\n",
      "Epoch 82: 100%|███████████████████████████████████████████████████████████████████████| 15/15 [00:00<00:00, 833.27it/s]\n",
      "Epoch 83: 100%|███████████████████████████████████████████████████████████████████████| 15/15 [00:00<00:00, 833.28it/s]\n",
      "Epoch 84: 100%|███████████████████████████████████████████████████████████████████████| 15/15 [00:00<00:00, 833.25it/s]\n",
      "Epoch 85: 100%|███████████████████████████████████████████████████████████████████████| 15/15 [00:00<00:00, 833.17it/s]\n",
      "Epoch 86: 100%|███████████████████████████████████████████████████████████████████████| 15/15 [00:00<00:00, 882.23it/s]\n",
      "Epoch 87: 100%|███████████████████████████████████████████████████████████████████████| 15/15 [00:00<00:00, 833.35it/s]\n",
      "Epoch 88: 100%|███████████████████████████████████████████████████████████████████████| 15/15 [00:00<00:00, 882.43it/s]\n",
      "Epoch 89: 100%|███████████████████████████████████████████████████████████████████████| 15/15 [00:00<00:00, 882.19it/s]\n",
      "Epoch 90: 100%|███████████████████████████████████████████████████████████████████████| 15/15 [00:00<00:00, 937.44it/s]\n",
      "Epoch 91: 100%|███████████████████████████████████████████████████████████████████████| 15/15 [00:00<00:00, 833.22it/s]\n",
      "Epoch 92: 100%|███████████████████████████████████████████████████████████████████████| 15/15 [00:00<00:00, 827.39it/s]\n",
      "Epoch 93: 100%|███████████████████████████████████████████████████████████████████████| 15/15 [00:00<00:00, 833.25it/s]\n",
      "Epoch 94: 100%|███████████████████████████████████████████████████████████████████████| 15/15 [00:00<00:00, 882.26it/s]\n",
      "Epoch 95: 100%|███████████████████████████████████████████████████████████████████████| 15/15 [00:00<00:00, 833.32it/s]\n",
      "Epoch 96: 100%|███████████████████████████████████████████████████████████████████████| 15/15 [00:00<00:00, 882.39it/s]\n",
      "Epoch 97: 100%|███████████████████████████████████████████████████████████████████████| 15/15 [00:00<00:00, 882.34it/s]\n",
      "Epoch 98: 100%|███████████████████████████████████████████████████████████████████████| 15/15 [00:00<00:00, 937.44it/s]\n",
      "Epoch 99: 100%|███████████████████████████████████████████████████████████████████████| 15/15 [00:00<00:00, 882.28it/s]\n"
     ]
    }
   ],
   "source": [
    "from tqdm import trange\n",
    "import torch\n",
    "import torch.optim as optim\n",
    "import sys\n",
    "import pickle\n",
    "\n",
    "args = {\n",
    "    \"epochs\": 100,\n",
    "    \"order\": 2,\n",
    "    \"num_neg\": 5,\n",
    "    \"dim\": 128,\n",
    "    \"batch_size\": 10,\n",
    "    \"lr\": 0.025,\n",
    "    \"neg_power\": 0.75\n",
    "}\n",
    "# Create dict of distribution when opening file\n",
    "edgedistdict, nodedistdict, weights, nodedegrees, maxindex = makeDist(\n",
    "    karate_graph, args[\"neg_power\"])\n",
    "\n",
    "edgesaliassampler = VoseAlias(edgedistdict)\n",
    "nodesaliassampler = VoseAlias(nodedistdict)\n",
    "\n",
    "batchrange = int(len(edgedistdict) / args[\"batch_size\"])\n",
    "print(maxindex)\n",
    "line = LINE(maxindex + 1, embed_dim=args[\"dim\"], order=args[\"order\"])\n",
    "\n",
    "opt = optim.SGD(line.parameters(), lr=args[\"lr\"],\n",
    "                    momentum=0.9, nesterov=True)\n",
    "\n",
    "device = torch.device(\"cuda:0\" if torch.cuda.is_available() else \"cpu\")\n",
    "\n",
    "lossdata = {\"it\": [], \"loss\": []}\n",
    "it = 0\n",
    "\n",
    "print(\"\\nTraining on {}...\\n\".format(device))\n",
    "for epoch in range(args[\"epochs\"]):\n",
    "    for b in trange(batchrange, desc=f\"Epoch {epoch}\"):\n",
    "        samplededges = edgesaliassampler.sample_n(args[\"batch_size\"])\n",
    "        batch = list(makeData(samplededges, args[\"num_neg\"], weights, nodedegrees,\n",
    "                                  nodesaliassampler))\n",
    "        batch = torch.LongTensor(batch)\n",
    "        v_i = batch[:, 0]\n",
    "        v_j = batch[:, 1]\n",
    "        negsamples = batch[:, 2:]\n",
    "        line.zero_grad()\n",
    "        loss = line(v_i, v_j, negsamples, device)\n",
    "        loss.backward()\n",
    "        opt.step()\n",
    "\n",
    "        lossdata[\"loss\"].append(loss.item())\n",
    "        lossdata[\"it\"].append(it)\n",
    "        it += 1"
   ]
  },
  {
   "cell_type": "markdown",
   "metadata": {},
   "source": [
    "# Visualization"
   ]
  },
  {
   "cell_type": "code",
   "execution_count": 28,
   "metadata": {
    "ExecuteTime": {
     "end_time": "2023-09-13T10:03:56.574885Z",
     "start_time": "2023-09-13T10:03:56.289780600Z"
    }
   },
   "outputs": [],
   "source": [
    "from sklearn.manifold import TSNE   "
   ]
  },
  {
   "cell_type": "code",
   "execution_count": 29,
   "metadata": {
    "ExecuteTime": {
     "end_time": "2023-09-13T10:04:55.740946700Z",
     "start_time": "2023-09-13T10:04:55.724979Z"
    }
   },
   "outputs": [],
   "source": [
    "deepwalk_x = np.stack([deepwalk.wv[idx] for idx in range(34)])"
   ]
  },
  {
   "cell_type": "code",
   "execution_count": 30,
   "metadata": {
    "ExecuteTime": {
     "end_time": "2023-09-13T10:04:56.084699Z",
     "start_time": "2023-09-13T10:04:56.080079600Z"
    }
   },
   "outputs": [
    {
     "data": {
      "text/plain": [
       "(34, 300)"
      ]
     },
     "execution_count": 30,
     "metadata": {},
     "output_type": "execute_result"
    }
   ],
   "source": [
    "deepwalk_x.shape"
   ]
  },
  {
   "cell_type": "code",
   "execution_count": 31,
   "metadata": {
    "ExecuteTime": {
     "end_time": "2023-09-13T10:05:20.544874300Z",
     "start_time": "2023-09-13T10:05:20.529315400Z"
    }
   },
   "outputs": [
    {
     "data": {
      "text/plain": [
       "NodeDataView({0: {'class': 1}, 1: {'class': 1}, 2: {'class': 1}, 3: {'class': 1}, 4: {'class': 3}, 5: {'class': 3}, 6: {'class': 3}, 7: {'class': 1}, 8: {'class': 0}, 9: {'class': 1}, 10: {'class': 3}, 11: {'class': 1}, 12: {'class': 1}, 13: {'class': 1}, 14: {'class': 0}, 15: {'class': 0}, 16: {'class': 3}, 17: {'class': 1}, 18: {'class': 0}, 19: {'class': 1}, 20: {'class': 0}, 21: {'class': 1}, 22: {'class': 0}, 23: {'class': 0}, 24: {'class': 2}, 25: {'class': 2}, 26: {'class': 0}, 27: {'class': 0}, 28: {'class': 2}, 29: {'class': 0}, 30: {'class': 0}, 31: {'class': 2}, 32: {'class': 0}, 33: {'class': 0}})"
      ]
     },
     "execution_count": 31,
     "metadata": {},
     "output_type": "execute_result"
    }
   ],
   "source": [
    "karate_graph.nodes(data=True)"
   ]
  },
  {
   "cell_type": "code",
   "execution_count": 32,
   "metadata": {
    "ExecuteTime": {
     "end_time": "2023-09-13T10:07:42.046846200Z",
     "start_time": "2023-09-13T10:07:41.999355500Z"
    }
   },
   "outputs": [],
   "source": [
    "deepwalk_y = np.stack([node[1][\"class\"] for node in karate_graph.nodes(data=True)])"
   ]
  },
  {
   "cell_type": "code",
   "execution_count": 33,
   "metadata": {
    "ExecuteTime": {
     "end_time": "2023-09-13T10:07:49.592939Z",
     "start_time": "2023-09-13T10:07:49.577091500Z"
    }
   },
   "outputs": [
    {
     "data": {
      "text/plain": [
       "(34,)"
      ]
     },
     "execution_count": 33,
     "metadata": {},
     "output_type": "execute_result"
    }
   ],
   "source": [
    "deepwalk_y.shape"
   ]
  },
  {
   "cell_type": "code",
   "execution_count": 34,
   "metadata": {
    "ExecuteTime": {
     "end_time": "2023-09-13T10:12:05.944547600Z",
     "start_time": "2023-09-13T10:12:05.920439300Z"
    }
   },
   "outputs": [
    {
     "name": "stdout",
     "output_type": "stream",
     "text": [
      "0 3\n"
     ]
    }
   ],
   "source": [
    "print(min(deepwalk_y), max(deepwalk_y))"
   ]
  },
  {
   "cell_type": "code",
   "execution_count": 35,
   "metadata": {
    "ExecuteTime": {
     "end_time": "2023-09-13T10:08:48.897960300Z",
     "start_time": "2023-09-13T10:08:48.895457800Z"
    }
   },
   "outputs": [],
   "source": [
    "tsne = TSNE()\n"
   ]
  },
  {
   "cell_type": "code",
   "execution_count": 36,
   "metadata": {
    "ExecuteTime": {
     "end_time": "2023-09-13T10:09:07.572193900Z",
     "start_time": "2023-09-13T10:09:07.378724Z"
    }
   },
   "outputs": [
    {
     "name": "stderr",
     "output_type": "stream",
     "text": [
      "C:\\Users\\user\\anaconda3\\envs\\GNN\\lib\\site-packages\\joblib\\externals\\loky\\backend\\context.py:136: UserWarning: Could not find the number of physical cores for the following reason:\n",
      "found 0 physical cores < 1\n",
      "Returning the number of logical cores instead. You can silence this warning by setting LOKY_MAX_CPU_COUNT to the number of cores you want to use.\n",
      "  warnings.warn(\n",
      "  File \"C:\\Users\\user\\anaconda3\\envs\\GNN\\lib\\site-packages\\joblib\\externals\\loky\\backend\\context.py\", line 282, in _count_physical_cores\n",
      "    raise ValueError(f\"found {cpu_count_physical} physical cores < 1\")\n"
     ]
    }
   ],
   "source": [
    "tsne_deepwalk = tsne.fit_transform(deepwalk_x)"
   ]
  },
  {
   "cell_type": "code",
   "execution_count": 37,
   "metadata": {
    "ExecuteTime": {
     "end_time": "2023-09-13T10:09:09.687853600Z",
     "start_time": "2023-09-13T10:09:09.656224200Z"
    }
   },
   "outputs": [
    {
     "data": {
      "text/plain": [
       "array([[-7.998108 , -5.468143 ],\n",
       "       [-8.208156 , -5.460429 ],\n",
       "       [-8.210596 , -5.9278116],\n",
       "       [-8.20858  , -5.460041 ],\n",
       "       [-7.7906322, -5.159825 ],\n",
       "       [-7.7098293, -5.0047045],\n",
       "       [-7.7189565, -4.9869623],\n",
       "       [-8.183004 , -5.496085 ],\n",
       "       [-8.24783  , -6.1049   ],\n",
       "       [-8.209172 , -6.0609307],\n",
       "       [-7.8034577, -5.238537 ],\n",
       "       [-8.03014  , -5.642307 ],\n",
       "       [-8.06231  , -5.5154176],\n",
       "       [-8.208279 , -5.6620255],\n",
       "       [-7.9496036, -6.701155 ],\n",
       "       [-8.156028 , -6.502342 ],\n",
       "       [-7.717841 , -5.0107183],\n",
       "       [-8.089758 , -5.352785 ],\n",
       "       [-8.21099  , -6.6045804],\n",
       "       [-8.212177 , -5.8314886],\n",
       "       [-8.108423 , -6.404147 ],\n",
       "       [-8.086234 , -5.451341 ],\n",
       "       [-8.21052  , -6.6631536],\n",
       "       [-7.8872194, -6.9362893],\n",
       "       [-7.682729 , -6.668963 ],\n",
       "       [-7.701598 , -6.8301454],\n",
       "       [-8.140146 , -6.9334855],\n",
       "       [-7.722909 , -6.6473427],\n",
       "       [-7.9470353, -6.454263 ],\n",
       "       [-8.074604 , -6.9889445],\n",
       "       [-8.338791 , -6.2365937],\n",
       "       [-7.7353477, -6.545494 ],\n",
       "       [-8.200477 , -6.6560326],\n",
       "       [-8.225123 , -6.6138124]], dtype=float32)"
      ]
     },
     "execution_count": 37,
     "metadata": {},
     "output_type": "execute_result"
    }
   ],
   "source": [
    "tsne_deepwalk"
   ]
  },
  {
   "cell_type": "code",
   "execution_count": 38,
   "metadata": {
    "ExecuteTime": {
     "end_time": "2023-09-13T10:15:08.906453400Z",
     "start_time": "2023-09-13T10:15:08.805246900Z"
    }
   },
   "outputs": [
    {
     "data": {
      "image/png": "[encoded data removed]",
      "text/plain": [
       "<Figure size 640x480 with 1 Axes>"
      ]
     },
     "metadata": {},
     "output_type": "display_data"
    }
   ],
   "source": [
    "colors = ['b', 'r', 'g', 'y']\n",
    "\n",
    "for label in range(4):\n",
    "    class_indices = deepwalk_y == label\n",
    "    \n",
    "    class_data = tsne_deepwalk[class_indices]\n",
    "    plt.scatter(class_data[:, 0], class_data[:, 1], c=colors[label], label=f\"Class {label}\")\n",
    "\n",
    "plt.legend()\n",
    "plt.show()"
   ]
  },
  {
   "cell_type": "code",
   "execution_count": null,
   "metadata": {},
   "outputs": [],
   "source": []
  },
  {
   "cell_type": "code",
   "execution_count": null,
   "metadata": {},
   "outputs": [],
   "source": []
  },
  {
   "cell_type": "code",
   "execution_count": null,
   "metadata": {},
   "outputs": [],
   "source": []
  },
  {
   "cell_type": "code",
   "execution_count": null,
   "metadata": {},
   "outputs": [],
   "source": []
  },
  {
   "cell_type": "code",
   "execution_count": null,
   "metadata": {},
   "outputs": [],
   "source": []
  },
  {
   "cell_type": "code",
   "execution_count": null,
   "metadata": {},
   "outputs": [],
   "source": []
  }
 ],
 "metadata": {
  "colab": {
   "authorship_tag": "ABX9TyPEiGlAKjcXteEQ9F2/bZfh",
   "provenance": []
  },
  "kernelspec": {
   "display_name": "Python 3 (ipykernel)",
   "language": "python",
   "name": "python3"
  },
  "language_info": {
   "codemirror_mode": {
    "name": "ipython",
    "version": 3
   },
   "file_extension": ".py",
   "mimetype": "text/x-python",
   "name": "python",
   "nbconvert_exporter": "python",
   "pygments_lexer": "ipython3",
   "version": "3.8.8"
  }
 },
 "nbformat": 4,
 "nbformat_minor": 4
}
