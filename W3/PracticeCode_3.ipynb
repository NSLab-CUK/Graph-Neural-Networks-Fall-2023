{
 "nbformat": 4,
 "nbformat_minor": 0,
 "metadata": {
  "colab": {
   "provenance": [],
   "authorship_tag": "ABX9TyPEiGlAKjcXteEQ9F2/bZfh"
  },
  "kernelspec": {
   "name": "python3",
   "language": "python",
   "display_name": "Python 3 (ipykernel)"
  },
  "language_info": {
   "name": "python"
  }
 },
 "cells": [
  {
   "cell_type": "code",
   "execution_count": 1,
   "metadata": {
    "colab": {
     "base_uri": "https://localhost:8080/"
    },
    "id": "NQhZNeHRkSaF",
    "executionInfo": {
     "status": "ok",
     "timestamp": 1694273603438,
     "user_tz": -540,
     "elapsed": 17682,
     "user": {
      "displayName": "이주호",
      "userId": "15914417090480631241"
     }
    },
    "outputId": "fbb77514-350f-45f7-c055-ed76fbad0d5a",
    "ExecuteTime": {
     "end_time": "2023-09-13T10:03:24.026724700Z",
     "start_time": "2023-09-13T10:03:20.195939800Z"
    }
   },
   "outputs": [
    {
     "name": "stdout",
     "output_type": "stream",
     "text": [
      "Requirement already satisfied: gensim in c:\\users\\jooho\\appdata\\local\\programs\\python\\python311\\lib\\site-packages (4.3.2)\n",
      "Requirement already satisfied: numpy>=1.18.5 in c:\\users\\jooho\\appdata\\local\\programs\\python\\python311\\lib\\site-packages (from gensim) (1.24.1)\n",
      "Requirement already satisfied: scipy>=1.7.0 in c:\\users\\jooho\\appdata\\local\\programs\\python\\python311\\lib\\site-packages (from gensim) (1.11.2)\n",
      "Requirement already satisfied: smart-open>=1.8.1 in c:\\users\\jooho\\appdata\\local\\programs\\python\\python311\\lib\\site-packages (from gensim) (6.4.0)\n",
      "Requirement already satisfied: matplotlib in c:\\users\\jooho\\appdata\\local\\programs\\python\\python311\\lib\\site-packages (3.7.2)\n",
      "Requirement already satisfied: contourpy>=1.0.1 in c:\\users\\jooho\\appdata\\local\\programs\\python\\python311\\lib\\site-packages (from matplotlib) (1.1.0)\n",
      "Requirement already satisfied: cycler>=0.10 in c:\\users\\jooho\\appdata\\local\\programs\\python\\python311\\lib\\site-packages (from matplotlib) (0.11.0)\n",
      "Requirement already satisfied: fonttools>=4.22.0 in c:\\users\\jooho\\appdata\\local\\programs\\python\\python311\\lib\\site-packages (from matplotlib) (4.42.1)\n",
      "Requirement already satisfied: kiwisolver>=1.0.1 in c:\\users\\jooho\\appdata\\local\\programs\\python\\python311\\lib\\site-packages (from matplotlib) (1.4.5)\n",
      "Requirement already satisfied: numpy>=1.20 in c:\\users\\jooho\\appdata\\local\\programs\\python\\python311\\lib\\site-packages (from matplotlib) (1.24.1)\n",
      "Requirement already satisfied: packaging>=20.0 in c:\\users\\jooho\\appdata\\local\\programs\\python\\python311\\lib\\site-packages (from matplotlib) (23.1)\n",
      "Requirement already satisfied: pillow>=6.2.0 in c:\\users\\jooho\\appdata\\local\\programs\\python\\python311\\lib\\site-packages (from matplotlib) (9.3.0)\n",
      "Requirement already satisfied: pyparsing<3.1,>=2.3.1 in c:\\users\\jooho\\appdata\\local\\programs\\python\\python311\\lib\\site-packages (from matplotlib) (3.0.9)\n",
      "Requirement already satisfied: python-dateutil>=2.7 in c:\\users\\jooho\\appdata\\local\\programs\\python\\python311\\lib\\site-packages (from matplotlib) (2.8.2)\n",
      "Requirement already satisfied: six>=1.5 in c:\\users\\jooho\\appdata\\local\\programs\\python\\python311\\lib\\site-packages (from python-dateutil>=2.7->matplotlib) (1.16.0)\n",
      "Collecting sklearn\n",
      "  Downloading sklearn-0.0.post9.tar.gz (3.6 kB)\n",
      "  Preparing metadata (setup.py): started\n",
      "  Preparing metadata (setup.py): finished with status 'error'\n"
     ]
    },
    {
     "name": "stderr",
     "output_type": "stream",
     "text": [
      "  error: subprocess-exited-with-error\n",
      "  \n",
      "  python setup.py egg_info did not run successfully.\n",
      "  exit code: 1\n",
      "  \n",
      "  [18 lines of output]\n",
      "  The 'sklearn' PyPI package is deprecated, use 'scikit-learn'\n",
      "  rather than 'sklearn' for pip commands.\n",
      "  \n",
      "  Here is how to fix this error in the main use cases:\n",
      "  - use 'pip install scikit-learn' rather than 'pip install sklearn'\n",
      "  - replace 'sklearn' by 'scikit-learn' in your pip requirements files\n",
      "    (requirements.txt, setup.py, setup.cfg, Pipfile, etc ...)\n",
      "  - if the 'sklearn' package is used by one of your dependencies,\n",
      "    it would be great if you take some time to track which package uses\n",
      "    'sklearn' instead of 'scikit-learn' and report it to their issue tracker\n",
      "  - as a last resort, set the environment variable\n",
      "    SKLEARN_ALLOW_DEPRECATED_SKLEARN_PACKAGE_INSTALL=True to avoid this error\n",
      "  \n",
      "  More information is available at\n",
      "  https://github.com/scikit-learn/sklearn-pypi-package\n",
      "  \n",
      "  If the previous advice does not cover your use case, feel free to report it at\n",
      "  https://github.com/scikit-learn/sklearn-pypi-package/issues/new\n",
      "  [end of output]\n",
      "  \n",
      "  note: This error originates from a subprocess, and is likely not a problem with pip.\n",
      "error: metadata-generation-failed\n",
      "\n",
      "Encountered error while generating package metadata.\n",
      "\n",
      "See above for output.\n",
      "\n",
      "note: This is an issue with the package mentioned above, not pip.\n",
      "hint: See above for details.\n"
     ]
    }
   ],
   "source": [
    "!pip install gensim\n",
    "!pip install matplotlib\n",
    "!pip install -U sklearn"
   ]
  },
  {
   "cell_type": "markdown",
   "source": [
    "#  Graph  Construction"
   ],
   "metadata": {
    "id": "DwAT_2qqlbCr"
   }
  },
  {
   "cell_type": "code",
   "source": [
    "import networkx as nx\n",
    "import random\n",
    "from torch_geometric.datasets import KarateClub\n",
    "from torch_geometric.utils import to_networkx"
   ],
   "metadata": {
    "id": "waOeZ6J5lajH",
    "ExecuteTime": {
     "end_time": "2023-09-13T10:03:25.490787400Z",
     "start_time": "2023-09-13T10:03:24.026724700Z"
    }
   },
   "execution_count": 2,
   "outputs": []
  },
  {
   "cell_type": "code",
   "execution_count": 3,
   "outputs": [],
   "source": [
    "dataset = KarateClub()[0]"
   ],
   "metadata": {
    "collapsed": false,
    "ExecuteTime": {
     "end_time": "2023-09-13T10:03:25.495219800Z",
     "start_time": "2023-09-13T10:03:25.490787400Z"
    }
   }
  },
  {
   "cell_type": "code",
   "execution_count": 4,
   "outputs": [
    {
     "data": {
      "text/plain": "Data(x=[34, 34], edge_index=[2, 156], y=[34], train_mask=[34])"
     },
     "execution_count": 4,
     "metadata": {},
     "output_type": "execute_result"
    }
   ],
   "source": [
    "dataset"
   ],
   "metadata": {
    "collapsed": false,
    "ExecuteTime": {
     "end_time": "2023-09-13T10:03:25.511159800Z",
     "start_time": "2023-09-13T10:03:25.495219800Z"
    }
   }
  },
  {
   "cell_type": "code",
   "execution_count": 5,
   "outputs": [
    {
     "data": {
      "text/plain": "tensor([1, 1, 1, 1, 3, 3, 3, 1, 0, 1, 3, 1, 1, 1, 0, 0, 3, 1, 0, 1, 0, 1, 0, 0,\n        2, 2, 0, 0, 2, 0, 0, 2, 0, 0])"
     },
     "execution_count": 5,
     "metadata": {},
     "output_type": "execute_result"
    }
   ],
   "source": [
    "dataset.y"
   ],
   "metadata": {
    "collapsed": false,
    "ExecuteTime": {
     "end_time": "2023-09-13T10:03:25.519121200Z",
     "start_time": "2023-09-13T10:03:25.508158500Z"
    }
   }
  },
  {
   "cell_type": "code",
   "execution_count": 6,
   "outputs": [],
   "source": [
    "karate_graph = to_networkx(dataset)\n",
    "\n",
    "for node in karate_graph.nodes:\n",
    "    karate_graph.nodes[node][\"class\"] = dataset.y.tolist()[node]\n",
    "    "
   ],
   "metadata": {
    "collapsed": false,
    "ExecuteTime": {
     "end_time": "2023-09-13T10:03:25.532706200Z",
     "start_time": "2023-09-13T10:03:25.519121200Z"
    }
   }
  },
  {
   "cell_type": "code",
   "execution_count": 7,
   "outputs": [
    {
     "data": {
      "text/plain": "NodeDataView({0: {'class': 1}, 1: {'class': 1}, 2: {'class': 1}, 3: {'class': 1}, 4: {'class': 3}, 5: {'class': 3}, 6: {'class': 3}, 7: {'class': 1}, 8: {'class': 0}, 9: {'class': 1}, 10: {'class': 3}, 11: {'class': 1}, 12: {'class': 1}, 13: {'class': 1}, 14: {'class': 0}, 15: {'class': 0}, 16: {'class': 3}, 17: {'class': 1}, 18: {'class': 0}, 19: {'class': 1}, 20: {'class': 0}, 21: {'class': 1}, 22: {'class': 0}, 23: {'class': 0}, 24: {'class': 2}, 25: {'class': 2}, 26: {'class': 0}, 27: {'class': 0}, 28: {'class': 2}, 29: {'class': 0}, 30: {'class': 0}, 31: {'class': 2}, 32: {'class': 0}, 33: {'class': 0}})"
     },
     "execution_count": 7,
     "metadata": {},
     "output_type": "execute_result"
    }
   ],
   "source": [
    "karate_graph.nodes(data=True)"
   ],
   "metadata": {
    "collapsed": false,
    "ExecuteTime": {
     "end_time": "2023-09-13T10:03:25.558910Z",
     "start_time": "2023-09-13T10:03:25.527199900Z"
    }
   }
  },
  {
   "cell_type": "markdown",
   "source": [
    "# Random Walk"
   ],
   "metadata": {
    "id": "Bri8adxGmZZp"
   }
  },
  {
   "cell_type": "code",
   "source": [
    "'''\n",
    "    graph : Graph\n",
    "    start_node : start_node of random walk sequence\n",
    "    num_steps : the length of random walk sequnce\n",
    "'''\n",
    "def random_walk(graph, start_node, num_steps):\n",
    "    result = []\n",
    "    current_node = start_node\n",
    "    for _ in range(num_steps):\n",
    "        result.append(current_node)\n",
    "        neighbors = list(graph .neighbors(current_node))\n",
    "        if not neighbors:\n",
    "            break\n",
    "        current_node = random.choice(neighbors)\n",
    "\n",
    "    return result"
   ],
   "metadata": {
    "id": "crQWRSfpmt_P",
    "ExecuteTime": {
     "end_time": "2023-09-13T10:03:25.558910Z",
     "start_time": "2023-09-13T10:03:25.532706200Z"
    }
   },
   "execution_count": 8,
   "outputs": []
  },
  {
   "cell_type": "code",
   "source": [
    "start_node = random.choice(list(karate_graph.nodes()))\n",
    "num_steps = 10  # the number of steps for random walk (length of sequence)\n",
    "\n",
    "print(\"Random Walk:\")\n",
    "\n",
    "result = random_walk(karate_graph, start_node, num_steps)\n",
    "print(result)"
   ],
   "metadata": {
    "colab": {
     "base_uri": "https://localhost:8080/"
    },
    "id": "yEuAh6O0mP3W",
    "executionInfo": {
     "status": "ok",
     "timestamp": 1694281698539,
     "user_tz": -540,
     "elapsed": 2,
     "user": {
      "displayName": "이주호",
      "userId": "15914417090480631241"
     }
    },
    "outputId": "0d9f9632-aa2f-4541-a007-3f9e78a91a8e",
    "ExecuteTime": {
     "end_time": "2023-09-13T10:03:25.558910Z",
     "start_time": "2023-09-13T10:03:25.537831400Z"
    }
   },
   "execution_count": 9,
   "outputs": [
    {
     "name": "stdout",
     "output_type": "stream",
     "text": [
      "Random Walk:\n",
      "[12, 0, 13, 1, 2, 0, 1, 30, 33, 15]\n"
     ]
    }
   ]
  },
  {
   "cell_type": "markdown",
   "source": [
    "# Deep Walk Code"
   ],
   "metadata": {
    "id": "bKvqaHPz-Xbt"
   }
  },
  {
   "cell_type": "code",
   "source": [
    "import numpy as np\n",
    "import random\n",
    "from gensim.models import Word2Vec\n",
    "from torch.utils.data import Dataset\n",
    "from functools import partial"
   ],
   "metadata": {
    "id": "KCz7jUxW-XSG",
    "ExecuteTime": {
     "end_time": "2023-09-13T10:03:25.773206600Z",
     "start_time": "2023-09-13T10:03:25.548908800Z"
    }
   },
   "execution_count": 10,
   "outputs": []
  },
  {
   "cell_type": "markdown",
   "source": [
    "__building dataset__"
   ],
   "metadata": {
    "id": "KlpYFh3zBDMT"
   }
  },
  {
   "cell_type": "code",
   "source": [
    "dataset = [random_walk(karate_graph, start_node=random.choice(list(karate_graph.nodes)), num_steps=20) for _ in range(100)]"
   ],
   "metadata": {
    "id": "oOj1EIKB-v-6",
    "ExecuteTime": {
     "end_time": "2023-09-13T10:03:25.778546600Z",
     "start_time": "2023-09-13T10:03:25.773206600Z"
    }
   },
   "execution_count": 11,
   "outputs": []
  },
  {
   "cell_type": "code",
   "source": [
    "for seq in dataset:\n",
    "    print(seq)"
   ],
   "metadata": {
    "colab": {
     "base_uri": "https://localhost:8080/"
    },
    "id": "CZE8-aFKCLZy",
    "executionInfo": {
     "status": "ok",
     "timestamp": 1694281709082,
     "user_tz": -540,
     "elapsed": 434,
     "user": {
      "displayName": "이주호",
      "userId": "15914417090480631241"
     }
    },
    "outputId": "ab2370fc-92bf-4b0c-9c32-4e8acfbc910a",
    "ExecuteTime": {
     "end_time": "2023-09-13T10:03:25.787885600Z",
     "start_time": "2023-09-13T10:03:25.776544800Z"
    }
   },
   "execution_count": 12,
   "outputs": [
    {
     "name": "stdout",
     "output_type": "stream",
     "text": [
      "[8, 32, 22, 33, 18, 33, 9, 2, 28, 2, 32, 33, 23, 33, 29, 26, 29, 26, 29, 32]\n",
      "[31, 0, 4, 0, 1, 21, 0, 21, 1, 13, 3, 12, 3, 7, 1, 13, 1, 21, 0, 12]\n",
      "[18, 32, 14, 32, 18, 33, 9, 2, 13, 33, 18, 32, 18, 32, 22, 33, 18, 32, 15, 32]\n",
      "[13, 2, 3, 0, 13, 33, 19, 33, 14, 32, 2, 0, 19, 1, 30, 1, 30, 1, 2, 32]\n",
      "[4, 0, 17, 1, 13, 3, 12, 0, 3, 1, 19, 1, 7, 0, 3, 1, 2, 32, 23, 27]\n",
      "[1, 30, 1, 17, 1, 7, 3, 7, 2, 3, 0, 3, 7, 1, 19, 33, 18, 33, 9, 33]\n",
      "[17, 1, 3, 1, 2, 13, 1, 17, 1, 19, 1, 13, 33, 26, 33, 19, 33, 27, 2, 28]\n",
      "[18, 32, 18, 33, 27, 2, 3, 12, 3, 0, 5, 6, 0, 4, 0, 11, 0, 1, 0, 5]\n",
      "[24, 27, 2, 28, 33, 30, 8, 0, 17, 1, 7, 3, 13, 33, 13, 2, 28, 31, 25, 31]\n",
      "[32, 33, 15, 33, 15, 33, 29, 23, 29, 32, 18, 33, 22, 33, 14, 33, 27, 23, 25, 23]\n",
      "[3, 7, 3, 13, 0, 13, 33, 14, 32, 8, 32, 15, 33, 13, 2, 28, 33, 18, 33, 19]\n",
      "[18, 32, 30, 33, 26, 33, 26, 33, 28, 33, 26, 33, 31, 24, 31, 32, 2, 8, 0, 13]\n",
      "[10, 4, 10, 0, 21, 0, 4, 6, 0, 19, 0, 12, 0, 7, 3, 0, 7, 2, 3, 7]\n",
      "[10, 4, 10, 5, 16, 6, 0, 19, 1, 0, 1, 17, 1, 3, 0, 21, 1, 17, 0, 8]\n",
      "[33, 32, 22, 32, 2, 1, 19, 0, 21, 1, 2, 1, 0, 1, 0, 17, 1, 3, 1, 13]\n",
      "[23, 32, 2, 9, 2, 1, 3, 2, 1, 21, 0, 13, 1, 19, 33, 8, 32, 23, 32, 18]\n",
      "[27, 2, 0, 7, 2, 3, 0, 12, 0, 1, 3, 13, 3, 12, 0, 17, 0, 12, 3, 0]\n",
      "[0, 11, 0, 6, 16, 5, 6, 5, 16, 5, 0, 10, 5, 0, 12, 0, 6, 16, 5, 10]\n",
      "[16, 6, 4, 10, 0, 10, 5, 6, 0, 31, 33, 27, 2, 32, 29, 23, 25, 23, 27, 2]\n",
      "[8, 2, 7, 3, 12, 0, 21, 1, 17, 1, 0, 31, 24, 25, 31, 24, 31, 25, 31, 33]\n",
      "[22, 33, 22, 33, 22, 33, 19, 0, 2, 13, 3, 12, 3, 1, 7, 2, 32, 29, 23, 25]\n",
      "[10, 4, 6, 5, 10, 4, 6, 4, 0, 31, 0, 11, 0, 12, 3, 7, 2, 28, 2, 28]\n",
      "[11, 0, 2, 8, 33, 27, 33, 31, 0, 31, 28, 2, 1, 13, 1, 17, 1, 0, 17, 0]\n",
      "[4, 10, 4, 10, 0, 13, 3, 0, 17, 0, 6, 16, 6, 5, 0, 8, 2, 7, 2, 27]\n",
      "[25, 31, 28, 2, 8, 0, 31, 32, 33, 30, 1, 21, 0, 17, 1, 17, 1, 2, 1, 19]\n",
      "[11, 0, 11, 0, 5, 6, 0, 4, 10, 5, 0, 17, 0, 4, 0, 4, 0, 2, 27, 24]\n",
      "[30, 32, 22, 33, 15, 33, 27, 2, 9, 33, 30, 32, 29, 33, 20, 32, 29, 23, 32, 15]\n",
      "[4, 10, 4, 6, 5, 16, 6, 0, 3, 7, 2, 9, 2, 28, 33, 26, 33, 29, 26, 29]\n",
      "[24, 31, 28, 33, 27, 23, 32, 30, 1, 17, 0, 8, 0, 6, 4, 10, 0, 12, 0, 5]\n",
      "[18, 32, 2, 9, 33, 13, 0, 3, 0, 21, 1, 30, 33, 29, 23, 33, 22, 32, 20, 32]\n",
      "[3, 2, 13, 3, 1, 3, 7, 2, 8, 30, 1, 21, 1, 19, 0, 4, 10, 4, 6, 4]\n",
      "[15, 32, 20, 32, 2, 28, 33, 31, 25, 24, 27, 33, 30, 8, 30, 8, 0, 12, 0, 2]\n",
      "[13, 33, 15, 32, 18, 32, 18, 33, 19, 0, 6, 5, 16, 6, 16, 6, 5, 10, 4, 10]\n",
      "[31, 24, 31, 24, 25, 24, 27, 33, 14, 32, 20, 33, 28, 33, 9, 33, 32, 18, 33, 19]\n",
      "[13, 0, 17, 0, 8, 32, 2, 27, 23, 29, 32, 2, 0, 17, 0, 7, 2, 3, 7, 1]\n",
      "[18, 32, 31, 28, 33, 32, 14, 32, 30, 33, 15, 32, 20, 32, 8, 32, 18, 33, 13, 3]\n",
      "[33, 8, 32, 23, 33, 28, 2, 0, 2, 32, 14, 33, 23, 33, 29, 33, 32, 31, 33, 8]\n",
      "[6, 0, 17, 1, 21, 1, 13, 33, 15, 33, 31, 25, 23, 27, 23, 27, 23, 25, 24, 31]\n",
      "[5, 16, 5, 6, 4, 0, 5, 10, 4, 10, 0, 4, 6, 4, 6, 4, 6, 5, 0, 6]\n",
      "[19, 0, 10, 4, 6, 4, 10, 5, 0, 3, 13, 33, 27, 24, 27, 33, 32, 14, 33, 9]\n",
      "[12, 3, 0, 7, 0, 3, 2, 32, 29, 32, 15, 33, 8, 32, 20, 33, 20, 33, 14, 32]\n",
      "[19, 33, 31, 0, 17, 1, 17, 1, 17, 1, 19, 0, 21, 1, 7, 2, 27, 2, 7, 3]\n",
      "[28, 2, 9, 2, 7, 1, 21, 1, 13, 1, 21, 1, 19, 1, 2, 32, 18, 33, 14, 33]\n",
      "[22, 32, 23, 27, 24, 27, 2, 1, 19, 1, 21, 1, 7, 2, 13, 33, 31, 0, 11, 0]\n",
      "[7, 0, 4, 10, 0, 21, 1, 7, 0, 1, 13, 0, 8, 30, 1, 7, 2, 9, 33, 20]\n",
      "[18, 33, 13, 0, 17, 1, 3, 2, 28, 31, 0, 7, 3, 2, 7, 0, 1, 3, 0, 17]\n",
      "[11, 0, 10, 4, 6, 5, 16, 5, 6, 5, 0, 10, 5, 0, 31, 25, 23, 27, 33, 13]\n",
      "[32, 15, 32, 29, 26, 29, 23, 29, 26, 29, 33, 31, 24, 25, 23, 29, 32, 14, 33, 14]\n",
      "[2, 7, 1, 0, 1, 2, 8, 33, 9, 33, 13, 33, 32, 14, 32, 15, 33, 27, 24, 27]\n",
      "[3, 0, 19, 1, 3, 13, 2, 9, 2, 27, 24, 25, 23, 27, 24, 31, 32, 15, 32, 31]\n",
      "[5, 10, 4, 6, 0, 4, 0, 5, 10, 5, 6, 4, 0, 21, 1, 3, 13, 2, 7, 3]\n",
      "[22, 33, 9, 2, 3, 13, 0, 6, 0, 1, 13, 1, 3, 0, 3, 2, 27, 33, 27, 23]\n",
      "[23, 29, 33, 27, 33, 15, 32, 14, 32, 20, 33, 28, 2, 1, 17, 0, 11, 0, 13, 3]\n",
      "[26, 29, 23, 25, 24, 27, 24, 25, 23, 33, 23, 25, 23, 32, 31, 33, 13, 1, 30, 32]\n",
      "[1, 30, 32, 20, 33, 30, 1, 0, 31, 24, 31, 33, 28, 31, 0, 3, 13, 0, 21, 1]\n",
      "[20, 32, 33, 26, 33, 13, 3, 7, 3, 1, 30, 32, 31, 28, 2, 32, 23, 27, 24, 27]\n",
      "[22, 33, 9, 33, 9, 33, 32, 23, 32, 22, 33, 22, 33, 31, 24, 31, 0, 11, 0, 5]\n",
      "[30, 33, 28, 33, 29, 33, 26, 33, 20, 33, 18, 32, 8, 0, 2, 8, 30, 8, 32, 15]\n",
      "[2, 7, 1, 19, 33, 22, 32, 20, 32, 22, 33, 9, 2, 0, 8, 2, 3, 12, 3, 7]\n",
      "[15, 32, 15, 33, 29, 33, 23, 33, 19, 1, 13, 1, 21, 0, 31, 24, 27, 2, 7, 3]\n",
      "[27, 23, 33, 9, 33, 8, 2, 9, 2, 8, 30, 33, 14, 32, 18, 32, 18, 32, 33, 32]\n",
      "[11, 0, 11, 0, 4, 10, 0, 10, 5, 6, 16, 5, 16, 5, 0, 3, 13, 2, 8, 30]\n",
      "[23, 29, 23, 29, 26, 33, 28, 2, 0, 3, 0, 4, 10, 5, 16, 5, 16, 5, 0, 3]\n",
      "[6, 0, 12, 3, 0, 3, 13, 3, 12, 3, 7, 1, 13, 1, 13, 2, 8, 2, 0, 6]\n",
      "[24, 25, 23, 33, 23, 33, 31, 25, 24, 25, 23, 33, 19, 33, 20, 32, 20, 32, 8, 33]\n",
      "[19, 0, 2, 28, 33, 30, 1, 2, 27, 24, 25, 23, 33, 14, 33, 23, 27, 24, 31, 32]\n",
      "[6, 16, 5, 6, 16, 5, 6, 5, 6, 4, 10, 5, 10, 5, 6, 5, 10, 5, 10, 4]\n",
      "[17, 1, 21, 1, 13, 2, 9, 2, 7, 0, 5, 6, 0, 12, 3, 0, 7, 3, 12, 3]\n",
      "[5, 16, 6, 16, 5, 0, 11, 0, 12, 0, 31, 32, 2, 27, 2, 27, 33, 23, 27, 2]\n",
      "[0, 4, 0, 7, 0, 6, 4, 6, 16, 5, 10, 0, 1, 21, 1, 13, 3, 13, 3, 13]\n",
      "[23, 27, 23, 33, 29, 33, 18, 32, 22, 33, 32, 18, 32, 15, 32, 31, 25, 31, 28, 2]\n",
      "[10, 5, 0, 13, 33, 28, 2, 3, 13, 2, 27, 24, 25, 23, 25, 23, 32, 22, 32, 33]\n",
      "[21, 0, 3, 2, 3, 1, 17, 0, 1, 17, 0, 21, 0, 3, 2, 0, 1, 17, 1, 7]\n",
      "[2, 9, 2, 1, 13, 2, 13, 1, 30, 32, 20, 32, 2, 0, 7, 2, 0, 1, 0, 8]\n",
      "[27, 33, 19, 0, 7, 1, 0, 4, 10, 5, 10, 0, 17, 1, 30, 8, 0, 3, 7, 1]\n",
      "[21, 0, 17, 0, 3, 7, 3, 7, 3, 7, 3, 0, 19, 1, 0, 19, 1, 0, 5, 10]\n",
      "[28, 2, 1, 0, 11, 0, 4, 10, 0, 6, 0, 13, 0, 17, 1, 3, 1, 30, 33, 20]\n",
      "[20, 32, 30, 1, 2, 0, 31, 25, 24, 31, 24, 25, 23, 29, 32, 20, 32, 22, 32, 29]\n",
      "[18, 32, 30, 33, 29, 23, 32, 8, 0, 5, 6, 0, 3, 12, 0, 31, 33, 32, 23, 25]\n",
      "[28, 33, 31, 0, 8, 33, 32, 33, 32, 15, 33, 13, 0, 12, 3, 12, 3, 2, 9, 2]\n",
      "[17, 0, 6, 16, 5, 16, 6, 5, 10, 0, 5, 6, 0, 4, 6, 5, 0, 21, 1, 30]\n",
      "[26, 33, 23, 32, 30, 32, 31, 32, 18, 32, 14, 32, 15, 33, 14, 33, 15, 33, 20, 33]\n",
      "[11, 0, 7, 2, 9, 33, 8, 2, 7, 2, 13, 0, 8, 30, 1, 0, 31, 28, 33, 30]\n",
      "[15, 32, 14, 32, 18, 32, 14, 32, 29, 32, 14, 32, 23, 33, 23, 25, 24, 25, 31, 0]\n",
      "[18, 32, 18, 33, 27, 24, 25, 23, 27, 2, 9, 33, 19, 33, 22, 33, 29, 26, 33, 28]\n",
      "[27, 33, 19, 0, 1, 21, 1, 3, 0, 11, 0, 8, 2, 0, 13, 2, 13, 0, 11, 0]\n",
      "[3, 2, 1, 30, 32, 14, 32, 20, 33, 19, 33, 18, 33, 27, 23, 25, 24, 25, 31, 0]\n",
      "[26, 33, 13, 3, 13, 2, 0, 12, 3, 2, 13, 33, 13, 3, 12, 3, 2, 27, 2, 28]\n",
      "[24, 25, 23, 33, 26, 29, 32, 22, 32, 20, 32, 23, 27, 2, 0, 8, 30, 33, 28, 2]\n",
      "[6, 5, 0, 12, 3, 7, 2, 1, 30, 32, 22, 33, 27, 2, 1, 7, 1, 7, 3, 12]\n",
      "[5, 6, 4, 0, 7, 0, 7, 0, 17, 1, 7, 3, 7, 1, 19, 1, 19, 0, 11, 0]\n",
      "[32, 29, 32, 22, 32, 31, 25, 23, 29, 26, 33, 14, 33, 27, 24, 25, 24, 27, 2, 32]\n",
      "[16, 6, 4, 0, 8, 32, 20, 32, 33, 14, 33, 18, 32, 15, 32, 18, 33, 9, 2, 9]\n",
      "[33, 27, 24, 27, 2, 32, 31, 32, 23, 29, 33, 23, 25, 31, 28, 2, 28, 2, 7, 1]\n",
      "[10, 4, 6, 16, 6, 5, 16, 6, 4, 6, 5, 0, 19, 0, 13, 33, 26, 29, 26, 29]\n",
      "[18, 33, 20, 32, 30, 8, 2, 3, 1, 7, 3, 12, 3, 2, 3, 13, 0, 10, 5, 6]\n",
      "[21, 1, 0, 31, 32, 33, 9, 2, 8, 0, 4, 0, 8, 30, 33, 18, 33, 28, 31, 24]\n",
      "[10, 4, 6, 5, 16, 6, 0, 4, 0, 5, 6, 4, 0, 31, 25, 23, 33, 13, 0, 2]\n",
      "[20, 33, 19, 33, 8, 2, 8, 33, 14, 32, 33, 30, 32, 14, 32, 23, 29, 33, 18, 32]\n",
      "[8, 30, 1, 21, 0, 2, 28, 33, 22, 33, 26, 29, 26, 29, 26, 33, 18, 32, 29, 32]\n"
     ]
    }
   ]
  },
  {
   "cell_type": "markdown",
   "source": [
    "__running DeepWalk__"
   ],
   "metadata": {
    "id": "KStE4Z0hBAEF"
   }
  },
  {
   "cell_type": "code",
   "source": [
    "deepwalk = Word2Vec(dataset, vector_size=300, epochs=100)"
   ],
   "metadata": {
    "id": "8QT1cXP4-fZQ",
    "ExecuteTime": {
     "end_time": "2023-09-13T10:03:25.913458200Z",
     "start_time": "2023-09-13T10:03:25.787885600Z"
    }
   },
   "execution_count": 13,
   "outputs": []
  },
  {
   "cell_type": "code",
   "execution_count": 46,
   "outputs": [
    {
     "data": {
      "text/plain": "array([-0.05351657,  0.03135834, -0.10142288,  0.03424973,  0.00335838,\n       -0.20606494,  0.11777699,  0.41953257,  0.05281027, -0.20228623,\n        0.06137399, -0.12785591, -0.20383002, -0.03299808, -0.2821054 ,\n       -0.10517746, -0.01515423, -0.02671343,  0.17022234, -0.25389063,\n        0.02971047, -0.02766642, -0.19642642, -0.08009531,  0.11841547,\n       -0.00315253, -0.28306141,  0.3221291 , -0.10285214, -0.16193636,\n       -0.20202653, -0.07295649,  0.0672312 , -0.10720065, -0.11834926,\n       -0.03309464,  0.09356543, -0.10751722,  0.07198024, -0.05109768,\n       -0.06933641, -0.0614886 , -0.06052357, -0.010158  ,  0.07524617,\n       -0.07734086, -0.09449638,  0.06140757,  0.06096676,  0.22256462,\n       -0.21052665,  0.0182016 ,  0.05964927,  0.21427594,  0.09827349,\n       -0.01724322,  0.05876765, -0.0699455 ,  0.18511961,  0.31981334,\n       -0.02071114, -0.1530366 ,  0.18735829, -0.14156485, -0.06415736,\n        0.13654844,  0.16058911,  0.19044843, -0.16091238, -0.04652879,\n        0.16024272,  0.18536954,  0.12965922, -0.12031839,  0.2784379 ,\n        0.01681311, -0.08690178, -0.08117586, -0.0598376 , -0.30391407,\n       -0.2945701 ,  0.13512129, -0.16921635,  0.34685636, -0.05991723,\n       -0.11803678,  0.17044543, -0.17156662,  0.12722996,  0.14988227,\n       -0.13480924,  0.06142229,  0.19281107, -0.02606134,  0.27162918,\n        0.14377435,  0.01781039, -0.0790359 ,  0.1915344 ,  0.26525867,\n       -0.11062404, -0.11040913,  0.06960209,  0.02675444, -0.01683282,\n       -0.20610078, -0.14938538, -0.04781125, -0.06435336, -0.06761058,\n        0.00201291, -0.15839185, -0.13553673,  0.07407955,  0.23041439,\n        0.27482104,  0.15252446,  0.22321162,  0.07322571, -0.1685119 ,\n       -0.06015138,  0.20921463,  0.18113202, -0.04430142,  0.08760422,\n        0.18738781, -0.12304457, -0.27324173,  0.07155005,  0.266652  ,\n        0.09830044, -0.08524472,  0.37123016, -0.20904669, -0.02899547,\n        0.21767938, -0.07029007, -0.06627885,  0.00203358, -0.17584988,\n        0.18203029, -0.13742   , -0.05989432,  0.23297659, -0.02657798,\n        0.13838008, -0.2568871 , -0.04000544,  0.04655552, -0.12531506,\n        0.00445686, -0.05228583, -0.05127942, -0.06563663, -0.07772528,\n        0.24492559,  0.13962099,  0.07066122,  0.12348606,  0.11950671,\n       -0.02475509,  0.13975844, -0.09689306, -0.00087497,  0.0185191 ,\n        0.06019373, -0.11205983,  0.02688795,  0.19894385,  0.06029614,\n        0.06419019, -0.02237587, -0.06074395,  0.2612719 ,  0.26620573,\n       -0.06019129,  0.08274762,  0.02953764, -0.02817314, -0.11743086,\n       -0.09076639, -0.11835398,  0.06038447, -0.02859728, -0.13768224,\n        0.08214097, -0.06030287, -0.11675937,  0.1482787 , -0.14033121,\n        0.311009  ,  0.15803373, -0.1075099 ,  0.10458657, -0.06883945,\n       -0.02796786,  0.0622368 , -0.13348375, -0.17614257,  0.07646193,\n        0.21207997,  0.14512186,  0.02504061,  0.10051671,  0.33962768,\n       -0.04753618,  0.03262034,  0.26866546,  0.16252305, -0.28301775,\n        0.17989197, -0.18002282, -0.11743813, -0.17915905,  0.20864974,\n       -0.016705  , -0.01931399, -0.06105034, -0.01948884, -0.21356821,\n       -0.13284977,  0.04775003, -0.10871096, -0.09714807,  0.02289369,\n       -0.02340393,  0.17744489,  0.13327982, -0.06707263,  0.10329195,\n       -0.11004893, -0.33758187,  0.01093188, -0.07624324, -0.16841309,\n        0.05102388,  0.08321217,  0.05850086,  0.13631862, -0.07972505,\n       -0.03720449, -0.18057309, -0.0212849 ,  0.15839699,  0.22216426,\n        0.00772043,  0.05312435, -0.18246312,  0.06930101,  0.27080977,\n        0.05696288,  0.03561457,  0.01392945, -0.0888136 , -0.03474284,\n       -0.17028333,  0.19976607, -0.01967479, -0.12630257, -0.00535062,\n       -0.16432266, -0.00905845,  0.15899912,  0.0603521 , -0.2210027 ,\n        0.24689041,  0.14411065,  0.2229265 , -0.03693043,  0.10588124,\n        0.14844863, -0.11955082,  0.17449366,  0.16143128,  0.04238499,\n        0.30232164,  0.00160299,  0.16158393, -0.0386725 ,  0.0168195 ,\n        0.03941412, -0.0290039 , -0.01955817, -0.08161607,  0.12397753,\n        0.20197064,  0.04751198, -0.07832257,  0.07613891,  0.0912068 ,\n        0.09907255,  0.08908292,  0.2705346 ,  0.1692057 ,  0.391036  ,\n        0.11092182, -0.03185622,  0.0070904 , -0.1376827 , -0.25586775],\n      dtype=float32)"
     },
     "execution_count": 46,
     "metadata": {},
     "output_type": "execute_result"
    }
   ],
   "source": [
    "deepwalk.wv[1]"
   ],
   "metadata": {
    "collapsed": false,
    "ExecuteTime": {
     "end_time": "2023-09-13T10:21:58.129081500Z",
     "start_time": "2023-09-13T10:21:58.121267400Z"
    }
   }
  },
  {
   "cell_type": "markdown",
   "source": [
    "# Node2Vec Code"
   ],
   "metadata": {
    "id": "7egKpseqxX5g"
   }
  },
  {
   "cell_type": "markdown",
   "source": [
    "__Random Walk Code for Node2Vec__"
   ],
   "metadata": {
    "id": "f6Lp-TFlBlzA"
   }
  },
  {
   "cell_type": "code",
   "source": [
    "def node2vec_walk(G, start_node, num_steps, p, q):\n",
    "    walk = [start_node]\n",
    "\n",
    "    for _ in range(num_steps - 1):\n",
    "        current_node = walk[-1]\n",
    "        neighbors = list(G.neighbors(current_node))\n",
    "\n",
    "        if len(neighbors) > 0:\n",
    "            if len(walk) == 1:\n",
    "                next_node = random.choice(neighbors)\n",
    "            else:\n",
    "                next_node = node2vec_weighted_choice(G, current_node, walk[-2], p, q)\n",
    "\n",
    "            walk.append(next_node)\n",
    "        else:\n",
    "            break\n",
    "\n",
    "    return walk\n",
    "\n",
    "def node2vec_weighted_choice(G, current_node, previous_node, p, q):\n",
    "    neighbors = list(G.neighbors(current_node))\n",
    "    unnormalized_weights = []\n",
    "\n",
    "    for neighbor in neighbors:\n",
    "        if neighbor == previous_node:\n",
    "            unnormalized_weights.append(1.0 / p)\n",
    "        elif G.has_edge(current_node, neighbor):\n",
    "            unnormalized_weights.append(1.0)\n",
    "        else:\n",
    "            unnormalized_weights.append(1.0 / q)\n",
    "\n",
    "    norm_weights = [weight / sum(unnormalized_weights) for weight in unnormalized_weights]\n",
    "    return random.choices(neighbors, weights=norm_weights)[0]"
   ],
   "metadata": {
    "id": "6Iu41Jyg88hr",
    "ExecuteTime": {
     "end_time": "2023-09-13T10:03:25.923150800Z",
     "start_time": "2023-09-13T10:03:25.916942900Z"
    }
   },
   "execution_count": 15,
   "outputs": []
  },
  {
   "cell_type": "code",
   "source": [
    "dataset2 = [node2vec_walk(karate_graph, start_node=random.choice(list(karate_graph.nodes)), num_steps=10, p=0.8, q=0.2) for _ in range(100)]"
   ],
   "metadata": {
    "id": "sunDI1RNB4u_",
    "ExecuteTime": {
     "end_time": "2023-09-13T10:03:25.932495300Z",
     "start_time": "2023-09-13T10:03:25.923150800Z"
    }
   },
   "execution_count": 16,
   "outputs": []
  },
  {
   "cell_type": "code",
   "source": [
    "for i in dataset2:\n",
    "    print(i)"
   ],
   "metadata": {
    "colab": {
     "base_uri": "https://localhost:8080/"
    },
    "id": "J-s1iRoDC-3m",
    "executionInfo": {
     "status": "ok",
     "timestamp": 1694281786171,
     "user_tz": -540,
     "elapsed": 2,
     "user": {
      "displayName": "이주호",
      "userId": "15914417090480631241"
     }
    },
    "outputId": "a67339ec-27ef-467e-dbfe-fa0d9d118250",
    "ExecuteTime": {
     "end_time": "2023-09-13T10:03:25.967441600Z",
     "start_time": "2023-09-13T10:03:25.932495300Z"
    }
   },
   "execution_count": 17,
   "outputs": [
    {
     "name": "stdout",
     "output_type": "stream",
     "text": [
      "[8, 2, 9, 2, 3, 12, 3, 13, 3, 7]\n",
      "[31, 25, 23, 27, 23, 29, 32, 29, 23, 25]\n",
      "[30, 1, 2, 8, 33, 8, 30, 32, 15, 32]\n",
      "[6, 4, 6, 0, 17, 1, 17, 1, 21, 1]\n",
      "[0, 4, 10, 0, 8, 2, 28, 33, 23, 25]\n",
      "[14, 32, 15, 32, 31, 24, 25, 23, 32, 22]\n",
      "[32, 29, 23, 33, 19, 1, 17, 1, 3, 0]\n",
      "[31, 33, 23, 27, 2, 3, 2, 32, 33, 31]\n",
      "[29, 23, 25, 24, 27, 23, 29, 26, 33, 22]\n",
      "[10, 5, 16, 6, 5, 10, 4, 10, 5, 0]\n",
      "[33, 14, 32, 8, 30, 33, 15, 32, 14, 32]\n",
      "[0, 17, 1, 30, 33, 18, 32, 31, 33, 26]\n",
      "[27, 2, 27, 33, 14, 32, 15, 32, 15, 32]\n",
      "[7, 2, 27, 33, 27, 23, 25, 31, 32, 33]\n",
      "[31, 25, 31, 0, 10, 4, 10, 4, 10, 0]\n",
      "[2, 7, 3, 7, 3, 1, 3, 7, 0, 19]\n",
      "[24, 31, 24, 25, 31, 0, 13, 0, 21, 0]\n",
      "[4, 0, 12, 3, 7, 1, 13, 0, 11, 0]\n",
      "[20, 33, 20, 33, 28, 33, 30, 32, 22, 32]\n",
      "[24, 27, 23, 32, 29, 33, 27, 33, 22, 32]\n",
      "[4, 6, 5, 16, 6, 0, 4, 0, 31, 32]\n",
      "[20, 33, 14, 32, 29, 32, 18, 33, 31, 0]\n",
      "[6, 4, 6, 4, 0, 7, 0, 17, 0, 13]\n",
      "[9, 33, 26, 29, 23, 27, 23, 25, 23, 27]\n",
      "[30, 1, 0, 5, 16, 6, 4, 10, 4, 10]\n",
      "[4, 0, 21, 0, 3, 2, 32, 2, 1, 2]\n",
      "[3, 7, 2, 28, 31, 32, 15, 33, 13, 3]\n",
      "[20, 33, 18, 33, 26, 29, 26, 29, 26, 29]\n",
      "[14, 33, 26, 33, 14, 32, 33, 27, 33, 29]\n",
      "[22, 32, 23, 32, 14, 33, 20, 32, 31, 25]\n",
      "[23, 32, 20, 33, 22, 33, 32, 8, 0, 17]\n",
      "[3, 2, 13, 0, 11, 0, 2, 0, 17, 0]\n",
      "[0, 13, 0, 12, 0, 12, 0, 11, 0, 12]\n",
      "[10, 0, 13, 3, 1, 21, 0, 5, 10, 5]\n",
      "[15, 32, 18, 32, 14, 32, 18, 32, 30, 8]\n",
      "[20, 32, 14, 32, 31, 32, 8, 0, 11, 0]\n",
      "[0, 6, 16, 6, 4, 6, 5, 16, 6, 0]\n",
      "[26, 33, 28, 2, 28, 2, 1, 7, 2, 3]\n",
      "[12, 3, 12, 3, 13, 33, 15, 32, 18, 32]\n",
      "[21, 0, 2, 1, 2, 3, 2, 0, 5, 6]\n",
      "[3, 13, 2, 13, 33, 26, 33, 8, 0, 6]\n",
      "[3, 13, 2, 1, 0, 2, 8, 2, 1, 19]\n",
      "[31, 24, 27, 2, 28, 31, 32, 31, 28, 33]\n",
      "[10, 0, 8, 0, 19, 1, 30, 1, 2, 27]\n",
      "[10, 4, 10, 4, 6, 4, 10, 4, 10, 5]\n",
      "[0, 21, 1, 21, 0, 31, 0, 8, 0, 17]\n",
      "[16, 6, 0, 17, 1, 19, 1, 3, 1, 30]\n",
      "[2, 8, 32, 29, 26, 33, 20, 33, 22, 33]\n",
      "[19, 0, 13, 2, 7, 1, 17, 0, 3, 12]\n",
      "[6, 5, 10, 0, 17, 1, 2, 28, 31, 25]\n",
      "[4, 0, 12, 3, 7, 0, 4, 10, 5, 16]\n",
      "[24, 27, 23, 29, 33, 18, 32, 8, 33, 22]\n",
      "[22, 32, 31, 33, 14, 33, 15, 32, 29, 32]\n",
      "[7, 3, 12, 3, 0, 21, 0, 21, 1, 19]\n",
      "[31, 25, 23, 27, 24, 27, 2, 7, 1, 21]\n",
      "[18, 33, 23, 25, 24, 31, 25, 23, 25, 24]\n",
      "[9, 33, 13, 33, 26, 33, 32, 18, 33, 19]\n",
      "[20, 33, 20, 32, 29, 26, 29, 32, 8, 30]\n",
      "[7, 3, 13, 1, 3, 1, 21, 0, 12, 0]\n",
      "[28, 31, 0, 21, 1, 13, 0, 4, 10, 0]\n",
      "[8, 0, 19, 0, 17, 1, 3, 13, 3, 13]\n",
      "[23, 29, 33, 31, 24, 27, 23, 27, 23, 29]\n",
      "[18, 33, 19, 0, 10, 0, 1, 3, 13, 33]\n",
      "[29, 33, 19, 0, 7, 2, 13, 0, 31, 28]\n",
      "[29, 33, 27, 2, 27, 24, 25, 31, 0, 21]\n",
      "[14, 32, 29, 23, 25, 24, 31, 33, 20, 32]\n",
      "[23, 32, 15, 33, 14, 32, 23, 25, 31, 33]\n",
      "[18, 32, 30, 32, 23, 32, 20, 32, 20, 33]\n",
      "[26, 33, 13, 1, 2, 9, 2, 3, 7, 1]\n",
      "[24, 25, 23, 25, 31, 0, 8, 0, 8, 2]\n",
      "[24, 27, 24, 27, 23, 33, 9, 2, 3, 7]\n",
      "[23, 29, 33, 29, 23, 29, 23, 27, 23, 32]\n",
      "[7, 3, 7, 1, 7, 1, 30, 32, 22, 33]\n",
      "[8, 32, 33, 31, 0, 1, 3, 13, 1, 3]\n",
      "[3, 12, 0, 31, 33, 13, 33, 27, 2, 28]\n",
      "[22, 33, 30, 1, 17, 0, 17, 0, 7, 0]\n",
      "[13, 33, 20, 33, 14, 33, 26, 29, 32, 22]\n",
      "[0, 12, 0, 12, 0, 13, 1, 30, 1, 3]\n",
      "[27, 33, 19, 33, 13, 33, 30, 32, 15, 33]\n",
      "[0, 4, 10, 4, 0, 1, 3, 12, 0, 31]\n",
      "[21, 1, 30, 8, 32, 2, 8, 2, 3, 13]\n",
      "[26, 33, 14, 33, 28, 31, 24, 27, 23, 32]\n",
      "[28, 33, 22, 33, 8, 33, 20, 33, 31, 32]\n",
      "[2, 8, 2, 13, 1, 3, 12, 0, 12, 3]\n",
      "[26, 29, 23, 29, 32, 33, 28, 33, 26, 29]\n",
      "[6, 4, 10, 4, 0, 2, 32, 8, 2, 1]\n",
      "[12, 3, 0, 12, 0, 8, 32, 14, 33, 9]\n",
      "[33, 13, 33, 14, 33, 29, 33, 28, 31, 33]\n",
      "[17, 0, 17, 0, 1, 13, 33, 14, 32, 20]\n",
      "[27, 24, 27, 24, 25, 24, 31, 28, 31, 25]\n",
      "[1, 13, 33, 22, 32, 22, 32, 2, 7, 3]\n",
      "[24, 31, 32, 29, 26, 33, 31, 25, 24, 31]\n",
      "[30, 1, 13, 1, 0, 3, 1, 19, 33, 19]\n",
      "[31, 24, 25, 23, 27, 33, 13, 33, 9, 2]\n",
      "[33, 23, 33, 9, 2, 9, 2, 13, 33, 14]\n",
      "[33, 23, 25, 24, 27, 2, 9, 2, 0, 2]\n",
      "[2, 28, 33, 26, 33, 9, 2, 32, 23, 33]\n",
      "[20, 32, 14, 33, 8, 32, 8, 32, 14, 33]\n",
      "[14, 33, 26, 33, 15, 33, 20, 32, 8, 32]\n",
      "[15, 32, 8, 33, 8, 0, 4, 0, 31, 25]\n"
     ]
    }
   ]
  },
  {
   "cell_type": "code",
   "source": [
    "node2vec = Word2Vec(dataset2, vector_size=200, epochs=100)"
   ],
   "metadata": {
    "id": "SrtGhxJbD1pW",
    "ExecuteTime": {
     "end_time": "2023-09-13T10:03:26.053090200Z",
     "start_time": "2023-09-13T10:03:25.943314600Z"
    }
   },
   "execution_count": 18,
   "outputs": []
  },
  {
   "cell_type": "markdown",
   "source": [
    "# LINE Code"
   ],
   "metadata": {
    "id": "e78t1TMLNQCT"
   }
  },
  {
   "cell_type": "markdown",
   "source": [
    "__Alias Sampling__"
   ],
   "metadata": {
    "id": "9hCshZM6NWvU"
   }
  },
  {
   "cell_type": "code",
   "source": [
    "import random\n",
    "from decimal import *\n",
    "import numpy as np\n",
    "import collections\n",
    "from tqdm import tqdm\n",
    "import matplotlib.pyplot as plt\n",
    "\n",
    "\n",
    "class VoseAlias:\n",
    "    def __init__(self, dist):\n",
    "        \"\"\"\n",
    "        (VoseAlias, dict) -> NoneType\n",
    "        \"\"\"\n",
    "        self.dist = dist\n",
    "        self.alias_initialisation()\n",
    "\n",
    "    def alias_initialisation(self):\n",
    "        \"\"\"\n",
    "        Construct probability and alias tables for the distribution.\n",
    "        \"\"\"\n",
    "        # Initialise variables\n",
    "        n = len(self.dist)\n",
    "        self.table_prob = {}   # probability table\n",
    "        self.table_alias = {}  # alias table\n",
    "        scaled_prob = {}       # scaled probabilities\n",
    "        small = []             # stack for probabilities smaller that 1\n",
    "        large = []             # stack for probabilities greater than or equal to 1\n",
    "\n",
    "        # Construct and sort the scaled probabilities into their appropriate stacks\n",
    "        print(\"1/2. Building and sorting scaled probabilities for alias table...\")\n",
    "        for o, p in tqdm(self.dist.items()):\n",
    "            scaled_prob[o] = Decimal(p) * n\n",
    "\n",
    "            if scaled_prob[o] < 1:\n",
    "                small.append(o)\n",
    "            else:\n",
    "                large.append(o)\n",
    "\n",
    "        print(\"2/2. Building alias table...\")\n",
    "        # Construct the probability and alias tables\n",
    "        while small and large:\n",
    "            s = small.pop()\n",
    "            l = large.pop()\n",
    "\n",
    "            self.table_prob[s] = scaled_prob[s]\n",
    "            self.table_alias[s] = l\n",
    "\n",
    "            scaled_prob[l] = (scaled_prob[l] + scaled_prob[s]) - Decimal(1)\n",
    "\n",
    "            if scaled_prob[l] < 1:\n",
    "                small.append(l)\n",
    "            else:\n",
    "                large.append(l)\n",
    "\n",
    "        # The remaining outcomes (of one stack) must have probability 1\n",
    "        while large:\n",
    "            self.table_prob[large.pop()] = Decimal(1)\n",
    "\n",
    "        while small:\n",
    "            self.table_prob[small.pop()] = Decimal(1)\n",
    "        self.listprobs = list(self.table_prob)\n",
    "\n",
    "    def alias_generation(self):\n",
    "        \"\"\"\n",
    "        Yields a random outcome from the distribution.\n",
    "        \"\"\"\n",
    "        # Determine which column of table_prob to inspect\n",
    "        col = random.choice(self.listprobs)\n",
    "        # Determine which outcome to pick in that column\n",
    "        if self.table_prob[col] >= random.uniform(0, 1):\n",
    "            return col\n",
    "        else:\n",
    "            return self.table_alias[col]\n",
    "\n",
    "    def sample_n(self, size):\n",
    "        \"\"\"\n",
    "        Yields a sample of size n from the distribution, and print the results to stdout.\n",
    "        \"\"\"\n",
    "        for i in range(size):\n",
    "            yield self.alias_generation()\n",
    "\n",
    "\n",
    "def makeDist(graph: nx.Graph, power=0.75):\n",
    "\n",
    "    edgedistdict = collections.defaultdict(int)\n",
    "    nodedistdict = collections.defaultdict(int)\n",
    "\n",
    "    weightsdict = collections.defaultdict(int)\n",
    "    nodedegrees = collections.defaultdict(int)\n",
    "\n",
    "    weightsum = 0\n",
    "    negprobsum = 0\n",
    "\n",
    "    nlines = 0\n",
    "\n",
    "    maxindex = 0\n",
    "\n",
    "    for edge in tqdm(graph.edges(data=True), total=nlines):\n",
    "        node1, node2, weight = edge[0], edge[1], edge[2][\"weight\"]\n",
    "\n",
    "        edgedistdict[tuple([node1, node2])] = weight\n",
    "        nodedistdict[node1] += weight\n",
    "\n",
    "        weightsdict[tuple([node1, node2])] = weight\n",
    "        nodedegrees[node1] += weight\n",
    "\n",
    "        weightsum += weight\n",
    "        negprobsum += np.power(weight, power)\n",
    "\n",
    "        if node1 > maxindex:\n",
    "            maxindex = node1\n",
    "        elif node2 > maxindex:\n",
    "            maxindex = node2\n",
    "\n",
    "    for node, outdegree in nodedistdict.items():\n",
    "        nodedistdict[node] = np.power(outdegree, power) / negprobsum\n",
    "\n",
    "    for edge, weight in edgedistdict.items():\n",
    "        edgedistdict[edge] = weight / weightsum\n",
    "\n",
    "    return edgedistdict, nodedistdict, weightsdict, nodedegrees, maxindex\n",
    "\n",
    "\n",
    "def negSampleBatch(sourcenode, targetnode, negsamplesize, weights,\n",
    "                   nodedegrees, nodesaliassampler, t=10e-3):\n",
    "    \"\"\"\n",
    "    For generating negative samples.\n",
    "    \"\"\"\n",
    "    negsamples = 0\n",
    "    while negsamples < negsamplesize:\n",
    "        samplednode = nodesaliassampler.sample_n(1)\n",
    "        if (samplednode == sourcenode) or (samplednode == targetnode):\n",
    "            continue\n",
    "        else:\n",
    "            negsamples += 1\n",
    "            yield samplednode\n",
    "\n",
    "\n",
    "def makeData(samplededges, negsamplesize, weights, nodedegrees, nodesaliassampler):\n",
    "    for e in samplededges:\n",
    "        sourcenode, targetnode = e[0], e[1]\n",
    "        negnodes = []\n",
    "        for negsample in negSampleBatch(sourcenode, targetnode, negsamplesize,\n",
    "                                        weights, nodedegrees, nodesaliassampler):\n",
    "            for node in negsample:\n",
    "                negnodes.append(node)\n",
    "        yield [e[0], e[1]] + negnodes"
   ],
   "metadata": {
    "id": "UODB94CHNP1M",
    "executionInfo": {
     "status": "ok",
     "timestamp": 1694285070863,
     "user_tz": -540,
     "elapsed": 336,
     "user": {
      "displayName": "이주호",
      "userId": "15914417090480631241"
     }
    },
    "ExecuteTime": {
     "end_time": "2023-09-13T10:03:26.208905300Z",
     "start_time": "2023-09-13T10:03:26.053090200Z"
    }
   },
   "execution_count": 19,
   "outputs": []
  },
  {
   "cell_type": "markdown",
   "source": [
    "__LINE Model code__"
   ],
   "metadata": {
    "id": "IzPUT7syNo_1"
   }
  },
  {
   "cell_type": "code",
   "source": [
    "import torch\n",
    "import torch.nn as nn\n",
    "import torch.nn.functional as F\n",
    "\n",
    "\n",
    "class LINE(nn.Module):\n",
    "    def __init__(self, size, embed_dim=128, order=1):\n",
    "        super(LINE, self).__init__()\n",
    "\n",
    "        assert order in [1, 2], print(\"Order should either be int(1) or int(2)\")\n",
    "\n",
    "        self.embed_dim = embed_dim\n",
    "        self.order = order\n",
    "        self.nodes_embeddings = nn.Embedding(size, embed_dim)\n",
    "\n",
    "        if order == 2:\n",
    "            self.contextnodes_embeddings = nn.Embedding(size, embed_dim)\n",
    "            # Initialization\n",
    "            self.contextnodes_embeddings.weight.data = self.contextnodes_embeddings.weight.data.uniform_(\n",
    "                -.5, .5) / embed_dim\n",
    "\n",
    "        # Initialization\n",
    "        self.nodes_embeddings.weight.data = self.nodes_embeddings.weight.data.uniform_(\n",
    "            -.5, .5) / embed_dim\n",
    "\n",
    "    def forward(self, v_i, v_j, negsamples, device):\n",
    "\n",
    "        v_i = self.nodes_embeddings(v_i).to(device)\n",
    "\n",
    "        if self.order == 2:\n",
    "            v_j = self.contextnodes_embeddings(v_j).to(device)\n",
    "            negativenodes = -self.contextnodes_embeddings(negsamples).to(device)\n",
    "\n",
    "        else:\n",
    "            v_j = self.nodes_embeddings(v_j).to(device)\n",
    "            negativenodes = -self.nodes_embeddings(negsamples).to(device)\n",
    "\n",
    "        mulpositivebatch = torch.mul(v_i, v_j)\n",
    "        positivebatch = F.logsigmoid(torch.sum(mulpositivebatch, dim=1))\n",
    "\n",
    "        mulnegativebatch = torch.mul(v_i.view(len(v_i), 1, self.embed_dim), negativenodes)\n",
    "        negativebatch = torch.sum(\n",
    "            F.logsigmoid(\n",
    "                torch.sum(mulnegativebatch, dim=2)\n",
    "            ),\n",
    "            dim=1)\n",
    "        loss = positivebatch + negativebatch\n",
    "        return -torch.mean(loss)"
   ],
   "metadata": {
    "id": "5PnFMgwKNYyY",
    "executionInfo": {
     "status": "ok",
     "timestamp": 1694285273557,
     "user_tz": -540,
     "elapsed": 433,
     "user": {
      "displayName": "이주호",
      "userId": "15914417090480631241"
     }
    },
    "ExecuteTime": {
     "end_time": "2023-09-13T10:03:26.213566500Z",
     "start_time": "2023-09-13T10:03:26.208905300Z"
    }
   },
   "execution_count": 20,
   "outputs": []
  },
  {
   "cell_type": "code",
   "execution_count": 21,
   "outputs": [],
   "source": [
    "for edge in karate_graph.edges():\n",
    "    karate_graph.edges[edge][\"weight\"] = 1\n",
    "    "
   ],
   "metadata": {
    "collapsed": false,
    "ExecuteTime": {
     "end_time": "2023-09-13T10:03:26.225342200Z",
     "start_time": "2023-09-13T10:03:26.213566500Z"
    }
   }
  },
  {
   "cell_type": "code",
   "source": [
    "from tqdm import trange\n",
    "import torch\n",
    "import torch.optim as optim\n",
    "import sys\n",
    "import pickle\n",
    "\n",
    "args = {\n",
    "    \"epochs\": 100,\n",
    "    \"order\": 2,\n",
    "    \"num_neg\": 5,\n",
    "    \"dim\": 128,\n",
    "    \"batch_size\": 10,\n",
    "    \"lr\": 0.025,\n",
    "    \"neg_power\": 0.75\n",
    "}\n",
    "# Create dict of distribution when opening file\n",
    "edgedistdict, nodedistdict, weights, nodedegrees, maxindex = makeDist(\n",
    "    karate_graph, args[\"neg_power\"])\n",
    "\n",
    "edgesaliassampler = VoseAlias(edgedistdict)\n",
    "nodesaliassampler = VoseAlias(nodedistdict)\n",
    "\n",
    "batchrange = int(len(edgedistdict) / args[\"batch_size\"])\n",
    "print(maxindex)\n",
    "line = LINE(maxindex + 1, embed_dim=args[\"dim\"], order=args[\"order\"])\n",
    "\n",
    "opt = optim.SGD(line.parameters(), lr=args[\"lr\"],\n",
    "                    momentum=0.9, nesterov=True)\n",
    "\n",
    "device = torch.device(\"cuda:0\" if torch.cuda.is_available() else \"cpu\")\n",
    "\n",
    "lossdata = {\"it\": [], \"loss\": []}\n",
    "it = 0\n",
    "\n",
    "print(\"\\nTraining on {}...\\n\".format(device))\n",
    "for epoch in range(args[\"epochs\"]):\n",
    "    for b in trange(batchrange, desc=f\"Epoch {epoch}\"):\n",
    "        samplededges = edgesaliassampler.sample_n(args[\"batch_size\"])\n",
    "        batch = list(makeData(samplededges, args[\"num_neg\"], weights, nodedegrees,\n",
    "                                  nodesaliassampler))\n",
    "        batch = torch.LongTensor(batch)\n",
    "        v_i = batch[:, 0]\n",
    "        v_j = batch[:, 1]\n",
    "        negsamples = batch[:, 2:]\n",
    "        line.zero_grad()\n",
    "        loss = line(v_i, v_j, negsamples, device)\n",
    "        loss.backward()\n",
    "        opt.step()\n",
    "\n",
    "        lossdata[\"loss\"].append(loss.item())\n",
    "        lossdata[\"it\"].append(it)\n",
    "        it += 1"
   ],
   "metadata": {
    "colab": {
     "base_uri": "https://localhost:8080/"
    },
    "id": "xfJiGAsiNwGT",
    "executionInfo": {
     "status": "ok",
     "timestamp": 1694285305113,
     "user_tz": -540,
     "elapsed": 4927,
     "user": {
      "displayName": "이주호",
      "userId": "15914417090480631241"
     }
    },
    "outputId": "44703b89-f5c0-4a39-bf13-4da418b686b2",
    "ExecuteTime": {
     "end_time": "2023-09-13T10:03:28.303270100Z",
     "start_time": "2023-09-13T10:03:26.225342200Z"
    }
   },
   "execution_count": 22,
   "outputs": [
    {
     "name": "stderr",
     "output_type": "stream",
     "text": [
      "156it [00:00, ?it/s]\n"
     ]
    },
    {
     "name": "stdout",
     "output_type": "stream",
     "text": [
      "1/2. Building and sorting scaled probabilities for alias table...\n"
     ]
    },
    {
     "name": "stderr",
     "output_type": "stream",
     "text": [
      "100%|██████████| 156/156 [00:00<?, ?it/s]\n"
     ]
    },
    {
     "name": "stdout",
     "output_type": "stream",
     "text": [
      "2/2. Building alias table...\n",
      "1/2. Building and sorting scaled probabilities for alias table...\n"
     ]
    },
    {
     "name": "stderr",
     "output_type": "stream",
     "text": [
      "100%|██████████| 34/34 [00:00<?, ?it/s]\n"
     ]
    },
    {
     "name": "stdout",
     "output_type": "stream",
     "text": [
      "2/2. Building alias table...\n",
      "33\n",
      "\n",
      "Training on cuda:0...\n"
     ]
    },
    {
     "name": "stderr",
     "output_type": "stream",
     "text": [
      "Epoch 0: 100%|██████████| 15/15 [00:00<00:00, 18.92it/s]\n",
      "Epoch 1: 100%|██████████| 15/15 [00:00<00:00, 937.22it/s]\n",
      "Epoch 2: 100%|██████████| 15/15 [00:00<?, ?it/s]\n",
      "Epoch 3: 100%|██████████| 15/15 [00:00<00:00, 959.96it/s]\n",
      "Epoch 4: 100%|██████████| 15/15 [00:00<00:00, 960.07it/s]\n",
      "Epoch 5: 100%|██████████| 15/15 [00:00<00:00, 960.10it/s]\n",
      "Epoch 6: 100%|██████████| 15/15 [00:00<00:00, 960.12it/s]\n",
      "Epoch 7: 100%|██████████| 15/15 [00:00<00:00, 960.12it/s]\n",
      "Epoch 8: 100%|██████████| 15/15 [00:00<?, ?it/s]\n",
      "Epoch 9: 100%|██████████| 15/15 [00:00<00:00, 937.15it/s]\n",
      "Epoch 10: 100%|██████████| 15/15 [00:00<00:00, 959.97it/s]\n",
      "Epoch 11: 100%|██████████| 15/15 [00:00<00:00, 956.32it/s]\n",
      "Epoch 12: 100%|██████████| 15/15 [00:00<?, ?it/s]\n",
      "Epoch 13: 100%|██████████| 15/15 [00:00<00:00, 958.51it/s]\n",
      "Epoch 14: 100%|██████████| 15/15 [00:00<00:00, 960.09it/s]\n",
      "Epoch 15: 100%|██████████| 15/15 [00:00<00:00, 960.13it/s]\n",
      "Epoch 16: 100%|██████████| 15/15 [00:00<?, ?it/s]\n",
      "Epoch 17: 100%|██████████| 15/15 [00:00<00:00, 764.30it/s]\n",
      "Epoch 18: 100%|██████████| 15/15 [00:00<00:00, 1249.77it/s]\n",
      "Epoch 19: 100%|██████████| 15/15 [00:00<00:00, 959.90it/s]\n",
      "Epoch 20: 100%|██████████| 15/15 [00:00<?, ?it/s]\n",
      "Epoch 21: 100%|██████████| 15/15 [00:00<00:00, 960.10it/s]\n",
      "Epoch 22: 100%|██████████| 15/15 [00:00<00:00, 960.10it/s]\n",
      "Epoch 23: 100%|██████████| 15/15 [00:00<00:00, 960.12it/s]\n",
      "Epoch 24: 100%|██████████| 15/15 [00:00<00:00, 960.09it/s]\n",
      "Epoch 25: 100%|██████████| 15/15 [00:00<00:00, 1496.33it/s]\n",
      "Epoch 26: 100%|██████████| 15/15 [00:00<00:00, 19316.72it/s]\n",
      "Epoch 27: 100%|██████████| 15/15 [00:00<00:00, 959.34it/s]\n",
      "Epoch 28: 100%|██████████| 15/15 [00:00<00:00, 960.09it/s]\n",
      "Epoch 29: 100%|██████████| 15/15 [00:00<00:00, 1255.98it/s]\n",
      "Epoch 30: 100%|██████████| 15/15 [00:00<?, ?it/s]\n",
      "Epoch 31: 100%|██████████| 15/15 [00:00<00:00, 960.07it/s]\n",
      "Epoch 32: 100%|██████████| 15/15 [00:00<00:00, 960.07it/s]\n",
      "Epoch 33: 100%|██████████| 15/15 [00:00<00:00, 960.10it/s]\n",
      "Epoch 34: 100%|██████████| 15/15 [00:00<00:00, 4995.99it/s]\n",
      "Epoch 35: 100%|██████████| 15/15 [00:00<00:00, 1153.72it/s]\n",
      "Epoch 36: 100%|██████████| 15/15 [00:00<00:00, 959.96it/s]\n",
      "Epoch 37: 100%|██████████| 15/15 [00:00<?, ?it/s]\n",
      "Epoch 38: 100%|██████████| 15/15 [00:00<00:00, 960.09it/s]\n",
      "Epoch 39: 100%|██████████| 15/15 [00:00<00:00, 960.12it/s]\n",
      "Epoch 40: 100%|██████████| 15/15 [00:00<00:00, 960.10it/s]\n",
      "Epoch 41: 100%|██████████| 15/15 [00:00<?, ?it/s]\n",
      "Epoch 42: 100%|██████████| 15/15 [00:00<00:00, 1662.34it/s]\n",
      "Epoch 43: 100%|██████████| 15/15 [00:00<00:00, 2142.28it/s]\n",
      "Epoch 44: 100%|██████████| 15/15 [00:00<00:00, 959.99it/s]\n",
      "Epoch 45: 100%|██████████| 15/15 [00:00<00:00, 960.09it/s]\n",
      "Epoch 46: 100%|██████████| 15/15 [00:00<?, ?it/s]\n",
      "Epoch 47: 100%|██████████| 15/15 [00:00<00:00, 960.09it/s]\n",
      "Epoch 48: 100%|██████████| 15/15 [00:00<00:00, 960.12it/s]\n",
      "Epoch 49: 100%|██████████| 15/15 [00:00<00:00, 960.10it/s]\n",
      "Epoch 50: 100%|██████████| 15/15 [00:00<00:00, 937.12it/s]\n",
      "Epoch 51: 100%|██████████| 15/15 [00:00<?, ?it/s]\n",
      "Epoch 52: 100%|██████████| 15/15 [00:00<00:00, 959.99it/s]\n",
      "Epoch 53: 100%|██████████| 15/15 [00:00<00:00, 960.12it/s]\n",
      "Epoch 54: 100%|██████████| 15/15 [00:00<00:00, 960.09it/s]\n",
      "Epoch 55: 100%|██████████| 15/15 [00:00<00:00, 950.73it/s]\n",
      "Epoch 56: 100%|██████████| 15/15 [00:00<?, ?it/s]\n",
      "Epoch 57: 100%|██████████| 15/15 [00:00<00:00, 959.15it/s]\n",
      "Epoch 58: 100%|██████████| 15/15 [00:00<00:00, 727.24it/s]\n",
      "Epoch 59: 100%|██████████| 15/15 [00:00<00:00, 1363.44it/s]\n",
      "Epoch 60: 100%|██████████| 15/15 [00:00<?, ?it/s]\n",
      "Epoch 61: 100%|██████████| 15/15 [00:00<00:00, 959.93it/s]\n",
      "Epoch 62: 100%|██████████| 15/15 [00:00<00:00, 960.12it/s]\n",
      "Epoch 63: 100%|██████████| 15/15 [00:00<00:00, 960.10it/s]\n",
      "Epoch 64: 100%|██████████| 15/15 [00:00<00:00, 960.09it/s]\n",
      "Epoch 65: 100%|██████████| 15/15 [00:00<?, ?it/s]\n",
      "Epoch 66: 100%|██████████| 15/15 [00:00<00:00, 563.37it/s]\n",
      "Epoch 67: 100%|██████████| 15/15 [00:00<00:00, 2998.50it/s]\n",
      "Epoch 68: 100%|██████████| 15/15 [00:00<00:00, 959.99it/s]\n",
      "Epoch 69: 100%|██████████| 15/15 [00:00<00:00, 960.12it/s]\n",
      "Epoch 70: 100%|██████████| 15/15 [00:00<00:00, 960.10it/s]\n",
      "Epoch 71: 100%|██████████| 15/15 [00:00<?, ?it/s]\n",
      "Epoch 72: 100%|██████████| 15/15 [00:00<00:00, 960.09it/s]\n",
      "Epoch 73: 100%|██████████| 15/15 [00:00<00:00, 960.09it/s]\n",
      "Epoch 74: 100%|██████████| 15/15 [00:00<00:00, 875.89it/s]\n",
      "Epoch 75: 100%|██████████| 15/15 [00:00<?, ?it/s]\n",
      "Epoch 76: 100%|██████████| 15/15 [00:00<00:00, 1034.35it/s]\n",
      "Epoch 77: 100%|██████████| 15/15 [00:00<00:00, 959.93it/s]\n",
      "Epoch 78: 100%|██████████| 15/15 [00:00<00:00, 960.10it/s]\n",
      "Epoch 79: 100%|██████████| 15/15 [00:00<00:00, 440.36it/s]\n",
      "Epoch 80: 100%|██████████| 15/15 [00:00<00:00, 960.12it/s]\n",
      "Epoch 81: 100%|██████████| 15/15 [00:00<00:00, 1304.09it/s]\n",
      "Epoch 82: 100%|██████████| 15/15 [00:00<00:00, 959.91it/s]\n",
      "Epoch 83: 100%|██████████| 15/15 [00:00<00:00, 960.10it/s]\n",
      "Epoch 84: 100%|██████████| 15/15 [00:00<00:00, 960.12it/s]\n",
      "Epoch 85: 100%|██████████| 15/15 [00:00<00:00, 960.10it/s]\n",
      "Epoch 86: 100%|██████████| 15/15 [00:00<00:00, 574.13it/s]\n",
      "Epoch 87: 100%|██████████| 15/15 [00:00<00:00, 2726.17it/s]\n",
      "Epoch 88: 100%|██████████| 15/15 [00:00<00:00, 959.91it/s]\n",
      "Epoch 89: 100%|██████████| 15/15 [00:00<00:00, 960.06it/s]\n",
      "Epoch 90: 100%|██████████| 15/15 [00:00<00:00, 960.12it/s]\n",
      "Epoch 91: 100%|██████████| 15/15 [00:00<00:00, 960.15it/s]\n",
      "Epoch 92: 100%|██████████| 15/15 [00:00<?, ?it/s]\n",
      "Epoch 93: 100%|██████████| 15/15 [00:00<00:00, 960.12it/s]\n",
      "Epoch 94: 100%|██████████| 15/15 [00:00<00:00, 902.18it/s]\n",
      "Epoch 95: 100%|██████████| 15/15 [00:00<00:00, 999.90it/s]\n",
      "Epoch 96: 100%|██████████| 15/15 [00:00<00:00, 1400.06it/s]\n",
      "Epoch 97: 100%|██████████| 15/15 [00:00<00:00, 931.79it/s]\n",
      "Epoch 98: 100%|██████████| 15/15 [00:00<?, ?it/s]\n",
      "Epoch 99: 100%|██████████| 15/15 [00:00<00:00, 960.09it/s]\n"
     ]
    }
   ]
  },
  {
   "cell_type": "markdown",
   "source": [
    "# Visualization"
   ],
   "metadata": {
    "collapsed": false
   }
  },
  {
   "cell_type": "code",
   "execution_count": 23,
   "outputs": [],
   "source": [
    "from sklearn.manifold import TSNE   "
   ],
   "metadata": {
    "collapsed": false,
    "ExecuteTime": {
     "end_time": "2023-09-13T10:03:56.574885Z",
     "start_time": "2023-09-13T10:03:56.289780600Z"
    }
   }
  },
  {
   "cell_type": "code",
   "execution_count": 29,
   "outputs": [],
   "source": [
    "deepwalk_x = np.stack([deepwalk.wv[idx] for idx in range(34)])"
   ],
   "metadata": {
    "collapsed": false,
    "ExecuteTime": {
     "end_time": "2023-09-13T10:04:55.740946700Z",
     "start_time": "2023-09-13T10:04:55.724979Z"
    }
   }
  },
  {
   "cell_type": "code",
   "execution_count": 30,
   "outputs": [
    {
     "data": {
      "text/plain": "(34, 300)"
     },
     "execution_count": 30,
     "metadata": {},
     "output_type": "execute_result"
    }
   ],
   "source": [
    "deepwalk_x.shape"
   ],
   "metadata": {
    "collapsed": false,
    "ExecuteTime": {
     "end_time": "2023-09-13T10:04:56.084699Z",
     "start_time": "2023-09-13T10:04:56.080079600Z"
    }
   }
  },
  {
   "cell_type": "code",
   "execution_count": 32,
   "outputs": [
    {
     "data": {
      "text/plain": "NodeDataView({0: {'class': 1}, 1: {'class': 1}, 2: {'class': 1}, 3: {'class': 1}, 4: {'class': 3}, 5: {'class': 3}, 6: {'class': 3}, 7: {'class': 1}, 8: {'class': 0}, 9: {'class': 1}, 10: {'class': 3}, 11: {'class': 1}, 12: {'class': 1}, 13: {'class': 1}, 14: {'class': 0}, 15: {'class': 0}, 16: {'class': 3}, 17: {'class': 1}, 18: {'class': 0}, 19: {'class': 1}, 20: {'class': 0}, 21: {'class': 1}, 22: {'class': 0}, 23: {'class': 0}, 24: {'class': 2}, 25: {'class': 2}, 26: {'class': 0}, 27: {'class': 0}, 28: {'class': 2}, 29: {'class': 0}, 30: {'class': 0}, 31: {'class': 2}, 32: {'class': 0}, 33: {'class': 0}})"
     },
     "execution_count": 32,
     "metadata": {},
     "output_type": "execute_result"
    }
   ],
   "source": [
    "karate_graph.nodes(data=True)"
   ],
   "metadata": {
    "collapsed": false,
    "ExecuteTime": {
     "end_time": "2023-09-13T10:05:20.544874300Z",
     "start_time": "2023-09-13T10:05:20.529315400Z"
    }
   }
  },
  {
   "cell_type": "code",
   "execution_count": 35,
   "outputs": [],
   "source": [
    "deepwalk_y = np.stack([node[1][\"class\"] for node in karate_graph.nodes(data=True)])"
   ],
   "metadata": {
    "collapsed": false,
    "ExecuteTime": {
     "end_time": "2023-09-13T10:07:42.046846200Z",
     "start_time": "2023-09-13T10:07:41.999355500Z"
    }
   }
  },
  {
   "cell_type": "code",
   "execution_count": 36,
   "outputs": [
    {
     "data": {
      "text/plain": "(34,)"
     },
     "execution_count": 36,
     "metadata": {},
     "output_type": "execute_result"
    }
   ],
   "source": [
    "deepwalk_y.shape"
   ],
   "metadata": {
    "collapsed": false,
    "ExecuteTime": {
     "end_time": "2023-09-13T10:07:49.592939Z",
     "start_time": "2023-09-13T10:07:49.577091500Z"
    }
   }
  },
  {
   "cell_type": "code",
   "execution_count": 43,
   "outputs": [
    {
     "name": "stdout",
     "output_type": "stream",
     "text": [
      "0 3\n"
     ]
    }
   ],
   "source": [
    "print(min(deepwalk_y), max(deepwalk_y))"
   ],
   "metadata": {
    "collapsed": false,
    "ExecuteTime": {
     "end_time": "2023-09-13T10:12:05.944547600Z",
     "start_time": "2023-09-13T10:12:05.920439300Z"
    }
   }
  },
  {
   "cell_type": "code",
   "execution_count": 40,
   "outputs": [],
   "source": [
    "tsne = TSNE()"
   ],
   "metadata": {
    "collapsed": false,
    "ExecuteTime": {
     "end_time": "2023-09-13T10:08:48.897960300Z",
     "start_time": "2023-09-13T10:08:48.895457800Z"
    }
   }
  },
  {
   "cell_type": "code",
   "execution_count": 41,
   "outputs": [],
   "source": [
    "tsne_deepwalk = tsne.fit_transform(deepwalk_x)"
   ],
   "metadata": {
    "collapsed": false,
    "ExecuteTime": {
     "end_time": "2023-09-13T10:09:07.572193900Z",
     "start_time": "2023-09-13T10:09:07.378724Z"
    }
   }
  },
  {
   "cell_type": "code",
   "execution_count": 42,
   "outputs": [
    {
     "data": {
      "text/plain": "array([[ 8.420857 , -3.6172032],\n       [ 8.028798 , -3.9975204],\n       [ 7.7753725, -3.6791427],\n       [ 8.159664 , -3.8952985],\n       [ 8.848712 , -3.3024588],\n       [ 8.894223 , -3.190333 ],\n       [ 8.886286 , -3.183135 ],\n       [ 8.202354 , -3.8525102],\n       [ 7.6293306, -3.4443498],\n       [ 7.4175644, -3.3752513],\n       [ 8.922315 , -3.2158687],\n       [ 8.460313 , -3.4709537],\n       [ 8.171653 , -3.6958601],\n       [ 7.931422 , -3.7024944],\n       [ 7.0929646, -2.988844 ],\n       [ 7.1260533, -2.9860635],\n       [ 8.87411  , -3.1760519],\n       [ 8.263848 , -3.8629847],\n       [ 7.267709 , -2.984574 ],\n       [ 7.876413 , -3.633105 ],\n       [ 7.2332563, -3.2396855],\n       [ 8.18403  , -3.795136 ],\n       [ 7.253307 , -3.2091367],\n       [ 7.381115 , -2.7446558],\n       [ 7.362409 , -2.824415 ],\n       [ 7.445399 , -2.7669787],\n       [ 7.5755873, -2.7798278],\n       [ 7.7088127, -3.1894262],\n       [ 7.6197667, -3.2503362],\n       [ 7.303176 , -2.6198792],\n       [ 7.4867153, -3.480516 ],\n       [ 7.6295705, -3.1528585],\n       [ 7.091438 , -3.0171618],\n       [ 7.2758474, -3.1459308]], dtype=float32)"
     },
     "execution_count": 42,
     "metadata": {},
     "output_type": "execute_result"
    }
   ],
   "source": [
    "tsne_deepwalk"
   ],
   "metadata": {
    "collapsed": false,
    "ExecuteTime": {
     "end_time": "2023-09-13T10:09:09.687853600Z",
     "start_time": "2023-09-13T10:09:09.656224200Z"
    }
   }
  },
  {
   "cell_type": "code",
   "execution_count": 44,
   "outputs": [
    {
     "data": {
      "text/plain": "<Figure size 640x480 with 1 Axes>",
      "image/png": "[encoded data removed]"
     },
     "metadata": {},
     "output_type": "display_data"
    }
   ],
   "source": [
    "colors = ['b', 'r', 'g', 'y']\n",
    "\n",
    "for label in range(4):\n",
    "    class_indices = deepwalk_y == label\n",
    "    \n",
    "    class_data = tsne_deepwalk[class_indices]\n",
    "    plt.scatter(class_data[:, 0], class_data[:, 1], c=colors[label], label=f\"Class {label}\")\n",
    "\n",
    "plt.legend()\n",
    "plt.show()"
   ],
   "metadata": {
    "collapsed": false,
    "ExecuteTime": {
     "end_time": "2023-09-13T10:15:08.906453400Z",
     "start_time": "2023-09-13T10:15:08.805246900Z"
    }
   }
  },
  {
   "cell_type": "code",
   "execution_count": null,
   "outputs": [],
   "source": [],
   "metadata": {
    "collapsed": false
   }
  }
 ]
}
