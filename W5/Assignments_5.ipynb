{
 "cells": [
  {
   "cell_type": "markdown",
   "id": "3701c6aa-c6b6-4d75-9f0a-ce387f327c07",
   "metadata": {},
   "source": [
    "### Assignment 1. Given a graph with six nodes and an edge list:  [(1, 2),(1, 4), (2, 3),(3, 4),(4, 5),(4, 6)].\n",
    "The node attributes are as follows:\n",
    "  Node 1: {\"label\": 0},\n",
    "  Node   2: {\"label\": 0},\n",
    "  Node   3: {\"label\": None},\n",
    "  Node   4: {\"label\": None},\n",
    "  Node  5: {\"label\": None},\n",
    "  Node  6: {\"label\": 1}\n",
    "\n",
    "Question:\n",
    "\n",
    "Predict the label of all nodes in the graph by using a Probabilistic Relational Classifier."
   ]
  },
  {
   "cell_type": "markdown",
   "id": "8eb3bddb-c71c-44f5-a1f0-40671ea155ed",
   "metadata": {},
   "source": [
    "### Assignment 2. Load the Cora dataset from Torch Geometric and then do the node classification task by using the GCN Model"
   ]
  }
 ],
 "metadata": {
  "kernelspec": {
   "display_name": "Python 3 (ipykernel)",
   "language": "python",
   "name": "python3"
  },
  "language_info": {
   "codemirror_mode": {
    "name": "ipython",
    "version": 3
   },
   "file_extension": ".py",
   "mimetype": "text/x-python",
   "name": "python",
   "nbconvert_exporter": "python",
   "pygments_lexer": "ipython3",
   "version": "3.8.8"
  }
 },
 "nbformat": 4,
 "nbformat_minor": 5
}
