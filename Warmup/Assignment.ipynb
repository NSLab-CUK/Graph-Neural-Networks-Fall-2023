{
 "cells": [
  {
   "cell_type": "markdown",
   "id": "c6195982",
   "metadata": {},
   "source": [
    "### Exercise 1. \n",
    "\n",
    "Given an undirected graph has 8 nodes: 0,1,2,3,4,5,6,7\n",
    "\n",
    "and the edge list: (0, 1), (0, 2), (0, 3), (0, 5), (1, 3), (1, 6), (3, 4), (4, 5), (4, 7)\n",
    "\n",
    "Question:\n",
    "- Draw the graph.\n",
    "- Count number of nodes and edges in the graph.\n",
    "- List all of nodes, edges in the graph."
   ]
  },
  {
   "cell_type": "markdown",
   "id": "2c666f50",
   "metadata": {},
   "source": [
    "### Exercise 2.\n",
    "\n",
    "Given a graph with edge set (1, 2), (1, 3), (2, 3), (2, 4), (4, 7), (5, 6), (5, 7), (6, 7)\n",
    "\n",
    "Question:\n",
    "\n",
    "- Draw the graph\n",
    "- Count and list the number of nodes and edges\n",
    "- Representing Graphs through Adjancency Matrix and Edge List\n",
    "- Print all the degree of nodes"
   ]
  }
 ],
 "metadata": {
  "kernelspec": {
   "display_name": "Python 3 (ipykernel)",
   "language": "python",
   "name": "python3"
  },
  "language_info": {
   "codemirror_mode": {
    "name": "ipython",
    "version": 3
   },
   "file_extension": ".py",
   "mimetype": "text/x-python",
   "name": "python",
   "nbconvert_exporter": "python",
   "pygments_lexer": "ipython3",
   "version": "3.8.16"
  }
 },
 "nbformat": 4,
 "nbformat_minor": 5
}
