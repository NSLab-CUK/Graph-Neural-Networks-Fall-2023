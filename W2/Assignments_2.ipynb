{
 "cells": [
  {
   "cell_type": "markdown",
   "metadata": {},
   "source": [
    "### Assignment 1. Given a graph with a edge list: (0, 1), (1, 2), (1, 3), (2, 3), (3, 4), (3, 5), (5, 6), (5, 7)\n",
    "    \n",
    "Questions:\n",
    "\n",
    "- Caculate the Node Features based on: Node Degree,Eigenvector centrality, Betweenness centrality, and Closeness centrality"
   ]
  },
  {
   "cell_type": "markdown",
   "metadata": {},
   "source": [
    "### Assignment 2. Given a graph with a edge list: (1, 2), (1, 5), (2, 3), (4, 3), (4,5), (2,4)\n",
    "    \n",
    "Questions: Caclulate all the features for edges based on:\n",
    "    \n",
    "- Shortest-path distance between two nodes\n",
    "    \n",
    "- Common neighbors\n",
    "  "
   ]
  }
 ],
 "metadata": {
  "colab": {
   "authorship_tag": "ABX9TyOAI7ipwC1rsTx8UBDpsYLH",
   "collapsed_sections": [],
   "include_colab_link": true,
   "name": "02-traditional-methods-for-ml-on-graphs.ipynb",
   "provenance": []
  },
  "kernelspec": {
   "display_name": "Python 3 (ipykernel)",
   "language": "python",
   "name": "python3"
  },
  "language_info": {
   "codemirror_mode": {
    "name": "ipython",
    "version": 3
   },
   "file_extension": ".py",
   "mimetype": "text/x-python",
   "name": "python",
   "nbconvert_exporter": "python",
   "pygments_lexer": "ipython3",
   "version": "3.8.16"
  }
 },
 "nbformat": 4,
 "nbformat_minor": 1
}
