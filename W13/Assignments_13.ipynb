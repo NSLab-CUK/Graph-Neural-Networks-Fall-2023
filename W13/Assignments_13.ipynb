{
 "cells": [
  {
   "cell_type": "markdown",
   "id": "ca3dcbfb-8bae-48de-94b2-288f1c0b132d",
   "metadata": {},
   "source": [
    "### Assignment 1. Let's program the GT (Graph Transformer) model on Graph-level classification on ogbg-molhiv dataset (https://ogb.stanford.edu/docs/graphprop/#ogbg-mol) with the Readout function: Max pooling."
   ]
  },
  {
   "cell_type": "markdown",
   "id": "bd65cba6-fcad-41a1-a6ef-cc209e6f77c9",
   "metadata": {},
   "source": [
    "### Assignment 2. Let's program the GT (Graph Transformer) model on Graph-level classification on ogbg-molhiv dataset (https://ogb.stanford.edu/docs/graphprop/#ogbg-mol) with the Readout function: average pooling."
   ]
  }
 ],
 "metadata": {
  "kernelspec": {
   "display_name": "Python 3 (ipykernel)",
   "language": "python",
   "name": "python3"
  },
  "language_info": {
   "codemirror_mode": {
    "name": "ipython",
    "version": 3
   },
   "file_extension": ".py",
   "mimetype": "text/x-python",
   "name": "python",
   "nbconvert_exporter": "python",
   "pygments_lexer": "ipython3",
   "version": "3.8.8"
  }
 },
 "nbformat": 4,
 "nbformat_minor": 5
}
