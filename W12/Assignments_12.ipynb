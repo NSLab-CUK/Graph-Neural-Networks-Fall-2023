{
 "cells": [
  {
   "cell_type": "markdown",
   "id": "ca3dcbfb-8bae-48de-94b2-288f1c0b132d",
   "metadata": {},
   "source": [
    "### Assignment 1. Download \"Citeseer\" graph.\n",
    "Questions: Construct GCN model by using dropping_path technique for node classification task"
   ]
  },
  {
   "cell_type": "markdown",
   "id": "bd65cba6-fcad-41a1-a6ef-cc209e6f77c9",
   "metadata": {},
   "source": [
    "### Assignment 2. Load the Cora dataset from Torch Geometric.\n",
    "\n",
    "Questions: Train the Mixhop model on node classification task with 2-step transition and 3-step transition steps\n"
   ]
  }
 ],
 "metadata": {
  "kernelspec": {
   "display_name": "Python 3 (ipykernel)",
   "language": "python",
   "name": "python3"
  },
  "language_info": {
   "codemirror_mode": {
    "name": "ipython",
    "version": 3
   },
   "file_extension": ".py",
   "mimetype": "text/x-python",
   "name": "python",
   "nbconvert_exporter": "python",
   "pygments_lexer": "ipython3",
   "version": "3.8.8"
  }
 },
 "nbformat": 4,
 "nbformat_minor": 5
}
