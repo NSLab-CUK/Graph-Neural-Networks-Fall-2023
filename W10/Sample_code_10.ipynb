{
 "cells": [
  {
   "cell_type": "markdown",
   "id": "4019db76-2e38-413a-809d-05eae972814d",
   "metadata": {},
   "source": [
    "## 1. Graph Attention Networks"
   ]
  },
  {
   "cell_type": "code",
   "execution_count": 3,
   "id": "d50b3790",
   "metadata": {},
   "outputs": [
    {
     "name": "stdout",
     "output_type": "stream",
     "text": [
      "Requirement already satisfied: torch_geometric in c:\\users\\user\\anaconda3\\envs\\test\\lib\\site-packages (2.4.0)\n",
      "Requirement already satisfied: jinja2 in c:\\users\\user\\anaconda3\\envs\\test\\lib\\site-packages (from torch_geometric) (3.1.2)\n",
      "Requirement already satisfied: requests in c:\\users\\user\\anaconda3\\envs\\test\\lib\\site-packages (from torch_geometric) (2.29.0)\n",
      "Requirement already satisfied: pyparsing in c:\\users\\user\\anaconda3\\envs\\test\\lib\\site-packages (from torch_geometric) (3.0.9)\n",
      "Requirement already satisfied: numpy in c:\\users\\user\\anaconda3\\envs\\test\\lib\\site-packages (from torch_geometric) (1.24.2)\n",
      "Requirement already satisfied: scikit-learn in c:\\users\\user\\anaconda3\\envs\\test\\lib\\site-packages (from torch_geometric) (1.3.0)\n",
      "Requirement already satisfied: tqdm in c:\\users\\user\\anaconda3\\envs\\test\\lib\\site-packages (from torch_geometric) (4.65.0)\n",
      "Requirement already satisfied: psutil>=5.8.0 in c:\\users\\user\\anaconda3\\envs\\test\\lib\\site-packages (from torch_geometric) (5.9.4)\n",
      "Requirement already satisfied: scipy in c:\\users\\user\\anaconda3\\envs\\test\\lib\\site-packages (from torch_geometric) (1.10.1)\n",
      "Requirement already satisfied: MarkupSafe>=2.0 in c:\\users\\user\\anaconda3\\envs\\test\\lib\\site-packages (from jinja2->torch_geometric) (2.1.2)\n",
      "Requirement already satisfied: certifi>=2017.4.17 in c:\\users\\user\\anaconda3\\envs\\test\\lib\\site-packages (from requests->torch_geometric) (2023.7.22)\n",
      "Requirement already satisfied: urllib3<1.27,>=1.21.1 in c:\\users\\user\\anaconda3\\envs\\test\\lib\\site-packages (from requests->torch_geometric) (1.26.15)\n",
      "Requirement already satisfied: charset-normalizer<4,>=2 in c:\\users\\user\\anaconda3\\envs\\test\\lib\\site-packages (from requests->torch_geometric) (3.1.0)\n",
      "Requirement already satisfied: idna<4,>=2.5 in c:\\users\\user\\anaconda3\\envs\\test\\lib\\site-packages (from requests->torch_geometric) (3.4)\n",
      "Requirement already satisfied: threadpoolctl>=2.0.0 in c:\\users\\user\\anaconda3\\envs\\test\\lib\\site-packages (from scikit-learn->torch_geometric) (3.1.0)\n",
      "Requirement already satisfied: joblib>=1.1.1 in c:\\users\\user\\anaconda3\\envs\\test\\lib\\site-packages (from scikit-learn->torch_geometric) (1.2.0)\n",
      "Requirement already satisfied: colorama in c:\\users\\user\\anaconda3\\envs\\test\\lib\\site-packages (from tqdm->torch_geometric) (0.4.6)\n"
     ]
    },
    {
     "name": "stderr",
     "output_type": "stream",
     "text": [
      "WARNING: Ignoring invalid distribution -illow (c:\\users\\user\\anaconda3\\envs\\test\\lib\\site-packages)\n",
      "WARNING: Ignoring invalid distribution -illow (c:\\users\\user\\anaconda3\\envs\\test\\lib\\site-packages)\n",
      "WARNING: Ignoring invalid distribution -illow (c:\\users\\user\\anaconda3\\envs\\test\\lib\\site-packages)\n",
      "WARNING: Ignoring invalid distribution -illow (c:\\users\\user\\anaconda3\\envs\\test\\lib\\site-packages)\n",
      "WARNING: Ignoring invalid distribution -illow (c:\\users\\user\\anaconda3\\envs\\test\\lib\\site-packages)\n",
      "WARNING: Ignoring invalid distribution -illow (c:\\users\\user\\anaconda3\\envs\\test\\lib\\site-packages)\n",
      "WARNING: Ignoring invalid distribution -illow (c:\\users\\user\\anaconda3\\envs\\test\\lib\\site-packages)\n",
      "WARNING: Ignoring invalid distribution -illow (c:\\users\\user\\anaconda3\\envs\\test\\lib\\site-packages)\n",
      "WARNING: Ignoring invalid distribution -illow (c:\\users\\user\\anaconda3\\envs\\test\\lib\\site-packages)\n",
      "WARNING: Ignoring invalid distribution -illow (c:\\users\\user\\anaconda3\\envs\\test\\lib\\site-packages)\n",
      "WARNING: Ignoring invalid distribution -illow (c:\\users\\user\\anaconda3\\envs\\test\\lib\\site-packages)\n",
      "WARNING: Ignoring invalid distribution -illow (c:\\users\\user\\anaconda3\\envs\\test\\lib\\site-packages)\n",
      "WARNING: Ignoring invalid distribution -illow (c:\\users\\user\\anaconda3\\envs\\test\\lib\\site-packages)\n",
      "WARNING: Ignoring invalid distribution -illow (c:\\users\\user\\anaconda3\\envs\\test\\lib\\site-packages)\n",
      "WARNING: Ignoring invalid distribution -illow (c:\\users\\user\\anaconda3\\envs\\test\\lib\\site-packages)\n",
      "WARNING: Ignoring invalid distribution -illow (c:\\users\\user\\anaconda3\\envs\\test\\lib\\site-packages)\n",
      "WARNING: Ignoring invalid distribution -illow (c:\\users\\user\\anaconda3\\envs\\test\\lib\\site-packages)\n",
      "WARNING: Ignoring invalid distribution -illow (c:\\users\\user\\anaconda3\\envs\\test\\lib\\site-packages)\n",
      "WARNING: Ignoring invalid distribution -illow (c:\\users\\user\\anaconda3\\envs\\test\\lib\\site-packages)\n",
      "WARNING: Ignoring invalid distribution -illow (c:\\users\\user\\anaconda3\\envs\\test\\lib\\site-packages)\n",
      "WARNING: Ignoring invalid distribution -illow (c:\\users\\user\\anaconda3\\envs\\test\\lib\\site-packages)\n",
      "WARNING: Ignoring invalid distribution -illow (c:\\users\\user\\anaconda3\\envs\\test\\lib\\site-packages)\n",
      "WARNING: Ignoring invalid distribution -illow (c:\\users\\user\\anaconda3\\envs\\test\\lib\\site-packages)\n",
      "WARNING: Ignoring invalid distribution -illow (c:\\users\\user\\anaconda3\\envs\\test\\lib\\site-packages)\n"
     ]
    }
   ],
   "source": [
    "import torch\n",
    "torchversion = torch.__version__\n",
    "\n",
    "# Install PyTorch Scatter, PyTorch Sparse, and PyTorch Geometric\n",
    "!pip install torch_geometric\n",
    "!pip install -q torch-scatter -f https://data.pyg.org/whl/torch-{torchversion}.html\n",
    "!pip install -q torch-sparse -f https://data.pyg.org/whl/torch-{torchversion}.html\n",
    "!pip install -q git+https://github.com/pyg-team/pytorch_geometric.git\n",
    "\n",
    "# Numpy for matrices\n",
    "import numpy as np\n",
    "np.random.seed(0)\n",
    "\n",
    "# Visualization\n",
    "import networkx as nx\n",
    "from sklearn.manifold import TSNE\n",
    "import matplotlib.pyplot as plt"
   ]
  },
  {
   "cell_type": "markdown",
   "id": "d1501b05",
   "metadata": {},
   "source": [
    "### Dataset"
   ]
  },
  {
   "cell_type": "code",
   "execution_count": 4,
   "id": "8bf8636a",
   "metadata": {},
   "outputs": [
    {
     "name": "stderr",
     "output_type": "stream",
     "text": [
      "C:\\Users\\user\\anaconda3\\envs\\test\\lib\\site-packages\\torch_geometric\\typing.py:60: UserWarning: An issue occurred while importing 'torch-scatter'. Disabling its usage. Stacktrace: Could not find module 'C:\\Users\\user\\anaconda3\\envs\\test\\Lib\\site-packages\\torch_scatter\\_scatter_cuda.pyd' (or one of its dependencies). Try using the full path with constructor syntax.\n",
      "  warnings.warn(f\"An issue occurred while importing 'torch-scatter'. \"\n",
      "C:\\Users\\user\\anaconda3\\envs\\test\\lib\\site-packages\\torch_geometric\\typing.py:98: UserWarning: An issue occurred while importing 'torch-sparse'. Disabling its usage. Stacktrace: Could not find module 'C:\\Users\\user\\anaconda3\\envs\\test\\Lib\\site-packages\\torch_sparse\\_convert_cuda.pyd' (or one of its dependencies). Try using the full path with constructor syntax.\n",
      "  warnings.warn(f\"An issue occurred while importing 'torch-sparse'. \"\n"
     ]
    }
   ],
   "source": [
    "from torch_geometric.datasets import Planetoid,KarateClub\n",
    "\n",
    "# Import dataset from PyTorch Geometric\n",
    "dataset = Planetoid(root=\".\", name=\"cora\")\n",
    "\n",
    "data = dataset[0]\n"
   ]
  },
  {
   "cell_type": "markdown",
   "id": "4c3a75e0",
   "metadata": {},
   "source": [
    "### Print information about the dataset"
   ]
  },
  {
   "cell_type": "code",
   "execution_count": 12,
   "id": "5c866942",
   "metadata": {},
   "outputs": [
    {
     "name": "stdout",
     "output_type": "stream",
     "text": [
      "Dataset: cora()\n",
      "-------------------\n",
      "Number of graphs: 1\n",
      "Number of nodes: 2708\n",
      "Number of features: 1433\n",
      "Number of classes: 7\n",
      "\n",
      "Graph:\n",
      "------\n",
      "Edges are directed: False\n",
      "Graph has isolated nodes: False\n",
      "Graph has loops: False\n"
     ]
    }
   ],
   "source": [
    "# Print information about the dataset\n",
    "print(f'Dataset: {dataset}')\n",
    "print('-------------------')\n",
    "print(f'Number of graphs: {len(dataset)}')\n",
    "print(f'Number of nodes: {data.x.shape[0]}')\n",
    "print(f'Number of features: {dataset.num_features}')\n",
    "print(f'Number of classes: {dataset.num_classes}')\n",
    "\n",
    "# Print information about the graph\n",
    "print(f'\\nGraph:')\n",
    "print('------')\n",
    "print(f'Edges are directed: {data.is_directed()}')\n",
    "print(f'Graph has isolated nodes: {data.has_isolated_nodes()}')\n",
    "print(f'Graph has loops: {data.has_self_loops()}')"
   ]
  },
  {
   "cell_type": "code",
   "execution_count": 13,
   "id": "45246e69",
   "metadata": {},
   "outputs": [
    {
     "name": "stdout",
     "output_type": "stream",
     "text": [
      "Number of isolated nodes = 0\n"
     ]
    }
   ],
   "source": [
    "from torch_geometric.utils import remove_isolated_nodes\n",
    "\n",
    "isolated = (remove_isolated_nodes(data['edge_index'])[2] == False).sum(dim=0).item()\n",
    "print(f'Number of isolated nodes = {isolated}')"
   ]
  },
  {
   "cell_type": "markdown",
   "id": "54fcdd5f",
   "metadata": {},
   "source": [
    "### Implement GAT"
   ]
  },
  {
   "cell_type": "markdown",
   "id": "74ec3add",
   "metadata": {},
   "source": [
    "#### GAT model"
   ]
  },
  {
   "cell_type": "code",
   "execution_count": 18,
   "id": "94b81528",
   "metadata": {},
   "outputs": [],
   "source": [
    "import torch.nn.functional as F\n",
    "import torch\n",
    "from torch.nn import Linear, Dropout\n",
    "from torch_geometric.nn import GCNConv, GATv2Conv\n",
    "class GAT(torch.nn.Module):\n",
    "  \"\"\"Graph Attention Network\"\"\"\n",
    "  def __init__(self, dim_in, dim_h, dim_out, heads=8):\n",
    "    super().__init__()\n",
    "    self.gat1 = GATv2Conv(dim_in, dim_h, heads=heads)\n",
    "    self.gat2 = GATv2Conv(dim_h*heads, dim_out, heads=1)\n",
    "    self.optimizer = torch.optim.Adam(self.parameters(),\n",
    "                                      lr=0.005,\n",
    "                                      weight_decay=5e-4)\n",
    "\n",
    "  def forward(self, x, edge_index):\n",
    "    h = F.dropout(x, p=0.6, training=self.training)\n",
    "    h = self.gat1(x, edge_index)\n",
    "    h = F.elu(h)\n",
    "    h = F.dropout(h, p=0.6, training=self.training)\n",
    "    h = self.gat2(h, edge_index)\n",
    "    return h, F.log_softmax(h, dim=1)"
   ]
  },
  {
   "cell_type": "markdown",
   "id": "17a3992f",
   "metadata": {},
   "source": [
    "### Train function"
   ]
  },
  {
   "cell_type": "code",
   "execution_count": 19,
   "id": "e68564d8",
   "metadata": {},
   "outputs": [],
   "source": [
    "def accuracy(pred_y, y):\n",
    "    \"\"\"Calculate accuracy.\"\"\"\n",
    "    return ((pred_y == y).sum() / len(y)).item()\n",
    "\n",
    "def train(model, data):\n",
    "    \"\"\"Train a GNN model and return the trained model.\"\"\"\n",
    "    criterion = torch.nn.CrossEntropyLoss()\n",
    "    optimizer = model.optimizer\n",
    "    epochs = 5\n",
    "\n",
    "    model.train()\n",
    "    for epoch in range(epochs+1):\n",
    "        # Training\n",
    "        optimizer.zero_grad()\n",
    "        _, out = model(data.x, data.edge_index)\n",
    "        loss = criterion(out[data.train_mask], data.y[data.train_mask])\n",
    "        acc = accuracy(out[data.train_mask].argmax(dim=1), data.y[data.train_mask])\n",
    "        loss.backward()\n",
    "        optimizer.step()\n",
    "\n",
    "        # Validation\n",
    "        val_loss = criterion(out[data.val_mask], data.y[data.val_mask])\n",
    "        val_acc = accuracy(out[data.val_mask].argmax(dim=1), data.y[data.val_mask])\n",
    "\n",
    "        # Print metrics every 10 epochs\n",
    "        if(epoch % 1 == 0):\n",
    "            print(f'Epoch {epoch:>3} | Train Loss: {loss:.3f} | Train Acc: '\n",
    "                  f'{acc*100:>6.2f}% | Val Loss: {val_loss:.2f} | '\n",
    "                  f'Val Acc: {val_acc*100:.2f}%')\n",
    "\n",
    "    return model"
   ]
  },
  {
   "cell_type": "code",
   "execution_count": 20,
   "id": "84cfec38",
   "metadata": {},
   "outputs": [],
   "source": [
    "def test(model, data):\n",
    "    \"\"\"Evaluate the model on test set and print the accuracy score.\"\"\"\n",
    "    model.eval()\n",
    "    _, out = model(data.x, data.edge_index)\n",
    "    acc = accuracy(out.argmax(dim=1)[data.test_mask], data.y[data.test_mask])\n",
    "    return acc"
   ]
  },
  {
   "cell_type": "markdown",
   "id": "789a2376",
   "metadata": {},
   "source": [
    "### Train GAT"
   ]
  },
  {
   "cell_type": "code",
   "execution_count": 21,
   "id": "19ee7c47",
   "metadata": {},
   "outputs": [
    {
     "name": "stdout",
     "output_type": "stream",
     "text": [
      "GAT(\n",
      "  (gat1): GATv2Conv(1433, 8, heads=8)\n",
      "  (gat2): GATv2Conv(64, 7, heads=1)\n",
      ")\n",
      "CPU times: total: 0 ns\n",
      "Wall time: 15.4 ms\n"
     ]
    }
   ],
   "source": [
    "%%time\n",
    "\n",
    "# Create GAT model\n",
    "gat = GAT(dataset.num_features, 8, dataset.num_classes)\n",
    "print(gat)"
   ]
  },
  {
   "cell_type": "code",
   "execution_count": 22,
   "id": "3eda8f30",
   "metadata": {
    "scrolled": true
   },
   "outputs": [
    {
     "name": "stdout",
     "output_type": "stream",
     "text": [
      "Epoch   0 | Train Loss: 1.934 | Train Acc:  19.29% | Val Loss: 1.94 | Val Acc: 17.40%\n",
      "Epoch   1 | Train Loss: 1.702 | Train Acc:  80.71% | Val Loss: 1.83 | Val Acc: 53.40%\n",
      "Epoch   2 | Train Loss: 1.486 | Train Acc:  91.43% | Val Loss: 1.69 | Val Acc: 66.00%\n",
      "Epoch   3 | Train Loss: 1.283 | Train Acc:  96.43% | Val Loss: 1.59 | Val Acc: 69.60%\n",
      "Epoch   4 | Train Loss: 1.078 | Train Acc:  97.14% | Val Loss: 1.47 | Val Acc: 72.40%\n",
      "Epoch   5 | Train Loss: 0.924 | Train Acc:  95.71% | Val Loss: 1.36 | Val Acc: 72.80%\n",
      "\n",
      "GAT test accuracy: 76.10%\n",
      "\n"
     ]
    }
   ],
   "source": [
    "\n",
    "\n",
    "# Train\n",
    "train(gat, data)\n",
    "\n",
    "# Test\n",
    "acc = test(gat, data)\n",
    "print(f'\\nGAT test accuracy: {acc*100:.2f}%\\n')"
   ]
  },
  {
   "cell_type": "markdown",
   "id": "1e99566d",
   "metadata": {},
   "source": [
    "### GATv2"
   ]
  },
  {
   "cell_type": "code",
   "execution_count": 23,
   "id": "82ad50eb",
   "metadata": {},
   "outputs": [],
   "source": [
    "class GATv2(torch.nn.Module):\n",
    "    def __init__(self,num_features,dims, num_classes,  drop=0.0):\n",
    "        super(GATv2, self).__init__()\n",
    "        heads = 8\n",
    "        self.h = None\n",
    "        self.conv1 = GATv2Conv(num_features,dims, heads=heads, dropout = 0.3, concat=False)\n",
    "        self.conv2 = GATv2Conv(dims, num_classes, heads=heads, concat=False, dropout=0.3)\n",
    "        self.drop = torch.nn.Dropout(p=drop)\n",
    "        self.optimizer = torch.optim.Adam(self.parameters(),lr=0.005,weight_decay=5e-4)\n",
    "    def forward(self, x, edge_index,):\n",
    "        x = F.elu(self.conv1(x, edge_index))\n",
    "        x = self.drop(x)\n",
    "        x = self.conv2(x, edge_index)\n",
    "        return x, F.log_softmax(x, dim=1)"
   ]
  },
  {
   "cell_type": "code",
   "execution_count": 24,
   "id": "a46f8a11",
   "metadata": {},
   "outputs": [
    {
     "name": "stdout",
     "output_type": "stream",
     "text": [
      "GATv2(\n",
      "  (conv1): GATv2Conv(1433, 8, heads=8)\n",
      "  (conv2): GATv2Conv(8, 7, heads=8)\n",
      "  (drop): Dropout(p=0.0, inplace=False)\n",
      ")\n",
      "CPU times: total: 125 ms\n",
      "Wall time: 2 ms\n"
     ]
    }
   ],
   "source": [
    "%%time\n",
    "\n",
    "# Create GAT model\n",
    "gat2 = GATv2(dataset.num_features, 8, dataset.num_classes)\n",
    "print(gat2)"
   ]
  },
  {
   "cell_type": "code",
   "execution_count": 25,
   "id": "1fcc8d72",
   "metadata": {},
   "outputs": [
    {
     "name": "stdout",
     "output_type": "stream",
     "text": [
      "Epoch   0 | Train Loss: 1.948 | Train Acc:  12.86% | Val Loss: 1.97 | Val Acc: 7.20%\n",
      "Epoch   1 | Train Loss: 1.934 | Train Acc:  22.86% | Val Loss: 1.97 | Val Acc: 10.20%\n",
      "Epoch   2 | Train Loss: 1.921 | Train Acc:  27.86% | Val Loss: 1.96 | Val Acc: 11.60%\n",
      "Epoch   3 | Train Loss: 1.910 | Train Acc:  34.29% | Val Loss: 1.95 | Val Acc: 17.00%\n",
      "Epoch   4 | Train Loss: 1.896 | Train Acc:  42.86% | Val Loss: 1.93 | Val Acc: 23.80%\n",
      "Epoch   5 | Train Loss: 1.882 | Train Acc:  56.43% | Val Loss: 1.93 | Val Acc: 30.00%\n",
      "\n",
      "GAT test accuracy: 55.80%\n",
      "\n"
     ]
    }
   ],
   "source": [
    "# Train\n",
    "train(gat2, data)\n",
    "\n",
    "# Test\n",
    "acc = test(gat2, data)\n",
    "print(f'\\nGAT test accuracy: {acc*100:.2f}%\\n')"
   ]
  },
  {
   "cell_type": "markdown",
   "id": "b4fdc7d2",
   "metadata": {},
   "source": [
    "### RGAT (Relational GAT on AIFB graph)"
   ]
  },
  {
   "cell_type": "code",
   "execution_count": 27,
   "id": "e11ad8d0",
   "metadata": {},
   "outputs": [
    {
     "name": "stdout",
     "output_type": "stream",
     "text": [
      "Requirement already satisfied: rdflib in c:\\users\\user\\anaconda3\\envs\\test\\lib\\site-packages (7.0.0)\n",
      "Requirement already satisfied: pyparsing<4,>=2.1.0 in c:\\users\\user\\anaconda3\\envs\\test\\lib\\site-packages (from rdflib) (3.0.9)\n",
      "Requirement already satisfied: isodate<0.7.0,>=0.6.0 in c:\\users\\user\\anaconda3\\envs\\test\\lib\\site-packages (from rdflib) (0.6.1)\n",
      "Requirement already satisfied: six in c:\\users\\user\\anaconda3\\envs\\test\\lib\\site-packages (from isodate<0.7.0,>=0.6.0->rdflib) (1.16.0)\n"
     ]
    },
    {
     "name": "stderr",
     "output_type": "stream",
     "text": [
      "WARNING: Ignoring invalid distribution -illow (c:\\users\\user\\anaconda3\\envs\\test\\lib\\site-packages)\n",
      "WARNING: Ignoring invalid distribution -illow (c:\\users\\user\\anaconda3\\envs\\test\\lib\\site-packages)\n",
      "WARNING: Ignoring invalid distribution -illow (c:\\users\\user\\anaconda3\\envs\\test\\lib\\site-packages)\n",
      "WARNING: Ignoring invalid distribution -illow (c:\\users\\user\\anaconda3\\envs\\test\\lib\\site-packages)\n",
      "WARNING: Ignoring invalid distribution -illow (c:\\users\\user\\anaconda3\\envs\\test\\lib\\site-packages)\n",
      "WARNING: Ignoring invalid distribution -illow (c:\\users\\user\\anaconda3\\envs\\test\\lib\\site-packages)\n"
     ]
    }
   ],
   "source": [
    "!pip install rdflib\n",
    "import os.path as osp\n",
    "import time\n",
    "\n",
    "import torch\n",
    "import torch.nn.functional as F\n",
    "\n",
    "from torch_geometric.datasets import Entities\n",
    "from torch_geometric.nn import RGATConv\n",
    "\n",
    "#path = osp.join(\".\", '..', 'data', 'Entities')'AIFB'\n",
    "dataset = Entities(\".\", 'AIFB')\n",
    "data = dataset[0]\n",
    "data.x = torch.randn(data.num_nodes, 16)\n"
   ]
  },
  {
   "cell_type": "code",
   "execution_count": 30,
   "id": "e34136f5",
   "metadata": {},
   "outputs": [],
   "source": [
    "\n",
    "class RGAT(torch.nn.Module):\n",
    "    def __init__(self, in_channels, hidden_channels, out_channels,\n",
    "                 num_relations):\n",
    "        super().__init__()\n",
    "        self.conv1 = RGATConv(in_channels, hidden_channels, num_relations)\n",
    "        self.conv2 = RGATConv(hidden_channels, hidden_channels, num_relations)\n",
    "        self.lin = torch.nn.Linear(hidden_channels, out_channels)\n",
    "\n",
    "    def forward(self, x, edge_index, edge_type):\n",
    "        x = self.conv1(x, edge_index, edge_type).relu()\n",
    "        x = self.conv2(x, edge_index, edge_type).relu()\n",
    "        x = self.lin(x)\n",
    "        return F.log_softmax(x, dim=-1)"
   ]
  },
  {
   "cell_type": "code",
   "execution_count": 31,
   "id": "95c05cb6",
   "metadata": {},
   "outputs": [],
   "source": [
    "\n",
    "device = torch.device('cuda' if torch.cuda.is_available() else 'cpu')\n",
    "data = data.to(device)\n",
    "model = RGAT(16, 16, dataset.num_classes, dataset.num_relations).to(device)\n",
    "optimizer = torch.optim.Adam(model.parameters(), lr=0.01, weight_decay=0.0005)\n",
    "\n"
   ]
  },
  {
   "cell_type": "code",
   "execution_count": 32,
   "id": "e5991339",
   "metadata": {},
   "outputs": [],
   "source": [
    "\n",
    "def train():\n",
    "    model.train()\n",
    "    optimizer.zero_grad()\n",
    "    out = model(data.x, data.edge_index, data.edge_type)\n",
    "    loss = F.nll_loss(out[data.train_idx], data.train_y)\n",
    "    loss.backward()\n",
    "    optimizer.step()\n",
    "    return float(loss)\n",
    "\n",
    "\n",
    "@torch.no_grad()\n",
    "def test():\n",
    "    model.eval()\n",
    "    pred = model(data.x, data.edge_index, data.edge_type).argmax(dim=-1)\n",
    "    train_acc = float((pred[data.train_idx] == data.train_y).float().mean())\n",
    "    test_acc = float((pred[data.test_idx] == data.test_y).float().mean())\n",
    "    return train_acc, test_acc\n",
    "\n"
   ]
  },
  {
   "cell_type": "code",
   "execution_count": 33,
   "id": "c71fc34c",
   "metadata": {},
   "outputs": [
    {
     "name": "stdout",
     "output_type": "stream",
     "text": [
      "Epoch: 01, Loss: 1.4056, Train: 0.4071 Test: 0.3611\n",
      "Epoch: 02, Loss: 1.3517, Train: 0.6571 Test: 0.6389\n",
      "Epoch: 03, Loss: 1.2835, Train: 0.6357 Test: 0.6389\n",
      "Epoch: 04, Loss: 1.1938, Train: 0.6143 Test: 0.6389\n",
      "Median time per epoch: 0.2080s\n"
     ]
    }
   ],
   "source": [
    "\n",
    "times = []\n",
    "for epoch in range(1, 5):\n",
    "    start = time.time()\n",
    "    loss = train()\n",
    "    train_acc, test_acc = test()\n",
    "    print(f'Epoch: {epoch:02d}, Loss: {loss:.4f}, Train: {train_acc:.4f} '\n",
    "          f'Test: {test_acc:.4f}')\n",
    "    times.append(time.time() - start)\n",
    "print(f\"Median time per epoch: {torch.tensor(times).median():.4f}s\")"
   ]
  }
 ],
 "metadata": {
  "kernelspec": {
   "display_name": "Python 3 (ipykernel)",
   "language": "python",
   "name": "python3"
  },
  "language_info": {
   "codemirror_mode": {
    "name": "ipython",
    "version": 3
   },
   "file_extension": ".py",
   "mimetype": "text/x-python",
   "name": "python",
   "nbconvert_exporter": "python",
   "pygments_lexer": "ipython3",
   "version": "3.8.16"
  }
 },
 "nbformat": 4,
 "nbformat_minor": 5
}
