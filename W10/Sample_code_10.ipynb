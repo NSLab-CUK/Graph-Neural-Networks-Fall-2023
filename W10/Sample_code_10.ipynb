{
 "cells": [
  {
   "cell_type": "markdown",
   "id": "4019db76-2e38-413a-809d-05eae972814d",
   "metadata": {},
   "source": [
    "## 1. Graph Attention Networks"
   ]
  },
  {
   "cell_type": "code",
   "execution_count": 1,
   "id": "d50b3790",
   "metadata": {},
   "outputs": [
    {
     "name": "stdout",
     "output_type": "stream",
     "text": [
      "Requirement already satisfied: torch_geometric in c:\\users\\user\\anaconda3\\envs\\test\\lib\\site-packages (2.4.0)\n",
      "Requirement already satisfied: scikit-learn in c:\\users\\user\\anaconda3\\envs\\test\\lib\\site-packages (from torch_geometric) (1.3.0)\n",
      "Requirement already satisfied: jinja2 in c:\\users\\user\\anaconda3\\envs\\test\\lib\\site-packages (from torch_geometric) (3.1.2)\n",
      "Requirement already satisfied: requests in c:\\users\\user\\anaconda3\\envs\\test\\lib\\site-packages (from torch_geometric) (2.29.0)\n",
      "Requirement already satisfied: psutil>=5.8.0 in c:\\users\\user\\anaconda3\\envs\\test\\lib\\site-packages (from torch_geometric) (5.9.4)\n",
      "Requirement already satisfied: tqdm in c:\\users\\user\\anaconda3\\envs\\test\\lib\\site-packages (from torch_geometric) (4.65.0)\n",
      "Requirement already satisfied: numpy in c:\\users\\user\\anaconda3\\envs\\test\\lib\\site-packages (from torch_geometric) (1.24.2)\n",
      "Requirement already satisfied: scipy in c:\\users\\user\\anaconda3\\envs\\test\\lib\\site-packages (from torch_geometric) (1.10.1)\n",
      "Requirement already satisfied: pyparsing in c:\\users\\user\\anaconda3\\envs\\test\\lib\\site-packages (from torch_geometric) (3.0.9)\n",
      "Requirement already satisfied: MarkupSafe>=2.0 in c:\\users\\user\\anaconda3\\envs\\test\\lib\\site-packages (from jinja2->torch_geometric) (2.1.2)\n",
      "Requirement already satisfied: idna<4,>=2.5 in c:\\users\\user\\anaconda3\\envs\\test\\lib\\site-packages (from requests->torch_geometric) (3.4)\n",
      "Requirement already satisfied: charset-normalizer<4,>=2 in c:\\users\\user\\anaconda3\\envs\\test\\lib\\site-packages (from requests->torch_geometric) (3.1.0)\n",
      "Requirement already satisfied: certifi>=2017.4.17 in c:\\users\\user\\anaconda3\\envs\\test\\lib\\site-packages (from requests->torch_geometric) (2023.7.22)\n",
      "Requirement already satisfied: urllib3<1.27,>=1.21.1 in c:\\users\\user\\anaconda3\\envs\\test\\lib\\site-packages (from requests->torch_geometric) (1.26.15)\n",
      "Requirement already satisfied: joblib>=1.1.1 in c:\\users\\user\\anaconda3\\envs\\test\\lib\\site-packages (from scikit-learn->torch_geometric) (1.2.0)\n",
      "Requirement already satisfied: threadpoolctl>=2.0.0 in c:\\users\\user\\anaconda3\\envs\\test\\lib\\site-packages (from scikit-learn->torch_geometric) (3.1.0)\n",
      "Requirement already satisfied: colorama in c:\\users\\user\\anaconda3\\envs\\test\\lib\\site-packages (from tqdm->torch_geometric) (0.4.6)\n"
     ]
    },
    {
     "name": "stderr",
     "output_type": "stream",
     "text": [
      "WARNING: Ignoring invalid distribution -illow (c:\\users\\user\\anaconda3\\envs\\test\\lib\\site-packages)\n",
      "WARNING: Ignoring invalid distribution -illow (c:\\users\\user\\anaconda3\\envs\\test\\lib\\site-packages)\n",
      "WARNING: Ignoring invalid distribution -illow (c:\\users\\user\\anaconda3\\envs\\test\\lib\\site-packages)\n",
      "WARNING: Ignoring invalid distribution -illow (c:\\users\\user\\anaconda3\\envs\\test\\lib\\site-packages)\n",
      "WARNING: Ignoring invalid distribution -illow (c:\\users\\user\\anaconda3\\envs\\test\\lib\\site-packages)\n",
      "WARNING: Ignoring invalid distribution -illow (c:\\users\\user\\anaconda3\\envs\\test\\lib\\site-packages)\n",
      "WARNING: Ignoring invalid distribution -illow (c:\\users\\user\\anaconda3\\envs\\test\\lib\\site-packages)\n",
      "WARNING: Ignoring invalid distribution -illow (c:\\users\\user\\anaconda3\\envs\\test\\lib\\site-packages)\n",
      "WARNING: Ignoring invalid distribution -illow (c:\\users\\user\\anaconda3\\envs\\test\\lib\\site-packages)\n",
      "WARNING: Ignoring invalid distribution -illow (c:\\users\\user\\anaconda3\\envs\\test\\lib\\site-packages)\n",
      "WARNING: Ignoring invalid distribution -illow (c:\\users\\user\\anaconda3\\envs\\test\\lib\\site-packages)\n",
      "WARNING: Ignoring invalid distribution -illow (c:\\users\\user\\anaconda3\\envs\\test\\lib\\site-packages)\n",
      "WARNING: Ignoring invalid distribution -illow (c:\\users\\user\\anaconda3\\envs\\test\\lib\\site-packages)\n",
      "WARNING: Ignoring invalid distribution -illow (c:\\users\\user\\anaconda3\\envs\\test\\lib\\site-packages)\n",
      "WARNING: Ignoring invalid distribution -illow (c:\\users\\user\\anaconda3\\envs\\test\\lib\\site-packages)\n",
      "WARNING: Ignoring invalid distribution -illow (c:\\users\\user\\anaconda3\\envs\\test\\lib\\site-packages)\n",
      "WARNING: Ignoring invalid distribution -illow (c:\\users\\user\\anaconda3\\envs\\test\\lib\\site-packages)\n",
      "WARNING: Ignoring invalid distribution -illow (c:\\users\\user\\anaconda3\\envs\\test\\lib\\site-packages)\n",
      "WARNING: Ignoring invalid distribution -illow (c:\\users\\user\\anaconda3\\envs\\test\\lib\\site-packages)\n",
      "WARNING: Ignoring invalid distribution -illow (c:\\users\\user\\anaconda3\\envs\\test\\lib\\site-packages)\n",
      "WARNING: Ignoring invalid distribution -illow (c:\\users\\user\\anaconda3\\envs\\test\\lib\\site-packages)\n",
      "WARNING: Ignoring invalid distribution -illow (c:\\users\\user\\anaconda3\\envs\\test\\lib\\site-packages)\n",
      "WARNING: Ignoring invalid distribution -illow (c:\\users\\user\\anaconda3\\envs\\test\\lib\\site-packages)\n",
      "WARNING: Ignoring invalid distribution -illow (c:\\users\\user\\anaconda3\\envs\\test\\lib\\site-packages)\n"
     ]
    }
   ],
   "source": [
    "import torch\n",
    "torchversion = torch.__version__\n",
    "\n",
    "# Install PyTorch Scatter, PyTorch Sparse, and PyTorch Geometric\n",
    "!pip install torch_geometric\n",
    "!pip install -q torch-scatter -f https://data.pyg.org/whl/torch-{torchversion}.html\n",
    "!pip install -q torch-sparse -f https://data.pyg.org/whl/torch-{torchversion}.html\n",
    "!pip install -q git+https://github.com/pyg-team/pytorch_geometric.git\n",
    "\n",
    "# Numpy for matrices\n",
    "import numpy as np\n",
    "np.random.seed(0)\n",
    "\n",
    "# Visualization\n",
    "import networkx as nx\n",
    "from sklearn.manifold import TSNE\n",
    "import matplotlib.pyplot as plt"
   ]
  },
  {
   "cell_type": "markdown",
   "id": "d1501b05",
   "metadata": {},
   "source": [
    "### Dataset"
   ]
  },
  {
   "cell_type": "code",
   "execution_count": 2,
   "id": "8bf8636a",
   "metadata": {},
   "outputs": [
    {
     "name": "stderr",
     "output_type": "stream",
     "text": [
      "C:\\Users\\user\\anaconda3\\envs\\test\\lib\\site-packages\\torch_geometric\\typing.py:60: UserWarning: An issue occurred while importing 'torch-scatter'. Disabling its usage. Stacktrace: Could not find module 'C:\\Users\\user\\anaconda3\\envs\\test\\Lib\\site-packages\\torch_scatter\\_scatter_cuda.pyd' (or one of its dependencies). Try using the full path with constructor syntax.\n",
      "  warnings.warn(f\"An issue occurred while importing 'torch-scatter'. \"\n",
      "C:\\Users\\user\\anaconda3\\envs\\test\\lib\\site-packages\\torch_geometric\\typing.py:98: UserWarning: An issue occurred while importing 'torch-sparse'. Disabling its usage. Stacktrace: Could not find module 'C:\\Users\\user\\anaconda3\\envs\\test\\Lib\\site-packages\\torch_sparse\\_convert_cuda.pyd' (or one of its dependencies). Try using the full path with constructor syntax.\n",
      "  warnings.warn(f\"An issue occurred while importing 'torch-sparse'. \"\n",
      "Downloading https://github.com/kimiyoung/planetoid/raw/master/data/ind.cora.x\n",
      "Downloading https://github.com/kimiyoung/planetoid/raw/master/data/ind.cora.tx\n",
      "Downloading https://github.com/kimiyoung/planetoid/raw/master/data/ind.cora.allx\n",
      "Downloading https://github.com/kimiyoung/planetoid/raw/master/data/ind.cora.y\n",
      "Downloading https://github.com/kimiyoung/planetoid/raw/master/data/ind.cora.ty\n",
      "Downloading https://github.com/kimiyoung/planetoid/raw/master/data/ind.cora.ally\n",
      "Downloading https://github.com/kimiyoung/planetoid/raw/master/data/ind.cora.graph\n",
      "Downloading https://github.com/kimiyoung/planetoid/raw/master/data/ind.cora.test.index\n",
      "Processing...\n",
      "Done!\n"
     ]
    }
   ],
   "source": [
    "from torch_geometric.datasets import Planetoid,KarateClub\n",
    "\n",
    "# Import dataset from PyTorch Geometric\n",
    "dataset = Planetoid(root=\".\", name=\"cora\")\n",
    "\n",
    "data = dataset[0]\n"
   ]
  },
  {
   "cell_type": "markdown",
   "id": "4c3a75e0",
   "metadata": {},
   "source": [
    "### Print information about the dataset"
   ]
  },
  {
   "cell_type": "code",
   "execution_count": 3,
   "id": "5c866942",
   "metadata": {},
   "outputs": [
    {
     "name": "stdout",
     "output_type": "stream",
     "text": [
      "Dataset: cora()\n",
      "-------------------\n",
      "Number of graphs: 1\n",
      "Number of nodes: 2708\n",
      "Number of features: 1433\n",
      "Number of classes: 7\n",
      "\n",
      "Graph:\n",
      "------\n",
      "Edges are directed: False\n",
      "Graph has isolated nodes: False\n",
      "Graph has loops: False\n"
     ]
    }
   ],
   "source": [
    "# Print information about the dataset\n",
    "print(f'Dataset: {dataset}')\n",
    "print('-------------------')\n",
    "print(f'Number of graphs: {len(dataset)}')\n",
    "print(f'Number of nodes: {data.x.shape[0]}')\n",
    "print(f'Number of features: {dataset.num_features}')\n",
    "print(f'Number of classes: {dataset.num_classes}')\n",
    "\n",
    "# Print information about the graph\n",
    "print(f'\\nGraph:')\n",
    "print('------')\n",
    "print(f'Edges are directed: {data.is_directed()}')\n",
    "print(f'Graph has isolated nodes: {data.has_isolated_nodes()}')\n",
    "print(f'Graph has loops: {data.has_self_loops()}')"
   ]
  },
  {
   "cell_type": "code",
   "execution_count": 4,
   "id": "45246e69",
   "metadata": {},
   "outputs": [
    {
     "name": "stdout",
     "output_type": "stream",
     "text": [
      "Number of isolated nodes = 0\n"
     ]
    }
   ],
   "source": [
    "from torch_geometric.utils import remove_isolated_nodes\n",
    "\n",
    "isolated = (remove_isolated_nodes(data['edge_index'])[2] == False).sum(dim=0).item()\n",
    "print(f'Number of isolated nodes = {isolated}')"
   ]
  },
  {
   "cell_type": "markdown",
   "id": "54fcdd5f",
   "metadata": {},
   "source": [
    "### Implement GAT"
   ]
  },
  {
   "cell_type": "markdown",
   "id": "74ec3add",
   "metadata": {},
   "source": [
    "#### GAT model"
   ]
  },
  {
   "cell_type": "code",
   "execution_count": 10,
   "id": "94b81528",
   "metadata": {},
   "outputs": [],
   "source": [
    "class GAT(torch.nn.Module):\n",
    "  \"\"\"Graph Attention Network\"\"\"\n",
    "  def __init__(self, dim_in, dim_h, dim_out, heads=8):\n",
    "    super().__init__()\n",
    "    self.gat1 = GATv2Conv(dim_in, dim_h, heads=heads)\n",
    "    self.gat2 = GATv2Conv(dim_h*heads, dim_out, heads=1)\n",
    "    self.optimizer = torch.optim.Adam(self.parameters(),\n",
    "                                      lr=0.005,\n",
    "                                      weight_decay=5e-4)\n",
    "\n",
    "  def forward(self, x, edge_index):\n",
    "    h = F.dropout(x, p=0.6, training=self.training)\n",
    "    h = self.gat1(x, edge_index)\n",
    "    h = F.elu(h)\n",
    "    h = F.dropout(h, p=0.6, training=self.training)\n",
    "    h = self.gat2(h, edge_index)\n",
    "    return h, F.log_softmax(h, dim=1)"
   ]
  },
  {
   "cell_type": "markdown",
   "id": "17a3992f",
   "metadata": {},
   "source": [
    "### Train function"
   ]
  },
  {
   "cell_type": "code",
   "execution_count": 11,
   "id": "e68564d8",
   "metadata": {},
   "outputs": [],
   "source": [
    "def accuracy(pred_y, y):\n",
    "    \"\"\"Calculate accuracy.\"\"\"\n",
    "    return ((pred_y == y).sum() / len(y)).item()\n",
    "\n",
    "def train(model, data):\n",
    "    \"\"\"Train a GNN model and return the trained model.\"\"\"\n",
    "    criterion = torch.nn.CrossEntropyLoss()\n",
    "    optimizer = model.optimizer\n",
    "    epochs = 5\n",
    "\n",
    "    model.train()\n",
    "    for epoch in range(epochs+1):\n",
    "        # Training\n",
    "        optimizer.zero_grad()\n",
    "        _, out = model(data.x, data.edge_index)\n",
    "        loss = criterion(out[data.train_mask], data.y[data.train_mask])\n",
    "        acc = accuracy(out[data.train_mask].argmax(dim=1), data.y[data.train_mask])\n",
    "        loss.backward()\n",
    "        optimizer.step()\n",
    "\n",
    "        # Validation\n",
    "        val_loss = criterion(out[data.val_mask], data.y[data.val_mask])\n",
    "        val_acc = accuracy(out[data.val_mask].argmax(dim=1), data.y[data.val_mask])\n",
    "\n",
    "        # Print metrics every 10 epochs\n",
    "        if(epoch % 1 == 0):\n",
    "            print(f'Epoch {epoch:>3} | Train Loss: {loss:.3f} | Train Acc: '\n",
    "                  f'{acc*100:>6.2f}% | Val Loss: {val_loss:.2f} | '\n",
    "                  f'Val Acc: {val_acc*100:.2f}%')\n",
    "\n",
    "    return model"
   ]
  },
  {
   "cell_type": "code",
   "execution_count": 12,
   "id": "84cfec38",
   "metadata": {},
   "outputs": [],
   "source": [
    "def test(model, data):\n",
    "    \"\"\"Evaluate the model on test set and print the accuracy score.\"\"\"\n",
    "    model.eval()\n",
    "    _, out = model(data.x, data.edge_index)\n",
    "    acc = accuracy(out.argmax(dim=1)[data.test_mask], data.y[data.test_mask])\n",
    "    return acc"
   ]
  },
  {
   "cell_type": "markdown",
   "id": "789a2376",
   "metadata": {},
   "source": [
    "### Train GAT"
   ]
  },
  {
   "cell_type": "code",
   "execution_count": 13,
   "id": "19ee7c47",
   "metadata": {},
   "outputs": [
    {
     "name": "stdout",
     "output_type": "stream",
     "text": [
      "GAT(\n",
      "  (gat1): GATv2Conv(1433, 8, heads=8)\n",
      "  (gat2): GATv2Conv(64, 7, heads=1)\n",
      ")\n",
      "CPU times: total: 31.2 ms\n",
      "Wall time: 16 ms\n"
     ]
    }
   ],
   "source": [
    "%%time\n",
    "\n",
    "# Create GAT model\n",
    "gat = GAT(dataset.num_features, 8, dataset.num_classes)\n",
    "print(gat)"
   ]
  },
  {
   "cell_type": "code",
   "execution_count": 15,
   "id": "3eda8f30",
   "metadata": {
    "scrolled": true
   },
   "outputs": [
    {
     "name": "stdout",
     "output_type": "stream",
     "text": [
      "Epoch   0 | Train Loss: 0.797 | Train Acc:  97.14% | Val Loss: 1.29 | Val Acc: 75.80%\n",
      "Epoch   1 | Train Loss: 0.679 | Train Acc:  98.57% | Val Loss: 1.19 | Val Acc: 75.40%\n",
      "Epoch   2 | Train Loss: 0.560 | Train Acc:  98.57% | Val Loss: 1.12 | Val Acc: 76.00%\n",
      "Epoch   3 | Train Loss: 0.465 | Train Acc:  97.14% | Val Loss: 1.07 | Val Acc: 75.40%\n",
      "Epoch   4 | Train Loss: 0.396 | Train Acc:  97.86% | Val Loss: 1.01 | Val Acc: 74.80%\n",
      "Epoch   5 | Train Loss: 0.322 | Train Acc:  97.14% | Val Loss: 0.99 | Val Acc: 74.60%\n",
      "\n",
      "GAT test accuracy: 77.90%\n",
      "\n"
     ]
    }
   ],
   "source": [
    "\n",
    "\n",
    "# Train\n",
    "train(gat, data)\n",
    "\n",
    "# Test\n",
    "acc = test(gat, data)\n",
    "print(f'\\nGAT test accuracy: {acc*100:.2f}%\\n')"
   ]
  },
  {
   "cell_type": "markdown",
   "id": "1e99566d",
   "metadata": {},
   "source": [
    "### GATv2"
   ]
  },
  {
   "cell_type": "code",
   "execution_count": 17,
   "id": "82ad50eb",
   "metadata": {},
   "outputs": [],
   "source": [
    "class GATv2(torch.nn.Module):\n",
    "    def __init__(self,num_features,dims, num_classes,  drop=0.0):\n",
    "        super(GATv2, self).__init__()\n",
    "        heads = 8\n",
    "        self.h = None\n",
    "        self.conv1 = GATv2Conv(num_features,dims, heads=heads, dropout = 0.3, concat=False)\n",
    "        self.conv2 = GATv2Conv(dims, num_classes, heads=heads, concat=False, dropout=0.3)\n",
    "        self.drop = torch.nn.Dropout(p=drop)\n",
    "        self.optimizer = torch.optim.Adam(self.parameters(),lr=0.005,weight_decay=5e-4)\n",
    "    def forward(self, x, edge_index,):\n",
    "        x = F.elu(self.conv1(x, edge_index))\n",
    "        x = self.drop(x)\n",
    "        x = self.conv2(x, edge_index)\n",
    "        return x, F.log_softmax(x, dim=1)"
   ]
  },
  {
   "cell_type": "code",
   "execution_count": null,
   "id": "b61f7a34",
   "metadata": {},
   "outputs": [],
   "source": []
  },
  {
   "cell_type": "code",
   "execution_count": 18,
   "id": "a46f8a11",
   "metadata": {},
   "outputs": [
    {
     "name": "stdout",
     "output_type": "stream",
     "text": [
      "GATv2(\n",
      "  (conv1): GATv2Conv(1433, 7, heads=8)\n",
      "  (conv2): GATv2Conv(7, 8, heads=8)\n",
      "  (drop): Dropout(p=0.0, inplace=False)\n",
      ")\n",
      "CPU times: total: 15.6 ms\n",
      "Wall time: 4 ms\n"
     ]
    }
   ],
   "source": [
    "%%time\n",
    "\n",
    "# Create GAT model\n",
    "gat2 = GATv2(dataset.num_features, 8, dataset.num_classes)\n",
    "print(gat2)"
   ]
  },
  {
   "cell_type": "code",
   "execution_count": 19,
   "id": "1fcc8d72",
   "metadata": {},
   "outputs": [
    {
     "name": "stdout",
     "output_type": "stream",
     "text": [
      "Epoch   0 | Train Loss: 2.085 | Train Acc:  12.86% | Val Loss: 2.05 | Val Acc: 15.20%\n",
      "Epoch   1 | Train Loss: 2.069 | Train Acc:  19.29% | Val Loss: 2.04 | Val Acc: 19.80%\n",
      "Epoch   2 | Train Loss: 2.054 | Train Acc:  27.14% | Val Loss: 2.03 | Val Acc: 28.80%\n",
      "Epoch   3 | Train Loss: 2.037 | Train Acc:  31.43% | Val Loss: 2.02 | Val Acc: 33.20%\n",
      "Epoch   4 | Train Loss: 2.021 | Train Acc:  35.00% | Val Loss: 2.01 | Val Acc: 38.40%\n",
      "Epoch   5 | Train Loss: 1.997 | Train Acc:  38.57% | Val Loss: 1.99 | Val Acc: 40.40%\n",
      "\n",
      "GAT test accuracy: 46.80%\n",
      "\n"
     ]
    }
   ],
   "source": [
    "# Train\n",
    "train(gat2, data)\n",
    "\n",
    "# Test\n",
    "acc = test(gat2, data)\n",
    "print(f'\\nGAT test accuracy: {acc*100:.2f}%\\n')"
   ]
  }
 ],
 "metadata": {
  "kernelspec": {
   "display_name": "Python 3 (ipykernel)",
   "language": "python",
   "name": "python3"
  },
  "language_info": {
   "codemirror_mode": {
    "name": "ipython",
    "version": 3
   },
   "file_extension": ".py",
   "mimetype": "text/x-python",
   "name": "python",
   "nbconvert_exporter": "python",
   "pygments_lexer": "ipython3",
   "version": "3.8.16"
  }
 },
 "nbformat": 4,
 "nbformat_minor": 5
}
