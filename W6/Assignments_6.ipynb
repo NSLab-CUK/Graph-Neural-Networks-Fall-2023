{
 "cells": [
  {
   "cell_type": "markdown",
   "id": "ca3dcbfb-8bae-48de-94b2-288f1c0b132d",
   "metadata": {},
   "source": [
    "### Assignment 1. Given the Citeseer graph in Pytorch Geometric as shown in the following:\n",
    "(https://pytorch-geometric.readthedocs.io/en/latest/generated/torch_geometric.datasets.Planetoid.html#torch_geometric.datasets.Planetoid)\n",
    "\n",
    "Questions:\n",
    "\n",
    "1) Show some graph statistics of the Citeseer graph (Number of nodes, Number of edges, and node feature length, ...)\n",
    "2) Running the GraphSage model on Node classification on the Citeseer graph"
   ]
  },
  {
   "cell_type": "markdown",
   "id": "8eb3bddb-c71c-44f5-a1f0-40671ea155ed",
   "metadata": {
    "jp-MarkdownHeadingCollapsed": true
   },
   "source": [
    "### Assignment 2. Load the Citeseer graph dataset from Torch Geometric and then do the node classification task by using the Cluster GCN model"
   ]
  }
 ],
 "metadata": {
  "kernelspec": {
   "display_name": "Python 3 (ipykernel)",
   "language": "python",
   "name": "python3"
  },
  "language_info": {
   "codemirror_mode": {
    "name": "ipython",
    "version": 3
   },
   "file_extension": ".py",
   "mimetype": "text/x-python",
   "name": "python",
   "nbconvert_exporter": "python",
   "pygments_lexer": "ipython3",
   "version": "3.8.8"
  }
 },
 "nbformat": 4,
 "nbformat_minor": 5
}
