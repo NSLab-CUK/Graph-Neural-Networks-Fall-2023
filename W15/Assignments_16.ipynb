{
 "cells": [
  {
   "cell_type": "markdown",
   "id": "ca3dcbfb-8bae-48de-94b2-288f1c0b132d",
   "metadata": {
    "jp-MarkdownHeadingCollapsed": true
   },
   "source": [
    "### Assignment 1. Given the MUTAG dataset from Torch Geometric: \n",
    "\n",
    "Questions: Build a Relational GCN model to learn the MUTAG dataset"
   ]
  },
  {
   "cell_type": "markdown",
   "id": "8eb3bddb-c71c-44f5-a1f0-40671ea155ed",
   "metadata": {},
   "source": [
    "### Assignment 2. Given the WordNet18 dataset from Torch Geometric.\n",
    "\n",
    "Questions: \n",
    "\n",
    "1) Show the number of entities, relations, and triplets.\n",
    "2) Load the dataset and construct the TransE model"
   ]
  }
 ],
 "metadata": {
  "kernelspec": {
   "display_name": "Python 3 (ipykernel)",
   "language": "python",
   "name": "python3"
  },
  "language_info": {
   "codemirror_mode": {
    "name": "ipython",
    "version": 3
   },
   "file_extension": ".py",
   "mimetype": "text/x-python",
   "name": "python",
   "nbconvert_exporter": "python",
   "pygments_lexer": "ipython3",
   "version": "3.8.8"
  }
 },
 "nbformat": 4,
 "nbformat_minor": 5
}
