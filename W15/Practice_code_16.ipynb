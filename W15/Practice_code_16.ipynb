{
 "cells": [
  {
   "cell_type": "markdown",
   "id": "d0736dbf-54c6-4475-a833-a3043414be16",
   "metadata": {},
   "source": [
    "### 1) Relational GCN model\n",
    "### 2) TransE model\n",
    "### 3) distmult model\n",
    "--------------------------------------------------------"
   ]
  },
  {
   "attachments": {},
   "cell_type": "markdown",
   "id": "1e04b823-c673-4699-b05a-77dce606c5e8",
   "metadata": {},
   "source": [
    "### 1) Relational GCN model"
   ]
  },
  {
   "cell_type": "markdown",
   "id": "4edb9ea5-6478-47a7-a117-2c4ac9bbe76e",
   "metadata": {},
   "source": [
    "#### Import necessary Libraries"
   ]
  },
  {
   "cell_type": "code",
   "execution_count": 1,
   "id": "764a7171-38d9-4ba7-825a-b46e5bdf327d",
   "metadata": {},
   "outputs": [
    {
     "name": "stdout",
     "output_type": "stream",
     "text": [
      "Requirement already satisfied: rdflib in c:\\users\\user\\anaconda3\\envs\\gnn11\\lib\\site-packages (7.0.0)\n",
      "Requirement already satisfied: isodate<0.7.0,>=0.6.0 in c:\\users\\user\\anaconda3\\envs\\gnn11\\lib\\site-packages (from rdflib) (0.6.1)\n",
      "Requirement already satisfied: pyparsing<4,>=2.1.0 in c:\\users\\user\\anaconda3\\envs\\gnn11\\lib\\site-packages (from rdflib) (3.1.1)\n",
      "Requirement already satisfied: six in c:\\users\\user\\anaconda3\\envs\\gnn11\\lib\\site-packages (from isodate<0.7.0,>=0.6.0->rdflib) (1.16.0)\n"
     ]
    }
   ],
   "source": [
    "import argparse\n",
    "import os.path as osp\n",
    "import time\n",
    "\n",
    "import torch\n",
    "import torch.nn.functional as F\n",
    "\n",
    "from torch_geometric.datasets import Entities\n",
    "from torch_geometric.nn import FastRGCNConv, RGCNConv\n",
    "from torch_geometric.utils import k_hop_subgraph\n",
    "!pip install rdflib\n",
    "# parser = argparse.ArgumentParser()\n",
    "# parser.add_argument('--dataset', type=str, default='AIFB',choices=['AIFB', 'MUTAG', 'BGS', 'AM'])\n",
    "# args = parser.parse_args()\n",
    "dataset = 'AIFB'"
   ]
  },
  {
   "cell_type": "markdown",
   "id": "f9805b79-6d2d-437f-ac36-9e65350f59ee",
   "metadata": {},
   "source": [
    "#### Trade memory consumption for faster computation."
   ]
  },
  {
   "cell_type": "code",
   "execution_count": 2,
   "id": "83f868f5-ec7f-498b-ac14-66dd0eb60150",
   "metadata": {},
   "outputs": [],
   "source": [
    "# \n",
    "if dataset in ['AIFB', 'MUTAG']:\n",
    "    Conv = FastRGCNConv\n",
    "else:\n",
    "    Conv = RGCNConv\n"
   ]
  },
  {
   "cell_type": "markdown",
   "id": "2e2d03db-c00e-4db1-a351-8126466223b0",
   "metadata": {},
   "source": [
    "#### Dowloading dataset"
   ]
  },
  {
   "cell_type": "code",
   "execution_count": 3,
   "id": "9d0c77b2-366c-4c96-81cd-8fc64d716f87",
   "metadata": {},
   "outputs": [],
   "source": [
    "path = osp.join('data', 'Entities')\n",
    "dataset = Entities(path, dataset)\n",
    "data = dataset[0]"
   ]
  },
  {
   "cell_type": "markdown",
   "id": "37778971-a22c-42bb-bdf3-6a734a94dfee",
   "metadata": {},
   "source": [
    "#### Spliting dataset"
   ]
  },
  {
   "cell_type": "code",
   "execution_count": 4,
   "id": "7e40967a-d093-4904-a0e1-3ac329c52773",
   "metadata": {},
   "outputs": [],
   "source": [
    "node_idx = torch.cat([data.train_idx, data.test_idx], dim=0)\n",
    "node_idx, edge_index, mapping, edge_mask = k_hop_subgraph(\n",
    "    node_idx, 2, data.edge_index, relabel_nodes=True)\n",
    "\n",
    "data.num_nodes = node_idx.size(0)\n",
    "data.edge_index = edge_index\n",
    "data.edge_type = data.edge_type[edge_mask]\n",
    "data.train_idx = mapping[:data.train_idx.size(0)]\n",
    "data.test_idx = mapping[data.train_idx.size(0):]"
   ]
  },
  {
   "cell_type": "markdown",
   "id": "58a1ce78-9762-41c8-9185-5dc9e5fef026",
   "metadata": {},
   "source": [
    "#### Building rGCN class"
   ]
  },
  {
   "cell_type": "code",
   "execution_count": 5,
   "id": "c6a11765-e509-404c-b940-1cb519e21819",
   "metadata": {},
   "outputs": [],
   "source": [
    "\n",
    "class Net(torch.nn.Module):\n",
    "    def __init__(self):\n",
    "        super().__init__()\n",
    "        self.conv1 = Conv(data.num_nodes, 16, dataset.num_relations,\n",
    "                          num_bases=30)\n",
    "        self.conv2 = Conv(16, dataset.num_classes, dataset.num_relations,\n",
    "                          num_bases=30)\n",
    "\n",
    "    def forward(self, edge_index, edge_type):\n",
    "        x = F.relu(self.conv1(None, edge_index, edge_type))\n",
    "        x = self.conv2(x, edge_index, edge_type)\n",
    "        return F.log_softmax(x, dim=1)"
   ]
  },
  {
   "cell_type": "code",
   "execution_count": 6,
   "id": "e59e96f8-fe23-4580-9785-ebbbb2866881",
   "metadata": {},
   "outputs": [],
   "source": [
    "\n",
    "if torch.cuda.is_available():\n",
    "    device = torch.device('cuda')\n",
    "elif hasattr(torch.backends, 'mps') and torch.backends.mps.is_available():\n",
    "    device = torch.device('mps')\n",
    "else:\n",
    "    device = torch.device('cpu')"
   ]
  },
  {
   "cell_type": "code",
   "execution_count": 7,
   "id": "5920bb04-26b9-45a0-b56c-c298a66eb85c",
   "metadata": {},
   "outputs": [],
   "source": [
    "device = torch.device('cpu') if dataset == 'AM' else device\n",
    "model, data = Net().to(device), data.to(device)\n",
    "optimizer = torch.optim.Adam(model.parameters(), lr=0.01, weight_decay=0.0005)"
   ]
  },
  {
   "cell_type": "markdown",
   "id": "204c4133-8320-4cb6-8eea-afd042178ed3",
   "metadata": {},
   "source": [
    "#### Defining the train and test functions"
   ]
  },
  {
   "cell_type": "code",
   "execution_count": 8,
   "id": "86bcc9dc-d4d8-4b52-a59e-3306fedc4bf1",
   "metadata": {},
   "outputs": [],
   "source": [
    "\n",
    "def train():\n",
    "    model.train()\n",
    "    optimizer.zero_grad()\n",
    "    out = model(data.edge_index, data.edge_type)\n",
    "    loss = F.nll_loss(out[data.train_idx], data.train_y)\n",
    "    loss.backward()\n",
    "    optimizer.step()\n",
    "    return float(loss)\n",
    "\n",
    "@torch.no_grad()\n",
    "def test():\n",
    "    model.eval()\n",
    "    pred = model(data.edge_index, data.edge_type).argmax(dim=-1)\n",
    "    train_acc = float((pred[data.train_idx] == data.train_y).float().mean())\n",
    "    test_acc = float((pred[data.test_idx] == data.test_y).float().mean())\n",
    "    return train_acc, test_acc"
   ]
  },
  {
   "cell_type": "code",
   "execution_count": 9,
   "id": "0292cb94-3213-4c02-b4f4-19e4dd300f3e",
   "metadata": {},
   "outputs": [
    {
     "name": "stdout",
     "output_type": "stream",
     "text": [
      "Epoch: 01, Loss: 1.3949, Train: 0.9000 Test: 0.7778\n",
      "Epoch: 02, Loss: 0.7562, Train: 0.9429 Test: 0.8611\n",
      "Epoch: 03, Loss: 0.3254, Train: 0.9714 Test: 0.8889\n",
      "Epoch: 04, Loss: 0.1400, Train: 0.9857 Test: 0.9167\n",
      "Epoch: 05, Loss: 0.0714, Train: 0.9857 Test: 0.9167\n",
      "Epoch: 06, Loss: 0.0429, Train: 0.9857 Test: 0.9444\n",
      "Epoch: 07, Loss: 0.0260, Train: 1.0000 Test: 0.9444\n",
      "Epoch: 08, Loss: 0.0138, Train: 1.0000 Test: 0.9444\n",
      "Epoch: 09, Loss: 0.0064, Train: 1.0000 Test: 0.9444\n",
      "Median time per epoch: 0.0070s\n"
     ]
    }
   ],
   "source": [
    "times = []\n",
    "for epoch in range(1, 10):\n",
    "    start = time.time()\n",
    "    loss = train()\n",
    "    train_acc, test_acc = test()\n",
    "    print(f'Epoch: {epoch:02d}, Loss: {loss:.4f}, Train: {train_acc:.4f} '\n",
    "          f'Test: {test_acc:.4f}')\n",
    "    times.append(time.time() - start)\n",
    "print(f\"Median time per epoch: {torch.tensor(times).median():.4f}s\")"
   ]
  },
  {
   "cell_type": "markdown",
   "id": "7d88613d-3455-41e3-9f66-3769a257be49",
   "metadata": {},
   "source": [
    "### * TransE and distmult model"
   ]
  },
  {
   "cell_type": "code",
   "execution_count": 10,
   "id": "ac347427-208f-4a47-9326-ffc7036d3283",
   "metadata": {},
   "outputs": [],
   "source": [
    "import argparse\n",
    "import os.path as osp\n",
    "\n",
    "import torch\n",
    "import torch.optim as optim\n",
    "\n",
    "from torch_geometric.datasets import FB15k_237\n",
    "from torch_geometric.nn import ComplEx, DistMult, RotatE, TransE\n",
    "\n",
    "model_map = {\n",
    "    'transe': TransE,\n",
    "    'complex': ComplEx,\n",
    "    'distmult': DistMult,\n",
    "    'rotate': RotatE,\n",
    "}\n"
   ]
  },
  {
   "cell_type": "code",
   "execution_count": 11,
   "id": "e1a0eac1-f137-4024-a4d9-a24f24f9e3b7",
   "metadata": {},
   "outputs": [],
   "source": [
    "\n",
    "parser = argparse.ArgumentParser()\n",
    "parser.add_argument('--model', choices=model_map.keys(), type=str.lower,required=False)\n",
    "parser.add_argument(\"-f\", required=False)\n",
    "args = parser.parse_args()\n",
    "\n",
    "device = 'cuda' if torch.cuda.is_available() else 'cpu'\n",
    "path = osp.join(  'data', 'FB15k')\n",
    "\n",
    "train_data = FB15k_237(path, split='train')[0].to(device)\n",
    "val_data = FB15k_237(path, split='val')[0].to(device)\n",
    "test_data = FB15k_237(path, split='test')[0].to(device)"
   ]
  },
  {
   "cell_type": "markdown",
   "id": "4e3686fd-e5e7-481e-bd42-ea416b009842",
   "metadata": {},
   "source": [
    "### 2. TransE model"
   ]
  },
  {
   "cell_type": "code",
   "execution_count": 12,
   "id": "16774cb3-d6ca-4b9f-9a7d-030ac69b4259",
   "metadata": {},
   "outputs": [],
   "source": [
    "model_arg_map = {'rotate': {'margin': 9.0}}\n",
    "args.model = \"transe\"\n",
    "model = model_map[args.model](\n",
    "    num_nodes=train_data.num_nodes,\n",
    "    num_relations=train_data.num_edge_types,\n",
    "    hidden_channels=50,\n",
    "    **model_arg_map.get(args.model, {}),\n",
    ").to(device)\n",
    "\n",
    "loader = model.loader(\n",
    "    head_index=train_data.edge_index[0],\n",
    "    rel_type=train_data.edge_type,\n",
    "    tail_index=train_data.edge_index[1],\n",
    "    batch_size=1000,\n",
    "    shuffle=True,\n",
    ")"
   ]
  },
  {
   "cell_type": "code",
   "execution_count": 13,
   "id": "33b9671f-da89-41cc-806e-f2c7ddc70a02",
   "metadata": {},
   "outputs": [],
   "source": [
    "\n",
    "loader = model.loader(\n",
    "    head_index=train_data.edge_index[0],\n",
    "    rel_type=train_data.edge_type,\n",
    "    tail_index=train_data.edge_index[1],\n",
    "    batch_size=1000,\n",
    "    shuffle=True,\n",
    ")\n",
    "\n",
    "optimizer_map = {\n",
    "    'transe': optim.Adam(model.parameters(), lr=0.01),\n",
    "    'complex': optim.Adagrad(model.parameters(), lr=0.001, weight_decay=1e-6),\n",
    "    'distmult': optim.Adam(model.parameters(), lr=0.0001, weight_decay=1e-6),\n",
    "    'rotate': optim.Adam(model.parameters(), lr=1e-3),\n",
    "}\n",
    "optimizer = optimizer_map[args.model]"
   ]
  },
  {
   "cell_type": "code",
   "execution_count": 14,
   "id": "6587e7f5-d23e-4eac-aef1-bc80a416cc15",
   "metadata": {},
   "outputs": [],
   "source": [
    "\n",
    "def train():\n",
    "    model.train()\n",
    "    total_loss = total_examples = 0\n",
    "    for head_index, rel_type, tail_index in loader:\n",
    "        optimizer.zero_grad()\n",
    "        loss = model.loss(head_index, rel_type, tail_index)\n",
    "        loss.backward()\n",
    "        optimizer.step()\n",
    "        total_loss += float(loss) * head_index.numel()\n",
    "        total_examples += head_index.numel()\n",
    "    return total_loss / total_examples\n",
    "\n",
    "\n"
   ]
  },
  {
   "cell_type": "code",
   "execution_count": 15,
   "id": "df896099-bc62-4fd1-b2d0-2a314decf19f",
   "metadata": {},
   "outputs": [],
   "source": [
    "@torch.no_grad()\n",
    "def test(data):\n",
    "    model.eval()\n",
    "    return model.test(\n",
    "        head_index=data.edge_index[0],\n",
    "        rel_type=data.edge_type,\n",
    "        tail_index=data.edge_index[1],\n",
    "        batch_size=20000,\n",
    "        k=10,\n",
    "    )"
   ]
  },
  {
   "cell_type": "code",
   "execution_count": 16,
   "id": "aec722fc-d644-4c3e-8256-c9678958f889",
   "metadata": {},
   "outputs": [
    {
     "name": "stdout",
     "output_type": "stream",
     "text": [
      "Epoch: 001, Loss: 0.7601\n",
      "Epoch: 002, Loss: 0.5543\n",
      "Epoch: 003, Loss: 0.4286\n",
      "Epoch: 004, Loss: 0.3375\n"
     ]
    },
    {
     "name": "stderr",
     "output_type": "stream",
     "text": [
      "100%|██████████████████████████████████████████████████████████████████████████| 20466/20466 [00:09<00:00, 2203.05it/s]"
     ]
    },
    {
     "name": "stdout",
     "output_type": "stream",
     "text": [
      "Test Mean Rank: 767.96, Test MRR: 0.3485\n"
     ]
    },
    {
     "name": "stderr",
     "output_type": "stream",
     "text": [
      "\n"
     ]
    }
   ],
   "source": [
    "\n",
    "for epoch in range(1, 5):\n",
    "    loss = train()\n",
    "    print(f'Epoch: {epoch:03d}, Loss: {loss:.4f}')\n",
    "    if epoch % 25 == 0:\n",
    "        rank, mrr = test(val_data)\n",
    "        print(f'Epoch: {epoch:03d}, Val Mean Rank: {rank:.2f}')\n",
    "\n",
    "rank, mrr = test(test_data)\n",
    "print(f'Test Mean Rank: {rank:.2f}, Test MRR: {mrr:.4f}')"
   ]
  },
  {
   "cell_type": "markdown",
   "id": "8c79f81d-0c16-4691-beb2-d60740d60dd6",
   "metadata": {},
   "source": [
    "### 3. distmult model"
   ]
  },
  {
   "cell_type": "code",
   "execution_count": 17,
   "id": "3d22e746-6468-4420-8bbb-0c47fda496f3",
   "metadata": {},
   "outputs": [],
   "source": [
    "model_arg_map = {'rotate': {'margin': 9.0}}\n",
    "args.model = \"distmult\"\n",
    "model = model_map[args.model](\n",
    "    num_nodes=train_data.num_nodes,\n",
    "    num_relations=train_data.num_edge_types,\n",
    "    hidden_channels=50,\n",
    "    **model_arg_map.get(args.model, {}),\n",
    ").to(device)\n",
    "\n",
    "loader = model.loader(\n",
    "    head_index=train_data.edge_index[0],\n",
    "    rel_type=train_data.edge_type,\n",
    "    tail_index=train_data.edge_index[1],\n",
    "    batch_size=1000,\n",
    "    shuffle=True,\n",
    ")"
   ]
  },
  {
   "cell_type": "code",
   "execution_count": 18,
   "id": "7b83b378-0bdc-43bb-b73a-de35f4cba7c3",
   "metadata": {},
   "outputs": [],
   "source": [
    "\n",
    "loader = model.loader(\n",
    "    head_index=train_data.edge_index[0],\n",
    "    rel_type=train_data.edge_type,\n",
    "    tail_index=train_data.edge_index[1],\n",
    "    batch_size=1000,\n",
    "    shuffle=True,\n",
    ")\n",
    "\n",
    "optimizer_map = {\n",
    "    'transe': optim.Adam(model.parameters(), lr=0.01),\n",
    "    'complex': optim.Adagrad(model.parameters(), lr=0.001, weight_decay=1e-6),\n",
    "    'distmult': optim.Adam(model.parameters(), lr=0.0001, weight_decay=1e-6),\n",
    "    'rotate': optim.Adam(model.parameters(), lr=1e-3),\n",
    "}\n",
    "optimizer = optimizer_map[args.model]"
   ]
  },
  {
   "cell_type": "code",
   "execution_count": 19,
   "id": "0b35e23b-53dc-407e-95d2-34572e59c7b3",
   "metadata": {},
   "outputs": [
    {
     "name": "stdout",
     "output_type": "stream",
     "text": [
      "Epoch: 001, Loss: 1.0000\n",
      "Epoch: 002, Loss: 1.0000\n",
      "Epoch: 003, Loss: 0.9999\n",
      "Epoch: 004, Loss: 0.9996\n",
      "Epoch: 005, Loss: 0.9984\n",
      "Epoch: 006, Loss: 0.9943\n",
      "Epoch: 007, Loss: 0.9850\n",
      "Epoch: 008, Loss: 0.9680\n",
      "Epoch: 009, Loss: 0.9416\n",
      "Epoch: 010, Loss: 0.9044\n"
     ]
    },
    {
     "name": "stderr",
     "output_type": "stream",
     "text": [
      "100%|██████████████████████████████████████████████████████████████████████████| 20466/20466 [00:08<00:00, 2489.78it/s]"
     ]
    },
    {
     "name": "stdout",
     "output_type": "stream",
     "text": [
      "Test Mean Rank: 778.73, Test MRR: 0.3035\n"
     ]
    },
    {
     "name": "stderr",
     "output_type": "stream",
     "text": [
      "\n"
     ]
    }
   ],
   "source": [
    "for epoch in range(1, 11):\n",
    "    loss = train()\n",
    "    print(f'Epoch: {epoch:03d}, Loss: {loss:.4f}')\n",
    "    if epoch % 25 == 0:\n",
    "        rank, mrr = test(val_data)\n",
    "        print(f'Epoch: {epoch:03d}, Val Mean Rank: {rank:.2f}')\n",
    "\n",
    "rank, mrr = test(test_data)\n",
    "print(f'Test Mean Rank: {rank:.2f}, Test MRR: {mrr:.4f}')"
   ]
  }
 ],
 "metadata": {
  "kernelspec": {
   "display_name": "Python 3 (ipykernel)",
   "language": "python",
   "name": "python3"
  },
  "language_info": {
   "codemirror_mode": {
    "name": "ipython",
    "version": 3
   },
   "file_extension": ".py",
   "mimetype": "text/x-python",
   "name": "python",
   "nbconvert_exporter": "python",
   "pygments_lexer": "ipython3",
   "version": "3.8.8"
  }
 },
 "nbformat": 4,
 "nbformat_minor": 5
}
