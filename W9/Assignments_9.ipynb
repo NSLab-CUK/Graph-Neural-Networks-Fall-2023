{
 "cells": [
  {
   "cell_type": "markdown",
   "id": "ca3dcbfb-8bae-48de-94b2-288f1c0b132d",
   "metadata": {},
   "source": [
    "### Assignment 1. Download \"Citeseer\" graph in Pytorch Geometric and then: \n",
    "\n",
    "Questions:\n",
    "\n",
    "1) Show some graph statistics of the graph, i.e., Number of nodes and Number of edges.\n",
    "2) Training GCN model through dropNodes and dropEdges"
   ]
  },
  {
   "cell_type": "markdown",
   "id": "8eb3bddb-c71c-44f5-a1f0-40671ea155ed",
   "metadata": {
    "jp-MarkdownHeadingCollapsed": true
   },
   "source": [
    "### Assignment 2. Load the  Citeseer dataset from Torch Geometric.\n",
    "\n",
    "Questions: Train the GCNII model with Citeseer dataset\n"
   ]
  }
 ],
 "metadata": {
  "kernelspec": {
   "display_name": "Python 3 (ipykernel)",
   "language": "python",
   "name": "python3"
  },
  "language_info": {
   "codemirror_mode": {
    "name": "ipython",
    "version": 3
   },
   "file_extension": ".py",
   "mimetype": "text/x-python",
   "name": "python",
   "nbconvert_exporter": "python",
   "pygments_lexer": "ipython3",
   "version": "3.8.16"
  }
 },
 "nbformat": 4,
 "nbformat_minor": 5
}
